{
 "cells": [
  {
   "cell_type": "markdown",
   "metadata": {},
   "source": [
    "**Estimação de Pâramentros** <p4>"
   ]
  },
  {
   "cell_type": "code",
   "execution_count": 3,
   "metadata": {},
   "outputs": [
    {
     "name": "stdout",
     "output_type": "stream",
     "text": [
      "Z = 1.959963984540054\n"
     ]
    }
   ],
   "source": [
    "# Estimação de Pâramentros\n",
    "\n",
    "import scipy.stats as st\n",
    "nivel_de_confiancia = 0.95\n",
    "nivel_de_siginificancia = 1 - nivel_de_confiancia\n",
    "Z = abs(st.norm.ppf(nivel_de_siginificancia/2))\n",
    "print(f'Z = {Z}')"
   ]
  },
  {
   "cell_type": "markdown",
   "metadata": {},
   "source": [
    "**Intervalo de Confiança** <p>"
   ]
  },
  {
   "cell_type": "code",
   "execution_count": 5,
   "metadata": {},
   "outputs": [
    {
     "name": "stdout",
     "output_type": "stream",
     "text": [
      "Intervalo de Confianca = (0.00506060524752664, 0.025060605247526638)\n"
     ]
    }
   ],
   "source": [
    "# Intervalo de Confiança\n",
    "import math\n",
    "tamanho_populacao = 60\n",
    "desvio_padrao = 0.020\n",
    "desvio_padrao_amostral=desvio_padrao/math.sqrt(tamanho_populacao)\n",
    "media_amostral = 0.01\n",
    "lim_sup = media_amostral + Z*desvio_padrao_amostral\n",
    "lim_inf = media_amostral - Z*desvio_padrao_amostral\n",
    "intervalo_de_confianca = media_amostral - lim_inf, media_amostral+lim_sup\n",
    "print(f'Intervalo de Confianca = {intervalo_de_confianca}')"
   ]
  }
 ],
 "metadata": {
  "kernelspec": {
   "display_name": "Python 3",
   "language": "python",
   "name": "python3"
  },
  "language_info": {
   "codemirror_mode": {
    "name": "ipython",
    "version": 3
   },
   "file_extension": ".py",
   "mimetype": "text/x-python",
   "name": "python",
   "nbconvert_exporter": "python",
   "pygments_lexer": "ipython3",
   "version": "3.12.0"
  }
 },
 "nbformat": 4,
 "nbformat_minor": 2
}
