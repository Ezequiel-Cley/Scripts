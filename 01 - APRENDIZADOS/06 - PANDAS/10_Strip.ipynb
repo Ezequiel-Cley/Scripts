{
 "cells": [
  {
   "cell_type": "markdown",
   "metadata": {},
   "source": [
    "## Strip de Strings em DataFrames do Pandas\n",
    "\n",
    "Cuidado para não confundir. Vimos o Split e agora veremos o Strip. São funções diferentes.\n",
    "\n",
    "O Split divide a string. O Strip remove caracteres da string. Veja os exemplos."
   ]
  },
  {
   "cell_type": "code",
   "execution_count": 1,
   "metadata": {},
   "outputs": [],
   "source": [
    "import pandas as pd\n",
    "# Primeiro importamos um dataset\n",
    "dsa_df = pd.read_csv(\"dataset.csv\")"
   ]
  },
  {
   "cell_type": "code",
   "execution_count": 2,
   "metadata": {},
   "outputs": [
    {
     "data": {
      "text/plain": [
       "0    2016-11-08\n",
       "1    2016-11-08\n",
       "2    2016-06-12\n",
       "Name: Data_Pedido, dtype: object"
      ]
     },
     "execution_count": 2,
     "metadata": {},
     "output_type": "execute_result"
    }
   ],
   "source": [
    "dsa_df['Data_Pedido'].head(3)"
   ]
  },
  {
   "cell_type": "markdown",
   "metadata": {},
   "source": [
    "A coluna 'Data_Pedido' é a data de envio do produto no formato YYYY-MM-DD. Imagine que seja necessário deixar o ano apenas com 2 dígitos sem alterar o tipo da variável. Fazemos isso com a função lstrip(), ou seja, left strip."
   ]
  },
  {
   "cell_type": "code",
   "execution_count": 3,
   "metadata": {},
   "outputs": [
    {
     "data": {
      "text/plain": [
       "0       16-11-08\n",
       "1       16-11-08\n",
       "2       16-06-12\n",
       "3       15-10-11\n",
       "4       15-10-11\n",
       "          ...   \n",
       "9989    14-01-21\n",
       "9990    17-02-26\n",
       "9991    17-02-26\n",
       "9992    17-02-26\n",
       "9993    17-05-04\n",
       "Name: Data_Pedido, Length: 9994, dtype: object"
      ]
     },
     "execution_count": 3,
     "metadata": {},
     "output_type": "execute_result"
    }
   ],
   "source": [
    "# Vamos remover os dígitos 2 e 0 à esquerda do valor da variável 'Data_Pedido'\n",
    "dsa_df['Data_Pedido'].str.lstrip('20')"
   ]
  },
  {
   "cell_type": "markdown",
   "metadata": {},
   "source": [
    "Como não usamos o inplace = True a mudança é somente na memória e não altera o dataframe. Podemos usar ainda as funções rstrip() e strip() com diferentes variações de strip de strings."
   ]
  },
  {
   "cell_type": "code",
   "execution_count": 4,
   "metadata": {},
   "outputs": [
    {
     "data": {
      "text/plain": [
       "0    2016-11-08\n",
       "1    2016-11-08\n",
       "2    2016-06-12\n",
       "Name: Data_Pedido, dtype: object"
      ]
     },
     "execution_count": 4,
     "metadata": {},
     "output_type": "execute_result"
    }
   ],
   "source": [
    "dsa_df['Data_Pedido'].head(3)"
   ]
  }
 ],
 "metadata": {
  "kernelspec": {
   "display_name": "Python 3",
   "language": "python",
   "name": "python3"
  },
  "language_info": {
   "codemirror_mode": {
    "name": "ipython",
    "version": 3
   },
   "file_extension": ".py",
   "mimetype": "text/x-python",
   "name": "python",
   "nbconvert_exporter": "python",
   "pygments_lexer": "ipython3",
   "version": "3.12.0"
  }
 },
 "nbformat": 4,
 "nbformat_minor": 2
}
