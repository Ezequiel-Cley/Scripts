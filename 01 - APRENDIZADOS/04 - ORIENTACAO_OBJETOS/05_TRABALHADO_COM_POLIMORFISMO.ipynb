{
 "cells": [
  {
   "cell_type": "markdown",
   "metadata": {},
   "source": [
    "# Trabalhado com Polimorfismo de Classes em Python\n",
    "\n",
    "Polimorfismo é um dos conceitos fundamentias da programação Orientada a Objetos (POO). O polimorfismo permite que objetos de diferentes classes possam ser tratados de forma uniforme. Isso significa que um obejto pode ser tratado como se fosse um objeto de uma superclasse, mesmo que ele seja de uma subclasse.\n",
    "\n",
    "Mais especificamente, o polimorfismo se refere à habilidade de um objeto responder de diferentes formas a uma mesma mensagem. Isso é possível porque as subclaases podem implementar métodos com o mesmo nome que os métodos da superclasse, mas com comportamentos diferentes.\n",
    "\n",
    "Com o Polimorfismo, os mesmo atributos e métodos podem ser utilizados em objetos distintos, porém, com implementações lógicas diferentes."
   ]
  },
  {
   "cell_type": "code",
   "execution_count": 1,
   "metadata": {},
   "outputs": [],
   "source": [
    "# SuperClasse\n",
    "class Veiculo:\n",
    "\t\n",
    "\tdef __init__(self, marca, modelo):\n",
    "\t\tself.marca = marca\n",
    "\t\tself.modelo = modelo\n",
    "\t\t\n",
    "\tdef acelerar(self):\n",
    "\t\tpass\n",
    "\t\t\n",
    "\tdef frear(self):\n",
    "\t\tpass"
   ]
  },
  {
   "cell_type": "code",
   "execution_count": 2,
   "metadata": {},
   "outputs": [],
   "source": [
    "#SubClasse 01 \n",
    "class Carro(Veiculo):\n",
    "\t\n",
    "\tdef acelerar(self):\n",
    "\t\tprint(\"O carro está acelerando.\")\n",
    "\t\t\n",
    "\tdef frear(self):\n",
    "\t\tprint(\"O carro está freando.\")"
   ]
  },
  {
   "cell_type": "code",
   "execution_count": 4,
   "metadata": {},
   "outputs": [],
   "source": [
    "# SubClasse 02\n",
    "class Moto(Veiculo):\n",
    "\t\n",
    "\tdef acelerar(self):\n",
    "\t\tprint(\"A moto está acelerando.\")\n",
    "\t\t\n",
    "\tdef frear(self):\n",
    "\t\tprint(\"A moto está freando.\")"
   ]
  },
  {
   "cell_type": "code",
   "execution_count": 5,
   "metadata": {},
   "outputs": [],
   "source": [
    "# SubClasse 03\n",
    "class Aviao(Veiculo):\n",
    "\t\n",
    "\tdef acelerar(self):\n",
    "\t\tprint(\"O avião está acelerando.\")\n",
    "\t\t\n",
    "\tdef frear(self):\n",
    "\t\tprint(\"O avião está freando.\")\t\n",
    "\t\t\n",
    "\tdef decolar(self):\n",
    "\t\tprint(\"O avião está decolando.\")"
   ]
  },
  {
   "cell_type": "code",
   "execution_count": 6,
   "metadata": {},
   "outputs": [],
   "source": [
    "# Cria os Objetos\n",
    "lista_veiculos = [Carro(\"Porsche\", \"911 Turbo\"), Moto(\"Honda\", \"CB 1000R Black Edition\"), Aviao(\"Boeing\", \"757\")]"
   ]
  },
  {
   "cell_type": "code",
   "execution_count": 7,
   "metadata": {},
   "outputs": [
    {
     "name": "stdout",
     "output_type": "stream",
     "text": [
      "O carro está acelerando.\n",
      "O carro está freando.\n",
      "------\n",
      "A moto está acelerando.\n",
      "A moto está freando.\n",
      "------\n",
      "O avião está acelerando.\n",
      "O avião está freando.\n",
      "O avião está decolando.\n",
      "------\n"
     ]
    }
   ],
   "source": [
    "# Loop\n",
    "for item in lista_veiculos:\n",
    "\t\n",
    "\t# O método acelerar tem comportamento diferente depedendo do tipo de objeto\n",
    "\titem.acelerar()\n",
    "\t\n",
    "\t# O método frear tem comportamento diferente depedendo do tipo de obejto\n",
    "\titem.frear()\n",
    "\t\n",
    "\t# Exectuamos o método declorar somente se o objeto for instância da classe Avião\n",
    "\tif isinstance(item, Aviao):\n",
    "\t\titem.decolar()\n",
    "\t\t\n",
    "\tprint(\"------\")"
   ]
  }
 ],
 "metadata": {
  "kernelspec": {
   "display_name": "Python 3",
   "language": "python",
   "name": "python3"
  },
  "language_info": {
   "codemirror_mode": {
    "name": "ipython",
    "version": 3
   },
   "file_extension": ".py",
   "mimetype": "text/x-python",
   "name": "python",
   "nbconvert_exporter": "python",
   "pygments_lexer": "ipython3",
   "version": "3.12.0"
  }
 },
 "nbformat": 4,
 "nbformat_minor": 2
}
