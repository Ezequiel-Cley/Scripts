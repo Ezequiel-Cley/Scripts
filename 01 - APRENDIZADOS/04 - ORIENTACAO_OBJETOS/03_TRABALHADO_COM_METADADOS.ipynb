{
 "cells": [
  {
   "cell_type": "markdown",
   "metadata": {},
   "source": [
    "# Trabalhado com Métodos de Classe em Python\n",
    "\n",
    "Em Python, os métodos de classes são funções definidas dentro de uma classe, que realizam operações específicas em objetos criados a partir dessa classe. Os métodos de classes são usados para implementar o comportamento dos objetos que pertecem a essa classe.\n",
    "\n",
    "Assim como as funções em Python, os métodos de classes podem receber argumentos e retornar valores, No entanto, diferentemente das funções normais, os métodos de classes sempre incluem o parâmetro self como o primeiro argumento, que é usado para se referir ao objeto atual da classe.\n",
    "\n",
    "O método init é um método especial que é chamado quando um objeot é criado a partir da classe. Este método é usado para inicializar os atributos do objeto. Outros métodos podem ser difinidos para executar tarefas específicas em um objeto, como calculcar valores, realizar opearações de entrada e saída, ou alterar o estado do objeto.\n"
   ]
  },
  {
   "cell_type": "code",
   "execution_count": 1,
   "metadata": {},
   "outputs": [],
   "source": [
    "#  Criando uma classe chamada Circulo\n",
    "class Circulo():\n",
    "\t# O valor de pi é constante\n",
    "\tpi = 3.14\n",
    "\t\n",
    "\t# quando um objeto desta classe for criado, este método será executado e o valor default do raio será 5.\n",
    "\tdef __init__ (self, raio = 5):\n",
    "\t\tself.raio = raio\n",
    "\t\t\n",
    "\t# Esse método calcula a área.\n",
    "\tdef area(self):\n",
    "\t\treturn (self.raio * self.raio) * Circulo.pi\n",
    "\t\t\n",
    "\t# Método para gerar um novo raio\n",
    "\tdef setRaio(self, novo_raio):\n",
    "\t\tself.raio = novo_raio\n",
    "\t\t\n",
    "\t# Método para obter o raio do círculo\n",
    "\tdef getRaio(self):\n",
    "\t\treturn self.raio\n"
   ]
  },
  {
   "cell_type": "code",
   "execution_count": 2,
   "metadata": {},
   "outputs": [],
   "source": [
    "# Criando o objeto circ, uma instância da classe Circulo()\n",
    "circ = Circulo()"
   ]
  },
  {
   "cell_type": "code",
   "execution_count": 3,
   "metadata": {},
   "outputs": [
    {
     "data": {
      "text/plain": [
       "5"
      ]
     },
     "execution_count": 3,
     "metadata": {},
     "output_type": "execute_result"
    }
   ],
   "source": [
    "# Executando um método da classe Circulo\n",
    "circ.getRaio()"
   ]
  },
  {
   "cell_type": "code",
   "execution_count": 7,
   "metadata": {},
   "outputs": [],
   "source": [
    "# Criando outro objeto chamado circ1. Uma instância da classe Circulo()\n",
    "# Agora sobrescrevendo o valor do atributos\n",
    "circ1 = Circulo(7)"
   ]
  },
  {
   "cell_type": "code",
   "execution_count": 8,
   "metadata": {},
   "outputs": [
    {
     "data": {
      "text/plain": [
       "7"
      ]
     },
     "execution_count": 8,
     "metadata": {},
     "output_type": "execute_result"
    }
   ],
   "source": [
    "# Executando um método da classe Circulo\n",
    "circ1.getRaio()"
   ]
  },
  {
   "cell_type": "code",
   "execution_count": 18,
   "metadata": {},
   "outputs": [
    {
     "name": "stdout",
     "output_type": "stream",
     "text": [
      "O raio é:  5\n"
     ]
    }
   ],
   "source": [
    "# Imprimindo o raio\n",
    "print('O raio é: ', circ.getRaio())"
   ]
  },
  {
   "cell_type": "code",
   "execution_count": 19,
   "metadata": {},
   "outputs": [
    {
     "name": "stdout",
     "output_type": "stream",
     "text": [
      "Área igual a:  78.5\n"
     ]
    }
   ],
   "source": [
    "# Imprimindo a área\n",
    "print('Área igual a: ', circ.area())"
   ]
  },
  {
   "cell_type": "code",
   "execution_count": 20,
   "metadata": {},
   "outputs": [],
   "source": [
    "# Gerando um novo valor para o raio do círculo\n",
    "circ.setRaio(3)"
   ]
  },
  {
   "cell_type": "code",
   "execution_count": 21,
   "metadata": {},
   "outputs": [
    {
     "name": "stdout",
     "output_type": "stream",
     "text": [
      "Novo raio igual a:  3\n"
     ]
    }
   ],
   "source": [
    "# Imprimindo o novo raio\n",
    "print('Novo raio igual a: ', circ.getRaio())"
   ]
  },
  {
   "cell_type": "code",
   "execution_count": 23,
   "metadata": {},
   "outputs": [
    {
     "name": "stdout",
     "output_type": "stream",
     "text": [
      "Nova area é igual a:  28.26\n"
     ]
    }
   ],
   "source": [
    "# Imprimindo a nova area\n",
    "print('Nova area é igual a: ', circ.area())"
   ]
  }
 ],
 "metadata": {
  "kernelspec": {
   "display_name": "Python 3",
   "language": "python",
   "name": "python3"
  },
  "language_info": {
   "codemirror_mode": {
    "name": "ipython",
    "version": 3
   },
   "file_extension": ".py",
   "mimetype": "text/x-python",
   "name": "python",
   "nbconvert_exporter": "python",
   "pygments_lexer": "ipython3",
   "version": "3.12.0"
  }
 },
 "nbformat": 4,
 "nbformat_minor": 2
}
