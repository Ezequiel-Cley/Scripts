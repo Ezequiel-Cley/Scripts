{
 "cells": [
  {
   "cell_type": "markdown",
   "metadata": {},
   "source": [
    "#1. - Sintaxe básica <p>\n",
    "\n",
    "    Podemos utilziar ' ' (aspas simples)\n",
    "    Podemos utilziar \" \" (aspas duplas)\n",
    "    Utilizando o \\n para pular uma linha na impressão do valor\n",
    "    Usamos o hastgag # para comentar algo"
   ]
  },
  {
   "cell_type": "code",
   "execution_count": 1,
   "metadata": {},
   "outputs": [
    {
     "name": "stdout",
     "output_type": "stream",
     "text": [
      "Olá Mundão!!! \n",
      "\n",
      "Olá Mundão!!!\n"
     ]
    }
   ],
   "source": [
    "# Sintaxe básica\n",
    "print('Olá Mundão!!! \\n')\n",
    "print(\"Olá Mundão!!!\")"
   ]
  },
  {
   "cell_type": "markdown",
   "metadata": {},
   "source": [
    "#2 . - Operadores matemáticos <p>\n",
    "\n",
    "    Os operadores são usados ​​para realizar operações em variáveis ​​e valores:\n",
    "    1. Soma\n",
    "    2. Subtração\n",
    "    3. Multiplicação\n",
    "    4. Divisão\n",
    "    5. Exponenciação\n",
    "    6. Resto da Divisão\n",
    "    7. Divisão de Chão"
   ]
  },
  {
   "cell_type": "code",
   "execution_count": 1,
   "metadata": {},
   "outputs": [
    {
     "name": "stdout",
     "output_type": "stream",
     "text": [
      "Somar:3\n",
      "Subtração: 0\n",
      "Multiplacação: 20\n",
      "Divisão 5.0\n",
      "Exponenciação: 4\n",
      "Resto_Divisao 1\n",
      "Divisao_Chão: 2\n",
      "Varios elementos: 3, 0, 5.0\n"
     ]
    }
   ],
   "source": [
    "# Operadores para cálculos\n",
    "Soma = 1 + 2\n",
    "Subtração = 1 - 1\n",
    "Multiplicação = 2 * 10\n",
    "Divisão = 10 / 2\n",
    "Exponenciação = 2 ** 2\n",
    "Resto_Divisao = 9 % 4\n",
    "Divisao_Chão = 9 // 4\n",
    "\n",
    "# Print formatado\n",
    "print( 'Somar:{}'.format(Soma) ) \n",
    "print( 'Subtração:', Subtração ) \n",
    "print( f'Multiplacação: {Multiplicação}' )\n",
    "\n",
    "print( 'Divisão', Divisão ) \n",
    "print( 'Exponenciação: {}' .format(Exponenciação) )\n",
    "print( 'Resto_Divisao', Resto_Divisao )\n",
    "print( 'Divisao_Chão: {}'.format(Divisao_Chão) )\n",
    "print( 'Varios elementos: {}, {}, {}'.format(Soma, Subtração, Divisão) )"
   ]
  },
  {
   "cell_type": "markdown",
   "metadata": {},
   "source": [
    "3º Variáveis <p>\n",
    "    Variáveis ​​são contêineres para armazenar valores de dados.\n",
    "    Uma variável é criada no momento em que você atribui um valor a ela."
   ]
  },
  {
   "cell_type": "code",
   "execution_count": 2,
   "metadata": {},
   "outputs": [
    {
     "name": "stdout",
     "output_type": "stream",
     "text": [
      "100 100 \n",
      "\n",
      "10.5 10.5 \n",
      "\n",
      "Qualquer Palavra Qualquer Palavra \n",
      "\n",
      "True False \n",
      "\n"
     ]
    }
   ],
   "source": [
    "# Tipos de Variaveis\n",
    "Inteiro_Exemplo_1 = int ( 100 )\n",
    "Inteiro_Exemplo_2 = 100\n",
    "\n",
    "Flutuante_Exemplo_1 = 10.50\n",
    "Flutuante_Exemplo_2 = float( 10.50 )\n",
    "\n",
    "Palavra_Exemplo_1 = 'Qualquer Palavra'\n",
    "Palavra_Exemplo_2 = str( 'Qualquer Palavra' )\n",
    "\n",
    "Booleando_Exemplo_1 = True \n",
    "Booleando_Exemplo_2 = False\n",
    "\n",
    "print( Inteiro_Exemplo_1, Inteiro_Exemplo_2, '\\n' )\n",
    "print( Flutuante_Exemplo_1, Flutuante_Exemplo_2, '\\n' )\n",
    "print( Palavra_Exemplo_1, Palavra_Exemplo_2, '\\n' )\n",
    "print( Booleando_Exemplo_1, Booleando_Exemplo_2, '\\n' )"
   ]
  },
  {
   "cell_type": "markdown",
   "metadata": {},
   "source": [
    "4º Tipos de Dados <p>\n",
    "    Listas - São criadas usando [ ] (Colchetes)\n",
    "    Tuplas - São criadas usando ( ) (Parenteses)\n",
    "    Dicionários - São criadas usando { } (Chaves)\n",
    "    Esses tipos de dados podem receber qualquer tipo de informação, inclusive Operações Aritméticas"
   ]
  },
  {
   "cell_type": "code",
   "execution_count": 3,
   "metadata": {},
   "outputs": [
    {
     "name": "stdout",
     "output_type": "stream",
     "text": [
      "[1, 2, 3, 4, 5]\n",
      "['Nome', 'Quarto', 'Morango', 4, 5]\n",
      "[1, 'Quarto', True, False] \n",
      "\n",
      "(2, 3, 4, 6)\n",
      "('Odemir', 'Depieri', 4) \n",
      "\n",
      "{'Nome': 'Odemir', 'Idade': 29}\n"
     ]
    }
   ],
   "source": [
    "# Tipos de Dados\n",
    "Lista_Exemplo_1 = [1, 2, 3, 4, 5]\n",
    "Lista_Exemplo_2 = ['Nome', 'Quarto', 'Morango', 4, 5]\n",
    "Lista_Exemplo_3 = [1, 'Quarto', True, False]\n",
    "\n",
    "# Tuplas são imutaveis (Não modifica)\n",
    "Tupla_Exemplo_1 = ( 2, 3, 4, 6 )\n",
    "Tupla_Exemplo_2 = ( 'Odemir', 'Depieri', 4 )\n",
    "\n",
    "# Dicionário são para organizar os dados (Chave, Valor)\n",
    "Dicionario = { 'Nome':'Odemir', 'Idade':29 }\n",
    "\n",
    "print( Lista_Exemplo_1 )\n",
    "print( Lista_Exemplo_2 )\n",
    "print( Lista_Exemplo_3, '\\n' )\n",
    "\n",
    "print( Tupla_Exemplo_1 )\n",
    "print( Tupla_Exemplo_2, '\\n' )\n",
    "\n",
    "print( Dicionario )"
   ]
  },
  {
   "cell_type": "markdown",
   "metadata": {},
   "source": [
    "6º Tipo da Informação <p>\n",
    "\n",
    "    Na programação, o tipo de dados é um conceito importante. Variáveis ​​podem armazenar dados de diferentes tipos, e diferentes tipos podem fazer coisas diferentes. O Python tem os seguintes tipos de dados integrados por padrão, nestas categorias:\n",
    "\n",
    "    Text Type: str\n",
    "    Numeric Types: int, float, complex\n",
    "    Sequence Types: list, tuple, range\n",
    "    Mapping Type: dict\n",
    "    Set Types: set, frozenset\n",
    "    Boolean Type: bool\n",
    "    Binary Types: bytes, bytearray, memoryview"
   ]
  },
  {
   "cell_type": "code",
   "execution_count": 4,
   "metadata": {},
   "outputs": [
    {
     "name": "stdout",
     "output_type": "stream",
     "text": [
      "<class 'str'>\n",
      "<class 'int'>\n",
      "<class 'float'>\n",
      "<class 'complex'>\n",
      "<class 'list'>\n",
      "<class 'tuple'>\n",
      "<class 'range'>\n",
      "<class 'dict'>\n",
      "<class 'set'>\n",
      "<class 'frozenset'>\n",
      "<class 'bool'>\n",
      "<class 'bytes'>\n",
      "<class 'bytearray'>\n",
      "<class 'memoryview'>\n",
      "<class 'datetime.date'>\n"
     ]
    }
   ],
   "source": [
    "# Criando tipos de informações\n",
    "String = str('Olá Mundo!')\n",
    "Inteiro = int(10)\n",
    "Flutuante = float(10.99)\n",
    "Complex = complex(1j)\n",
    "Lista = list( ('Maça', 'Morango', 'Pera') )\n",
    "Tupla = tuple( ('Maça', 'Morango', 'Pera') )\n",
    "Range = range(6)\n",
    "Dicionario = dict(nome='Odemir', age=29)\n",
    "Set = set( ('Maça', 'Morango', 'Pera') )\n",
    "Fronzet = frozenset( ('Maça', 'Morango', 'Pera') )\n",
    "Boleano = bool(5)\n",
    "Bytes = bytes(5)\n",
    "ByteArray = bytearray(5)\n",
    "Memoryview = memoryview( bytes(5) )\n",
    "\n",
    "from datetime import datetime\n",
    "Data = datetime.today().date()\n",
    "\n",
    "# Mostrando os Valores\n",
    "print( type(String) )\n",
    "print( type(Inteiro) )\n",
    "print( type(Flutuante) )\n",
    "print( type(Complex) )\n",
    "print( type(Lista) )\n",
    "print( type(Tupla) )\n",
    "print( type(Range) )\n",
    "print( type(Dicionario) )\n",
    "print( type(Set) )\n",
    "print( type(Fronzet) )\n",
    "print( type(Boleano) )\n",
    "print( type(Bytes) )\n",
    "print( type(ByteArray) )\n",
    "print( type(Memoryview) )\n",
    "print( type(Data) )"
   ]
  },
  {
   "cell_type": "markdown",
   "metadata": {},
   "source": [
    "7º Comando Round <p>\n",
    "\n",
    "    Quando trabalhamos com números flutuantes, podemos arredondar o valor usando um comando nativo do Python\n",
    "\n",
    "    round( valor, número de casas)"
   ]
  },
  {
   "cell_type": "code",
   "execution_count": 5,
   "metadata": {},
   "outputs": [
    {
     "name": "stdout",
     "output_type": "stream",
     "text": [
      "12.1\n",
      "12.12\n",
      "12.123\n",
      "12.12346\n"
     ]
    }
   ],
   "source": [
    "# Comando Round\n",
    "# Metodo round, arredonda valores\n",
    "\n",
    "Valor_Exemplo = 12.123456789\n",
    "\n",
    "print( round( Valor_Exemplo, 1 ) )\n",
    "print( round( Valor_Exemplo, 2 ) )\n",
    "print( round( Valor_Exemplo, 3 ) )\n",
    "print( round( Valor_Exemplo, 5 ) )"
   ]
  },
  {
   "cell_type": "markdown",
   "metadata": {},
   "source": [
    "8º Comando Len <p>\n",
    "\n",
    "    A função len() retorna a quantidade de elementos de qualquer lista em Python, essa é mais uma função built-in e disponível em qualquer parte dos nossos códigos."
   ]
  },
  {
   "cell_type": "code",
   "execution_count": 6,
   "metadata": {},
   "outputs": [
    {
     "name": "stdout",
     "output_type": "stream",
     "text": [
      "5\n",
      "3\n",
      "2\n",
      "11\n"
     ]
    }
   ],
   "source": [
    "Lista = [1, 2, 3, 4, 5]\n",
    "Dicionario = { 'Nome':'Odemir', 'Idade':29, 'Vip':False }\n",
    "Tupla = (10, 20)\n",
    "String = 'Olá Mundão!'\n",
    "\n",
    "print( len(Lista) )\n",
    "print( len(Dicionario) )\n",
    "print( len(Tupla) )\n",
    "print( len(String) )"
   ]
  },
  {
   "cell_type": "markdown",
   "metadata": {},
   "source": [
    "9º Fatiamento de Strings <p>\n",
    "    Strings são listas de bytes represetando caracteres.\n",
    "\n",
    "    Podemos acessar suas posições usando Colchetes\n",
    "\n",
    "    String [Posição Inicial: Posição Final]"
   ]
  },
  {
   "cell_type": "code",
   "execution_count": 7,
   "metadata": {},
   "outputs": [
    {
     "name": "stdout",
     "output_type": "stream",
     "text": [
      "<class 'str'>\n",
      "22\n",
      "A\n",
      "d\n",
      "!\n",
      "hon é Top!\n",
      "Aprender p\n"
     ]
    }
   ],
   "source": [
    "# Strings\n",
    "Minha_String = 'Aprender python é Top!'\n",
    "print( type(Minha_String) )\n",
    "print( len(Minha_String) )\n",
    "\n",
    "print( Minha_String[0] )\n",
    "print( Minha_String[5] )\n",
    "print( Minha_String[-1] )\n",
    "print( Minha_String[-10:] )\n",
    "print( Minha_String[0:10] )"
   ]
  },
  {
   "cell_type": "markdown",
   "metadata": {},
   "source": [
    "10° Manipulação de Strings <p>\n",
    "    Um tipo de dados bastante usado no dia a dia são as strings, ou cadeias de caracteres (ou sequências de caracteres). O tipo de dados string, ou str como é chamado em Python, possui várias operações úteis associadas a ele. Essas operações tornam Python uma linguagem bastante propícia para manipulação de textos. Algumas funções mais utilizadas:\n",
    "\n",
    "    replace() >\n",
    "    startswith() \n",
    "    endswith()\n",
    "    count()\n",
    "    capitalize()\n",
    "    isdigit()\n",
    "    isalnum()\n",
    "    upper()\n",
    "    lower()\n",
    "    find ()\n",
    "    strip()\n",
    "    split()"
   ]
  },
  {
   "cell_type": "code",
   "execution_count": 8,
   "metadata": {},
   "outputs": [
    {
     "name": "stdout",
     "output_type": "stream",
     "text": [
      "Olá Mundão!\n",
      "<class 'str'>\n",
      "11\n",
      "Olá Mundão! Estou aprendendo Python...\n",
      "Olá Mundo Louco :X!\n",
      "True\n",
      "False\n",
      "1\n",
      "Odemir depieri\n",
      "True\n",
      "False\n",
      "True\n",
      "OLÁ MUNDÃO!\n",
      "olá mundão!\n",
      "10\n",
      "Olá Mundão!\n",
      "['Loja 1 vendou 10', ' Loja 2 vendou 20', ' Loja 3 vendou 30 ']\n"
     ]
    }
   ],
   "source": [
    "# Imprimindo uma string.\n",
    "String = 'Olá Mundão!'\n",
    "print( String )\n",
    "\n",
    "# Tipo de uma string.\n",
    "print( type( String ) )\n",
    "\n",
    "# Tamanho de uma string.\n",
    "print( len( String ) )\n",
    "\n",
    "# Concatenação\n",
    "print( String + ' Estou aprendendo Python...' )\n",
    "\n",
    "# Substitui uma substring por alguma outra coisa.\n",
    "Substituir = String.replace('Mundão', 'Mundo Louco :X')\n",
    "print( Substituir )\n",
    "\n",
    "# A string s começa com \"Olá\"?\n",
    "print( String.startswith('Olá') )\n",
    "\n",
    "# A string termina com \"mundo\"?\n",
    "print( String.endswith('mundo') )\n",
    "\n",
    "# Quantas ocorrências da palavra \"M\" a string possui?\n",
    "print( String.count('M') )\n",
    "\n",
    "# Capitalize - Transformar a primeira letra da primeira palavra em maiúscula.\n",
    "String_02 = 'Ezequiel Moreira'\n",
    "print( String_02.capitalize() )\n",
    "\n",
    "# Verificar se uma string só possui números.\n",
    "String_03 = '123456789'\n",
    "String_04 = '123456789ABC'\n",
    "print( String_03.isdigit() )\n",
    "print( String_04.isdigit() )\n",
    "\n",
    "# Verificar se uma string é alfanumérica (só possui letras e números).\n",
    "print( '12345abc'.isalnum() )\n",
    "\n",
    "# Transformar tudo em Maiusculo\n",
    "print( String.upper() )\n",
    "\n",
    "# Transformar tudo em Minúsculo\n",
    "print( String.lower() )\n",
    "\n",
    "# Procurar algo na string\n",
    "print( String.find('!') )\n",
    "\n",
    "# Removendo espaçoes antes e fim da palavra\n",
    "String_05 =' Olá Mundão! '\n",
    "print( String_05.strip() )\n",
    "\n",
    "# Removendo espaçoes antes e fim da palavra\n",
    "String_06 ='Loja 1 vendou 10, Loja 2 vendou 20, Loja 3 vendou 30 '\n",
    "print( String_06.split(',') )"
   ]
  },
  {
   "cell_type": "markdown",
   "metadata": {},
   "source": [
    "11º Comando Input <p>\n",
    "    A função input() recebe como parâmetro uma string que será mostrada como auxílio ao usuário, geralmente o informando que tipo de dado o programa está aguardando receber.\n",
    "\n",
    "    input()"
   ]
  },
  {
   "cell_type": "code",
   "execution_count": 10,
   "metadata": {},
   "outputs": [
    {
     "name": "stdout",
     "output_type": "stream",
     "text": [
      "Seu nome é: Ezequiel\n",
      "Sua idade: 25\n"
     ]
    }
   ],
   "source": [
    "# Comando input\n",
    "# Enviar uma informação momentânea\n",
    "\n",
    "Nome = input('Qual seu nome? ')\n",
    "Idade = input('Quantos anos você tem? ')\n",
    "\n",
    "print('Seu nome é:', Nome)\n",
    "print('Sua idade:', Idade)"
   ]
  },
  {
   "cell_type": "markdown",
   "metadata": {},
   "source": [
    "12º Operadores de Comparação <p>\n",
    "Os operadores de comparação são usados ​​para comparar dois valores:\n",
    "\n",
    "    '==' ( Igual a )\n",
    "    '!=' ( Diferente )\n",
    "    '>' ( Maior )\n",
    "    '<' ( Menor )\n",
    "    '>=' ( Maior igual )\n",
    "    '<=' ( Menor igual )"
   ]
  },
  {
   "cell_type": "code",
   "execution_count": 11,
   "metadata": {},
   "outputs": [
    {
     "name": "stdout",
     "output_type": "stream",
     "text": [
      "8 é maior que 7: True\n",
      "8 é menor que 7: False\n",
      "8 é igual 7: False\n",
      "10 é maior 10: False\n",
      "10 é maior ou igual à 10: True\n",
      "10 é menor 10: False\n",
      "10 é menor ou igual à 10: True\n"
     ]
    }
   ],
   "source": [
    "# Operadores de Comparações - Parte 1\n",
    "Igual = '=='\n",
    "Diferente = '!='\n",
    "Maior = '>'\n",
    "Maior_Igual = '>='\n",
    "Menor = '<'\n",
    "Menor_Igual = '<='\n",
    "\n",
    "print('8 é maior que 7:', 8 > 7 )\n",
    "print('8 é menor que 7:', 8 < 7 )\n",
    "print('8 é igual 7:', 8 == 7 )\n",
    "print('10 é maior 10:', 10 > 10 )\n",
    "print('10 é maior ou igual à 10:', 10 >= 10 )\n",
    "print('10 é menor 10:', 10 < 10 )\n",
    "print('10 é menor ou igual à 10:', 10 <= 10 )"
   ]
  },
  {
   "cell_type": "markdown",
   "metadata": {},
   "source": [
    "13º Operadores Lógicos <p>\n",
    "    Os operadores lógicos são usados ​​para combinar instruções condicionais:\n",
    "\n",
    "    and (Retorna True se ambas as declarações forem verdadeiras)\n",
    "    or (Retorna True se uma das declarações for verdadeira)"
   ]
  },
  {
   "cell_type": "code",
   "execution_count": 12,
   "metadata": {},
   "outputs": [
    {
     "name": "stdout",
     "output_type": "stream",
     "text": [
      "8 é maior que 7 e 7 maior que 8: False\n",
      "8 é maior que 7 e 7 menor que 8: True\n",
      "8 é maior que 7 ou 7 menor que 8: False\n",
      "8 é maior que 7 ou 7 menor que 8: True\n"
     ]
    }
   ],
   "source": [
    "# Operadores de Comparações - Parte 2\n",
    "And = 'and'\n",
    "Ou = 'or'\n",
    "Negação = 'not'\n",
    "\n",
    "print('8 é maior que 7 e 7 maior que 8:', 8 > 7 and 7 > 8 )\n",
    "print('8 é maior que 7 e 7 menor que 8:', 8 > 7 and 7 < 8 )\n",
    "print('8 é maior que 7 ou 7 menor que 8:', 8 == 7 or 7 == 8 )\n",
    "print('8 é maior que 7 ou 7 menor que 8:', 8 > 7 or 7 > 8 )"
   ]
  },
  {
   "cell_type": "markdown",
   "metadata": {},
   "source": [
    "14º Operadores de Identidade <p>\n",
    "    Os operadores de identidade são usados ​​para comparar os objetos, não se forem iguais, mas se forem realmente o mesmo objeto, com a mesma localização de memória:\n",
    "\n",
    "    is (Retorna True se ambas as variáveis ​​forem o mesmo objeto)\n",
    "    is not (Retorna True se ambas as variáveis ​​não forem o mesmo objeto)"
   ]
  },
  {
   "cell_type": "code",
   "execution_count": 13,
   "metadata": {},
   "outputs": [
    {
     "name": "stdout",
     "output_type": "stream",
     "text": [
      "True\n",
      "False\n",
      "True\n",
      "True\n"
     ]
    }
   ],
   "source": [
    "String_01 = str('Olá Mundão')\n",
    "String_02 = str('Olá Mundão')\n",
    "\n",
    "print( String_01 is String_01 )\n",
    "print( String_01 is String_02 )\n",
    "print( String_01 == String_02 )\n",
    "print( type(String_01) is type(String_02) )"
   ]
  },
  {
   "cell_type": "markdown",
   "metadata": {},
   "source": [
    "15º Operadores de Associação <p>\n",
    "    Os operadores de associação são usados ​​para testar se uma sequência é apresentada em um objeto:\n",
    "\n",
    "    in (Retorna True se uma sequência com o valor especificado estiver presente no objeto)\n",
    "    not in (Retorna True se uma sequência com o valor especificado não estiver presente no objeto)"
   ]
  },
  {
   "cell_type": "code",
   "execution_count": 14,
   "metadata": {},
   "outputs": [
    {
     "name": "stdout",
     "output_type": "stream",
     "text": [
      "True\n",
      "False\n"
     ]
    }
   ],
   "source": [
    "Lista_Ações = ['Magalu', 'Via', 'Assai', 'Carrefour']\n",
    "\n",
    "print( 'Via' in Lista_Ações )\n",
    "print( 'Via' not in Lista_Ações )"
   ]
  },
  {
   "cell_type": "markdown",
   "metadata": {},
   "source": [
    "16º Manipulando Listas <p>\n",
    "    As listas são usadas para armazenar vários itens em uma única variável.\n",
    "\n",
    "    As listas são um dos 4 tipos de dados internos do Python usados ​​para armazenar coleções de dados, os outros 3 são Tuple , Set e Dictionary , todos com qualidades e usos diferentes.\n",
    "\n",
    "    Comandos mais utilizados:\n",
    "\n",
    "    append() - Para adicionar um item ao final da lista\n",
    "    len() - Calcular o tamanho da lista\n",
    "    [ ] - Acessar posições\n",
    "    del() - Exlcuir um elemtno\n",
    "    clear() - Limpar a lista\n",
    "    insert() - Para inserir um item de lista em um índice especificado\n",
    "    extend() - Anexar elementos de outra lista à lista atual\n",
    "    remove() - Remove o item especificado\n",
    "    pop() - Remove o índice especificado.\n",
    "    sort() - Ordenar os valores\n",
    "    copy() - Faz uma copia da Lista\n",
    "    index() - Retorna o index do elemento da lista"
   ]
  },
  {
   "cell_type": "code",
   "execution_count": 15,
   "metadata": {},
   "outputs": [
    {
     "name": "stdout",
     "output_type": "stream",
     "text": [
      "Lista antes: [] \n",
      "\n",
      "Lista Depois: [1, 2, 3] \n",
      "\n",
      "Lista contém: 3 elementos \n",
      "\n",
      "Acessando o 1º Elemento: 1\n",
      "Acessando o 2º Elemento: 2\n",
      "Acessando o último Elemento: 3\n",
      "Acessando um periodo: [1, 2] \n",
      "\n",
      "Depois da exclusão: [1, 3] \n",
      "\n",
      "Depois da Limpeza: None \n",
      "\n",
      "['Posição 4', 'Posição 1', 'Posição 2', 'Posição 3'] \n",
      "\n",
      "['Posição 1', 'Posição 2', 'Posição 3', 'Posição 4', 'Posição 5', 'Posição 6'] \n",
      "\n",
      "['Posição 1', 'Posição 2', 'Posição 3', 'Posição 4', 'Posição 5'] \n",
      "\n",
      "['Posição 2', 'Posição 3', 'Posição 4', 'Posição 5'] \n",
      "\n",
      "['A', 'B', 'C', 'L', 'Z'] \n",
      "\n",
      "['Z', 'L', 'C', 'B', 'A'] \n",
      "\n",
      "['Z', 'L', 'C', 'B', 'A'] \n",
      "\n",
      "1 \n",
      "\n"
     ]
    }
   ],
   "source": [
    "# Manipulando dados dentro das Lista\n",
    "Lista_Vazia = []\n",
    "print('Lista antes:', Lista_Vazia, '\\n' )\n",
    "\n",
    "# Inserindo valores na Lista\n",
    "Lista_Vazia.append(1)\n",
    "Lista_Vazia.append(2)\n",
    "Lista_Vazia.append(3)\n",
    "print('Lista Depois:', Lista_Vazia, '\\n' )\n",
    "\n",
    "# Tamanho da lista\n",
    "print('Lista contém:', len(Lista_Vazia), 'elementos', '\\n' )\n",
    "\n",
    "# Tamanho da lista\n",
    "print('Acessando o 1º Elemento:', Lista_Vazia[0] )\n",
    "print('Acessando o 2º Elemento:', Lista_Vazia[1] )\n",
    "print('Acessando o último Elemento:', Lista_Vazia[-1] )\n",
    "print('Acessando um periodo:', Lista_Vazia[0:2], '\\n' )\n",
    "\n",
    "# Excluindo valor na lista\n",
    "del Lista_Vazia[1]\n",
    "print('Depois da exclusão:', Lista_Vazia, '\\n' )\n",
    "\n",
    "# Limpando a lista\n",
    "print('Depois da Limpeza:', Lista_Vazia.clear(), '\\n' )\n",
    "\n",
    "# Inserindo um valor com uma posição\n",
    "Lista_Inserir = ['Posição 1', 'Posição 2', 'Posição 3']\n",
    "Lista_Inserir.insert( 0, 'Posição 4' )\n",
    "print( Lista_Inserir, '\\n' )\n",
    "\n",
    "# Inserindo uma lista na outra\n",
    "Lista_Inserir_01 = ['Posição 1', 'Posição 2', 'Posição 3']\n",
    "Lista_Inserir_02 = ['Posição 4', 'Posição 5', 'Posição 6']\n",
    "Lista_Inserir_01.extend( Lista_Inserir_02 )\n",
    "print( Lista_Inserir_01, '\\n' )\n",
    "\n",
    "# Removendo itens especifico pelo nome\n",
    "Lista_Inserir_01.remove('Posição 6')\n",
    "print( Lista_Inserir_01, '\\n' )\n",
    "\n",
    "# Removendo itens pelo index\n",
    "Lista_Inserir_01.pop(0)\n",
    "print( Lista_Inserir_01, '\\n' )\n",
    "\n",
    "# Ordenar uma lista\n",
    "Lista_Alfabetica = ['Z', 'C', 'A', 'B', 'L']\n",
    "Lista_Alfabetica.sort()\n",
    "print( Lista_Alfabetica, '\\n' )\n",
    "\n",
    "# Ordenar uma lista de forma inversa\n",
    "Lista_Alfabetica.sort( reverse=True )\n",
    "print( Lista_Alfabetica, '\\n' )\n",
    "\n",
    "# Copiar uma Lista\n",
    "Lista_Alfabetica_02 = Lista_Alfabetica.copy()\n",
    "print( Lista_Alfabetica_02, '\\n' )\n",
    "\n",
    "# Indetificar o Index do elemtno na lista\n",
    "print( Lista_Alfabetica_02.index('L'), '\\n' )"
   ]
  },
  {
   "cell_type": "markdown",
   "metadata": {},
   "source": [
    "17º Pacote Externo - Datetime <p>\n",
    "    O datetime módulo fornece classes para manipulação de datas e horas."
   ]
  },
  {
   "cell_type": "code",
   "execution_count": 16,
   "metadata": {},
   "outputs": [
    {
     "name": "stdout",
     "output_type": "stream",
     "text": [
      "Hoje é: 2024-04-04 \n",
      "\n",
      "Construindo uma Data 2020-10-01 \n",
      "\n",
      "Hoje é dia 1 do mês 10 do ano de 2020 \n",
      "\n",
      "Já ocorreu -1281 days, 0:00:00 dias \n",
      "\n",
      "Hoje é: 04/04/24 \n",
      "\n",
      "Somando 30 dias, 2024-05-04\n",
      "Diminuindo 30 dias, 2024-03-05\n"
     ]
    }
   ],
   "source": [
    "import datetime\n",
    "\n",
    "# Dia de Hoje\n",
    "Dia_Hoje = datetime.datetime.today().date()\n",
    "print( f'Hoje é: {Dia_Hoje} \\n' )\n",
    "\n",
    "# Construindo uma Data\n",
    "Data = datetime.date(2020, 10, 1)\n",
    "print( f'Construindo uma Data {Data} \\n' )\n",
    "\n",
    "# Acessando os atributos da DAta\n",
    "Ano = Data.year\n",
    "Mes = Data.month\n",
    "Dia = Data.day\n",
    "print(f'Hoje é dia {Dia} do mês {Mes} do ano de {Ano} \\n')\n",
    "\n",
    "# Operação\n",
    "Intervalo = Data - Dia_Hoje\n",
    "print(f'Já ocorreu {Intervalo} dias \\n' )\n",
    "\n",
    "# Ajustando o formato\n",
    "Novo_Formato = Dia_Hoje.strftime('%d/%m/%y')\n",
    "print( f'Hoje é: {Novo_Formato} \\n' )\n",
    "\n",
    "# Aumentar dias ou diminuir\n",
    "print( f'Somando 30 dias, {Dia_Hoje + datetime.timedelta(days = 30)}' )\n",
    "print( f'Diminuindo 30 dias, {Dia_Hoje - datetime.timedelta(days = 30)}' )"
   ]
  },
  {
   "cell_type": "markdown",
   "metadata": {},
   "source": [
    "18° Pacote Externo - Time <p>\n",
    "    Este módulo fornece várias funções relacionadas ao tempo"
   ]
  },
  {
   "cell_type": "code",
   "execution_count": 17,
   "metadata": {},
   "outputs": [
    {
     "name": "stdout",
     "output_type": "stream",
     "text": [
      "Esse print foi rápido!\n",
      "Esse print aconteceu depois de 2.5 segundos \n",
      "\n",
      "<class 'time.struct_time'>\n",
      "time.struct_time(tm_year=2024, tm_mon=4, tm_mday=4, tm_hour=19, tm_min=49, tm_sec=7, tm_wday=3, tm_yday=95, tm_isdst=0)\n",
      "04/04/2024, 19:49:07 \n",
      "\n",
      "time.struct_time(tm_year=2018, tm_mon=6, tm_mday=21, tm_hour=0, tm_min=0, tm_sec=0, tm_wday=3, tm_yday=172, tm_isdst=-1)\n"
     ]
    }
   ],
   "source": [
    "# Importar a Lib\n",
    "import time\n",
    "\n",
    "print('Esse print foi rápido!')\n",
    "time.sleep(2.5)\n",
    "print('Esse print aconteceu depois de 2.5 segundos \\n')\n",
    "\n",
    "# Capturar o local agora\n",
    "Agora = time.localtime()\n",
    "print( type(Agora) )\n",
    "print( Agora )\n",
    "print( time.strftime('%m/%d/%Y, %H:%M:%S', Agora ), '\\n' )\n",
    "\n",
    "# Converter uma string para time\n",
    "Time_Texto = '21 June, 2018'\n",
    "Conversao = time.strptime(Time_Texto, '%d %B, %Y')\n",
    "print(Conversao)"
   ]
  },
  {
   "cell_type": "markdown",
   "metadata": {},
   "source": [
    "19º Pacote Externo - Math <p>\n",
    "    Python possui um conjunto de funções matemáticas integradas, incluindo um extenso módulo matemático, que permite realizar tarefas matemáticas em números."
   ]
  },
  {
   "cell_type": "code",
   "execution_count": 19,
   "metadata": {},
   "outputs": [
    {
     "name": "stdout",
     "output_type": "stream",
     "text": [
      "5\n",
      "20\n",
      "7.25\n",
      "81\n",
      "9.0\n",
      "2\n",
      "1\n",
      "3.141592653589793\n"
     ]
    }
   ],
   "source": [
    "import math\n",
    "\n",
    "# Sem necessidade do math\n",
    "\n",
    "# Minino e Maximo\n",
    "Tupla = (10, 15, 5, 8, 20)\n",
    "print( min(Tupla) )\n",
    "print( max(Tupla) )\n",
    "\n",
    "# ABS  retorna o valor absoluto (positivo) do número especificado\n",
    "print( abs(-7.25) )\n",
    "\n",
    "# Retorna a potencia (seria o msm que 3 * 3 * 3 * 3)\n",
    "print( pow(3, 4) )\n",
    "\n",
    "# Raiz quadrada\n",
    "Raiz_Quadrada = math.sqrt( 81 )\n",
    "print( Raiz_Quadrada )\n",
    "\n",
    "# Arrendondamento\n",
    "\n",
    "# Arredonda um número para cima até o número inteiro mais próximo\n",
    "print( math.ceil(1.4) )\n",
    "\n",
    "# Arredonda um número para baixo até o número inteiro mais próximo\n",
    "print( math.floor(1.4) )\n",
    "\n",
    "# retorna o numero de PI\n",
    "print( math.pi )"
   ]
  },
  {
   "cell_type": "markdown",
   "metadata": {},
   "source": [
    "20° Pacote Externo - Random <P>\n",
    "    Este módulo implementa geradores de números pseudo-aleatórios para várias distribuições."
   ]
  },
  {
   "cell_type": "code",
   "execution_count": 18,
   "metadata": {},
   "outputs": [
    {
     "name": "stdout",
     "output_type": "stream",
     "text": [
      "O número sorteado foi: 5 \n",
      "\n",
      "A Letra sorteada foi: r \n",
      "\n",
      "O Numero gerado foi: 0.8542130464168942 \n",
      "\n",
      "Número aleatorio entre 1 e 10 foi: 5\n"
     ]
    }
   ],
   "source": [
    "# import random\n",
    "import random\n",
    " \n",
    "# Lista numerico\n",
    "Lista_Numerica = [1, 2, 3, 4, 5, 6]\n",
    "print(f'O número sorteado foi: {random.choice(Lista_Numerica)} \\n')\n",
    " \n",
    "# Sortear uma letra da palavra\n",
    "Palavra = 'Odemir'\n",
    "print(f'A Letra sorteada foi: {random.choice(Palavra)} \\n')\n",
    "\n",
    "# Numero aleatorio entre 0 e 1\n",
    "Numero_Aleatorio = random.random()\n",
    "print(f'O Numero gerado foi: {Numero_Aleatorio} \\n')\n",
    "\n",
    "Numero_Aleatorio_01 = random.randint(0, 10)\n",
    "print(f'Número aleatorio entre 1 e 10 foi: {Numero_Aleatorio_01}')"
   ]
  },
  {
   "cell_type": "markdown",
   "metadata": {},
   "source": [
    "21° Pacote Externo - Statistics  <P>\n",
    "    Este módulo fornece funções para calcular estatísticas matemáticas de dados numéricos e interage com as listas"
   ]
  },
  {
   "cell_type": "code",
   "execution_count": 20,
   "metadata": {},
   "outputs": [
    {
     "name": "stdout",
     "output_type": "stream",
     "text": [
      "A media seria: 2.8 \n",
      "\n",
      "A mediana seria: 3 \n",
      "\n",
      "A moda seria: 4\n"
     ]
    }
   ],
   "source": [
    "# Importando a Statistics para operar nas listas\n",
    "import statistics\n",
    "\n",
    "# Retirando a média\n",
    "Media = statistics.mean( [1, 2, 3, 4, 4] )\n",
    "print(f'A media seria: {Media} \\n')\n",
    "\n",
    "Mediana = statistics.median( [1, 2, 3, 4, 4] )\n",
    "print(f'A mediana seria: {Mediana} \\n')\n",
    "\n",
    "Moda = statistics.mode( [1, 2, 3, 4, 4] )\n",
    "print(f'A moda seria: {Moda}')"
   ]
  },
  {
   "cell_type": "markdown",
   "metadata": {},
   "source": [
    "22º Condição If <p>\n",
    "\n",
    "    if é a declaração mais simples de tomada de decisão.\n",
    "\n",
    "    Ele é usado para decidir se uma determinada instrução ou bloco de instruções será executado ou não, ou seja, se uma determinada condição for verdadeira, um bloco de instruções será executado, caso contrário, não.\n",
    "\n",
    "    if condição :\n",
    "\n",
    "    declarações a serem executadas se\n",
    "    condição é verdadeira"
   ]
  },
  {
   "cell_type": "code",
   "execution_count": 21,
   "metadata": {},
   "outputs": [
    {
     "name": "stdout",
     "output_type": "stream",
     "text": [
      "você é maior de idade!\n"
     ]
    }
   ],
   "source": [
    "# Condição se a pessoa tiver menor de 18 anos, ela nao no sistema.\n",
    "Idade = 20\n",
    "\n",
    "if Idade >= 18:\n",
    "  print('você é maior de idade!')"
   ]
  },
  {
   "cell_type": "code",
   "execution_count": 22,
   "metadata": {},
   "outputs": [
    {
     "name": "stdout",
     "output_type": "stream",
     "text": [
      "Você é menor de Idade!!! gugudada\n"
     ]
    }
   ],
   "source": [
    "# Condição IF + ELSE\n",
    "\n",
    "Idade = int( 15 )\n",
    "\n",
    "if Idade >= 18:\n",
    "  print('Você é de maior!')\n",
    "\n",
    "else:\n",
    "  print('Você é menor de Idade!!! gugudada')"
   ]
  },
  {
   "cell_type": "code",
   "execution_count": 23,
   "metadata": {},
   "outputs": [
    {
     "name": "stdout",
     "output_type": "stream",
     "text": [
      "Quase um adulto!!! Aproveita !!!!!!!!!!\n"
     ]
    }
   ],
   "source": [
    "# Condição IF + ELSE + ELIF\n",
    "\n",
    "Idade = int( 14 )\n",
    "\n",
    "if Idade > 18:\n",
    "  print('Você é de maior!')\n",
    "\n",
    "elif Idade == 18:\n",
    "  print('Opa! Welcome the jungle!!! ')\n",
    "\n",
    "elif Idade < 18 and Idade >= 14:\n",
    "\n",
    "  if Idade % 2 == 0:\n",
    "    print('Quase um adulto!!! Aproveita !!!!!!!!!!')\n",
    "\n",
    "else:\n",
    "  print('Você é menor de Idade!!! gugudada')"
   ]
  },
  {
   "cell_type": "markdown",
   "metadata": {},
   "source": [
    "23º Estrutura de Loop FOR <p>\n",
    "\n",
    "    O loop For do Python é usado para travessia seqüencial, ou seja, é usado para iterar sobre um iterável como string, tupla, lista, etc. Ele se enquadra na categoria de iteração definida . Iterações definidas significam que o número de repetições é especificado explicitamente com antecedência.\n",
    "\n",
    "    for variável in objeto:\n",
    "\n",
    "    loop"
   ]
  },
  {
   "cell_type": "code",
   "execution_count": 24,
   "metadata": {},
   "outputs": [
    {
     "name": "stdout",
     "output_type": "stream",
     "text": [
      "0\n",
      "1\n",
      "4\n",
      "9\n",
      "16\n",
      "25\n",
      "36\n",
      "49\n",
      "64\n",
      "81\n"
     ]
    }
   ],
   "source": [
    "# For [ Loop ]\n",
    "for QualquerCoisaQueVoceQuiser in range(10):\n",
    "  print( QualquerCoisaQueVoceQuiser ** 2  ) "
   ]
  },
  {
   "cell_type": "code",
   "execution_count": 25,
   "metadata": {},
   "outputs": [
    {
     "name": "stdout",
     "output_type": "stream",
     "text": [
      "Brasil\n",
      "Argentina\n",
      "Uruguai\n",
      "Chile\n",
      "Paraguai\n",
      "Bolivia\n",
      "Equador\n",
      "Colombia\n",
      "Suriname\n",
      "Guiane\n",
      "Goianai France\n"
     ]
    }
   ],
   "source": [
    "# For + Lista\n",
    "\n",
    "Lista_Paises = ['Brasil', 'Argentina', 'Uruguai', 'Chile', 'Paraguai', 'Bolivia', 'Equador', \n",
    "                'Colombia', 'Suriname', 'Guiane', 'Goianai France']\n",
    "\n",
    "for Loop in Lista_Paises:\n",
    "  print( Loop )"
   ]
  },
  {
   "cell_type": "code",
   "execution_count": 26,
   "metadata": {},
   "outputs": [
    {
     "name": "stdout",
     "output_type": "stream",
     "text": [
      "Brasil\n",
      "Argentina\n",
      "Uruguai\n",
      "Chile\n",
      "Paraguai\n",
      "Bolivia\n",
      "Equador\n",
      "Colombia\n",
      "Suriname, Guiane, Goianai France\n"
     ]
    }
   ],
   "source": [
    "# For + Lista\n",
    "Lista_Paises = ['Brasil', 'Argentina', 'Uruguai', 'Chile', 'Paraguai', 'Bolivia', \n",
    "                'Equador', 'Colombia', 'Suriname, Guiane, Goianai France']\n",
    "\n",
    "for Loop in range( len(Lista_Paises) ):\n",
    "  print( Lista_Paises[Loop] )"
   ]
  },
  {
   "cell_type": "code",
   "execution_count": 27,
   "metadata": {},
   "outputs": [
    {
     "name": "stdout",
     "output_type": "stream",
     "text": [
      "0.0 Brasil\n",
      "0.25 Argentina\n",
      "0.5 Uruguai\n",
      "0.75 Chile\n",
      "1.0 Paraguai\n",
      "1.25 Bolivia\n",
      "1.5 Equador\n",
      "1.75 Colombia\n",
      "2.0 Suriname, Guiane, Goianai France\n"
     ]
    }
   ],
   "source": [
    "# For + Lista + IF + enumerate\n",
    "for Posicao, P in enumerate( Lista_Paises ):\n",
    "  print( Posicao / 4 , P )"
   ]
  },
  {
   "cell_type": "code",
   "execution_count": 28,
   "metadata": {},
   "outputs": [
    {
     "name": "stdout",
     "output_type": "stream",
     "text": [
      "[6, 16, 26, 36, 46, 56, 66, 76, 86, 96]\n",
      "    0\n",
      "0   6\n",
      "1  16\n",
      "2  26\n",
      "3  36\n",
      "4  46\n",
      "5  56\n",
      "6  66\n",
      "7  76\n",
      "8  86\n",
      "9  96\n"
     ]
    }
   ],
   "source": [
    "# for + LISTa + IF + RANGE\n",
    "Lista_Numerica = [ Numero for Numero in range(1, 100, 5) ]\n",
    "Armazenar = []\n",
    "\n",
    "for x in Lista_Numerica:\n",
    "\n",
    "  if x % 2 == 0:\n",
    "    Armazenar.append( x )\n",
    "\n",
    "print( Armazenar )\n",
    "\n",
    "from pandas import DataFrame\n",
    "print( DataFrame(Armazenar) )"
   ]
  },
  {
   "cell_type": "code",
   "execution_count": 29,
   "metadata": {},
   "outputs": [
    {
     "name": "stdout",
     "output_type": "stream",
     "text": [
      "Moeda do Brasil é Real\n",
      "Mooeda do Brasil é Real\n",
      "Mooeda do Brasil é Real\n"
     ]
    }
   ],
   "source": [
    "# For + Lista + Dicionario\n",
    "\n",
    "Lista = [ 'Brasil', 'Argentina', 'Uruaguai', 'Paraguai' ]\n",
    "\n",
    "Dicionario = {\n",
    "    'Brasil' : 'Real',\n",
    "    'Argentina' : 'Peso ARG',\n",
    "    'Uruaguai' : 'Peso URU',\n",
    "    'Paraguai' : 'Guarany'\n",
    "}\n",
    "\n",
    "for Paises in Lista:\n",
    "\n",
    "  if Paises == 'Brasil':\n",
    "    print( f'Moeda do {Paises} é { Dicionario[Paises] }' )\n",
    "    print('Mooeda do', Paises, 'é', Dicionario[Paises] )\n",
    "    print('Mooeda do ' + str (Paises) + ' é ' + str(Dicionario[Paises] ) )\n",
    "  else:\n",
    "    pass"
   ]
  },
  {
   "cell_type": "markdown",
   "metadata": {},
   "source": [
    "24º Estrutura de Loop WHILE <p>\n",
    "    Python While Loop é usado para executar um bloco de instruções repetidamente até que uma determinada condição seja satisfeita. E quando a condição se torna falsa, a linha imediatamente após o loop no programa é executada. While loop se enquadra na categoria de iteração indefinida . A iteração indefinida significa que o número de vezes que o loop é executado não é especificado explicitamente com antecedência.\n",
    "\n",
    "    while expressão:\n",
    "\n",
    "    loop"
   ]
  },
  {
   "cell_type": "code",
   "execution_count": 30,
   "metadata": {},
   "outputs": [
    {
     "name": "stdout",
     "output_type": "stream",
     "text": [
      "0\n",
      "1\n",
      "2\n",
      "3\n",
      "4\n",
      "5\n",
      "6\n",
      "7\n",
      "8\n",
      "9\n",
      "10\n"
     ]
    }
   ],
   "source": [
    "# While\n",
    "Loop = 0\n",
    "\n",
    "while Loop <= 10:\n",
    "  print( Loop )\n",
    "  Loop += 1"
   ]
  },
  {
   "cell_type": "code",
   "execution_count": 31,
   "metadata": {},
   "outputs": [
    {
     "name": "stdout",
     "output_type": "stream",
     "text": [
      "0\n",
      "1\n",
      "2\n",
      "3\n",
      "4\n",
      "0\n",
      "1\n",
      "2\n",
      "3\n",
      "4\n",
      "5\n",
      "6\n",
      "7\n",
      "8\n",
      "9\n",
      "5\n",
      "6\n",
      "7\n",
      "8\n",
      "9\n",
      "10\n"
     ]
    }
   ],
   "source": [
    "# While\n",
    "Loop = 0\n",
    "\n",
    "while Loop <= 10:\n",
    "  print( Loop )\n",
    "  Loop += 1\n",
    "\n",
    "  if Loop == 5:\n",
    "    \n",
    "    for c in range(10):\n",
    "      print(c)"
   ]
  },
  {
   "cell_type": "code",
   "execution_count": 32,
   "metadata": {},
   "outputs": [
    {
     "name": "stdout",
     "output_type": "stream",
     "text": [
      "4 - 10\n",
      "4 - 5\n",
      "1 - 7\n",
      "4 - 7\n",
      "5 - 7\n",
      "4 - 7\n",
      "5 - 9\n",
      "1 - 8\n",
      "2 - 10\n",
      "6 - 7\n",
      "1 - 5\n",
      "0 - 6\n",
      "0 - 9\n",
      "4 - 10\n",
      "0 - 8\n",
      "6 - 5 FINALMENTE !!!!!!!!!!!\n"
     ]
    }
   ],
   "source": [
    "# While True\n",
    "# Joginho\n",
    "import random\n",
    "\n",
    "while True:\n",
    "\n",
    "  Jogador1 = random.randint(0, 6)\n",
    "  Jogador2 = random.randint(5, 10)\n",
    "\n",
    "  if Jogador1 > Jogador2:\n",
    "    print(Jogador1, '-', Jogador2, 'FINALMENTE !!!!!!!!!!!')\n",
    "    break\n",
    "\n",
    "  else:\n",
    "    print(Jogador1, '-', Jogador2)"
   ]
  },
  {
   "cell_type": "markdown",
   "metadata": {},
   "source": [
    "25º Estrutura de Quebra BREAK e CONTINUE <p>\n",
    "    O uso de loops no Python automatiza e repete as tarefas de maneira eficiente. Mas, às vezes, pode surgir uma condição em que você deseja sair completamente do loop, pular uma iteração ou ignorar essa condição. Isso pode ser feito por instruções de controle de loop . As instruções de controle de loop alteram a execução de sua sequência normal. Quando a execução sai de um escopo, todos os objetos automáticos que foram criados nesse escopo são destruídos. Python suporta as seguintes instruções de controle."
   ]
  },
  {
   "cell_type": "code",
   "execution_count": 33,
   "metadata": {},
   "outputs": [
    {
     "name": "stdout",
     "output_type": "stream",
     "text": [
      "1\n",
      "2\n",
      "3\n",
      "Chegou\n"
     ]
    }
   ],
   "source": [
    "# For + Lista + IF + Break\n",
    "Lista_Paises = ['Brasil', 'Argentina', 'Uruguai', 'Chile', 'Paraguai', 'Bolivia', \n",
    "                'Equador', 'Colombia', 'Suriname, Guiane, Goianai France']\n",
    "Loop = 0\n",
    "\n",
    "for P in Lista_Paises:\n",
    "\n",
    "  if P == 'Chile':\n",
    "    print('Chegou')\n",
    "    break\n",
    "\n",
    "  else:\n",
    "    pass\n",
    "\n",
    "  Loop += 1\n",
    "  print( Loop )"
   ]
  },
  {
   "cell_type": "code",
   "execution_count": 34,
   "metadata": {},
   "outputs": [
    {
     "name": "stdout",
     "output_type": "stream",
     "text": [
      "0\n",
      "1\n",
      "2\n",
      "3\n",
      "4\n",
      "0\n",
      "1\n",
      "2\n",
      "3\n",
      "4\n",
      "5\n",
      "6\n",
      "7\n",
      "8\n",
      "9\n"
     ]
    }
   ],
   "source": [
    "# While\n",
    "Loop = 0\n",
    "\n",
    "while Loop <= 10:\n",
    "  print( Loop )\n",
    "  Loop += 1\n",
    "\n",
    "  if Loop == 5:\n",
    "    \n",
    "    for c in range(10):\n",
    "      print(c)\n",
    "  \n",
    "    break"
   ]
  },
  {
   "cell_type": "code",
   "execution_count": 35,
   "metadata": {},
   "outputs": [
    {
     "name": "stdout",
     "output_type": "stream",
     "text": [
      "1º Continue continua sempre!!!!\n",
      "2º Continue continua sempre!!!!\n",
      "3º Continue continua sempre!!!!\n",
      "4º Continue continua sempre!!!!\n",
      "6º Continue continua sempre!!!!\n",
      "7º Continue continua sempre!!!!\n",
      "8º Continue continua sempre!!!!\n",
      "9º Continue continua sempre!!!!\n",
      "10º Continue continua sempre!!!!\n"
     ]
    }
   ],
   "source": [
    "# Loop de 1 a 10\n",
    "for i in range(1, 11):\n",
    " \n",
    "    # If i is equals to 6,\n",
    "    # continue to next iteration\n",
    "    # without printing\n",
    "    if i == 5:\n",
    "      continue\n",
    "      print(f'{i}º interação --> Estou no IF')\n",
    "        \n",
    "    else:\n",
    "        # otherwise print the value\n",
    "        # of i\n",
    "        print(f'{i}º Continue continua sempre!!!!')\n",
    "        #print(i)"
   ]
  },
  {
   "cell_type": "markdown",
   "metadata": {},
   "source": [
    "26º Estrutura de Funções <p>\n",
    "    Uma função é um bloco de código que só é executado quando é chamado.\n",
    "\n",
    "    Você pode passar dados, conhecidos como parâmetros, para uma função.\n",
    "\n",
    "    Uma função pode retornar dados como resultado."
   ]
  },
  {
   "cell_type": "code",
   "execution_count": 36,
   "metadata": {},
   "outputs": [
    {
     "name": "stdout",
     "output_type": "stream",
     "text": [
      "-57.778767\n"
     ]
    }
   ],
   "source": [
    "# Funções simples\n",
    "def Somar(Valor1, Valor2):\n",
    "  Soma = Valor1 + Valor2\n",
    "  print(Soma)\n",
    "\n",
    "Somar(-67.900, 10.121233)"
   ]
  },
  {
   "cell_type": "code",
   "execution_count": 37,
   "metadata": {},
   "outputs": [
    {
     "name": "stdout",
     "output_type": "stream",
     "text": [
      "********* PYTHON **************\n"
     ]
    }
   ],
   "source": [
    "def Boas_Vindas():\n",
    "  print('********* PYTHON **************')\n",
    "\n",
    "Boas_Vindas()"
   ]
  },
  {
   "cell_type": "code",
   "execution_count": 39,
   "metadata": {},
   "outputs": [
    {
     "name": "stdout",
     "output_type": "stream",
     "text": [
      "Nome dele é: Zelda\n",
      "NADA!\n",
      "Nome dele é: Luigi\n",
      "NADA!\n",
      "Nome dele é: Mario\n",
      "NADA!\n"
     ]
    }
   ],
   "source": [
    "from random import randint\n",
    "# Função\n",
    "def Sobrenome( Algum_Texto, Numero ):\n",
    "  print(f'Nome dele é: {Algum_Texto}')\n",
    "\n",
    "  if Numero >= 10:\n",
    "    print('Maior que 10')\n",
    "  else:\n",
    "    print('NADA!')\n",
    "\n",
    "Lista_Nomes = ['Zelda', 'Luigi', 'Mario']\n",
    "\n",
    "for Nome in Lista_Nomes:\n",
    "  Sobrenome( Nome, randint(1,12) )"
   ]
  },
  {
   "cell_type": "markdown",
   "metadata": {},
   "source": [
    "27º Estrutura Lambda <p>\n",
    "    Uma função lambda é uma pequena função anônima.\n",
    "\n",
    "    Uma função lambda pode receber qualquer número de argumentos, mas pode ter apenas uma expressão."
   ]
  },
  {
   "cell_type": "code",
   "execution_count": 40,
   "metadata": {},
   "outputs": [
    {
     "name": "stdout",
     "output_type": "stream",
     "text": [
      "20\n",
      "200\n"
     ]
    }
   ],
   "source": [
    "# Função\n",
    "Funcao = lambda valor: valor + 10\n",
    "print( Funcao( 10 ) )\n",
    "\n",
    "Funcao_02 = lambda valor1, valor2 : valor1 + valor2\n",
    "print( Funcao_02( 100 , 100 ) )"
   ]
  },
  {
   "cell_type": "code",
   "execution_count": 41,
   "metadata": {},
   "outputs": [
    {
     "data": {
      "text/plain": [
       "'Verdadeiro'"
      ]
     },
     "execution_count": 41,
     "metadata": {},
     "output_type": "execute_result"
    }
   ],
   "source": [
    "# Função Lambda\n",
    "Nao_Faxa_isso = lambda Qualquer_Valor: 'Verdadeiro' if Qualquer_Valor % 2 == 0 else 'Falso'\n",
    "#Nao_Faxa_isso = lambda x: True if x % 2 == 0 else Falso\n",
    "Nao_Faxa_isso( 100 )"
   ]
  },
  {
   "cell_type": "markdown",
   "metadata": {},
   "source": [
    "28º Estrutura TRY <p>\n",
    "    O try permite testar um bloco de código quanto a erros.\n",
    "\n",
    "    O except permite que você lide com o erro.\n",
    "\n",
    "    O else permite executar código quando não há erro.\n",
    "\n",
    "    O finally permite que você execute código, independentemente do resultado dos blocos try e except."
   ]
  },
  {
   "cell_type": "code",
   "execution_count": 42,
   "metadata": {},
   "outputs": [
    {
     "name": "stdout",
     "output_type": "stream",
     "text": [
      "Deu Ruim!!!\n"
     ]
    }
   ],
   "source": [
    "# \n",
    "try:\n",
    "  0 / 0 \n",
    "except:\n",
    "  print('Deu Ruim!!!')"
   ]
  },
  {
   "cell_type": "code",
   "execution_count": 43,
   "metadata": {},
   "outputs": [
    {
     "name": "stdout",
     "output_type": "stream",
     "text": [
      "Ops deu algum erro!\n",
      "Vou ser executado de qualquer forma\n"
     ]
    }
   ],
   "source": [
    "try:\n",
    "  print(Algo_Coisa_Que_Nao_Defini)\n",
    "\n",
    "except NameError:\n",
    "  print(\"Ops deu algum erro!\")\n",
    "\n",
    "finally:\n",
    "  print(\"Vou ser executado de qualquer forma\")"
   ]
  },
  {
   "cell_type": "markdown",
   "metadata": {},
   "source": [
    "29° Estrutura de Classes/Objetos <p>\n",
    "    Python é uma linguagem de programação orientada a objetos.\n",
    "\n",
    "    Quase tudo em Python é um objeto, com suas propriedades e métodos.\n",
    "\n",
    "    Uma classe é como um construtor de objetos, ou um \"projeto\" para criar objetos."
   ]
  },
  {
   "cell_type": "code",
   "execution_count": 47,
   "metadata": {},
   "outputs": [
    {
     "name": "stdout",
     "output_type": "stream",
     "text": [
      "Usuário é maior de idade\n",
      "Olá sem benvindo:  Cleydenilson\n"
     ]
    }
   ],
   "source": [
    "class Pessoa:\n",
    "\n",
    "  # Metodo Construtor\n",
    "  def __init__(self, Nome, Idade):\n",
    "    self.Nome = Nome\n",
    "    self.Idade = Idade\n",
    "\n",
    "  def Boas_Vindas(self):\n",
    "    print('Olá sem benvindo: ', self.Nome)\n",
    "\n",
    "  def Recusado(self):\n",
    "    print('Seu acesso foi recusado!')\n",
    "\n",
    "  # Função\n",
    "  def Maior_Idade(self):\n",
    "    if self.Idade >= 18:\n",
    "      print('Usuário é maior de idade')\n",
    "      self.Boas_Vindas()\n",
    "    else:\n",
    "      print('Usuário é menor de Idade')\n",
    "      self.Recusado()\n",
    "      \n",
    "Dados = Pessoa('Cleydenilson', 25)\n",
    "\n",
    "Dados.Maior_Idade()"
   ]
  },
  {
   "cell_type": "code",
   "execution_count": 48,
   "metadata": {},
   "outputs": [
    {
     "name": "stdout",
     "output_type": "stream",
     "text": [
      "Usuário é menor de Idade\n",
      "Seu acesso foi recusado!\n"
     ]
    }
   ],
   "source": [
    "Dados = Pessoa('Ezequiel', 12)\n",
    "Dados.Maior_Idade()"
   ]
  },
  {
   "cell_type": "markdown",
   "metadata": {},
   "source": [
    "30º Módulos/Pacotes <p>\n",
    "Considere um módulo como sendo o mesmo que uma biblioteca de código.\n",
    "\n",
    "Para instalar um pacote utilize o 'pip install'"
   ]
  },
  {
   "cell_type": "code",
   "execution_count": 49,
   "metadata": {},
   "outputs": [],
   "source": [
    "import time\n",
    "import datetime"
   ]
  },
  {
   "cell_type": "code",
   "execution_count": 50,
   "metadata": {},
   "outputs": [
    {
     "name": "stdout",
     "output_type": "stream",
     "text": [
      "Requirement already satisfied: pandas in c:\\users\\ezequ\\appdata\\local\\programs\\python\\python312\\lib\\site-packages (2.1.2)\n",
      "Requirement already satisfied: numpy<2,>=1.26.0 in c:\\users\\ezequ\\appdata\\local\\programs\\python\\python312\\lib\\site-packages (from pandas) (1.26.1)\n",
      "Requirement already satisfied: python-dateutil>=2.8.2 in c:\\users\\ezequ\\appdata\\roaming\\python\\python312\\site-packages (from pandas) (2.8.2)\n",
      "Requirement already satisfied: pytz>=2020.1 in c:\\users\\ezequ\\appdata\\local\\programs\\python\\python312\\lib\\site-packages (from pandas) (2023.3.post1)\n",
      "Requirement already satisfied: tzdata>=2022.1 in c:\\users\\ezequ\\appdata\\local\\programs\\python\\python312\\lib\\site-packages (from pandas) (2023.3)\n",
      "Requirement already satisfied: six>=1.5 in c:\\users\\ezequ\\appdata\\roaming\\python\\python312\\site-packages (from python-dateutil>=2.8.2->pandas) (1.16.0)\n"
     ]
    },
    {
     "name": "stderr",
     "output_type": "stream",
     "text": [
      "\n",
      "[notice] A new release of pip is available: 23.2.1 -> 24.0\n",
      "[notice] To update, run: python.exe -m pip install --upgrade pip\n"
     ]
    }
   ],
   "source": [
    "# !pip install pandas\n",
    "!pip install pandas"
   ]
  },
  {
   "cell_type": "markdown",
   "metadata": {},
   "source": [
    "31° Print formatado <p>\n",
    "Existe diversas formas de utilizar prints no python"
   ]
  },
  {
   "cell_type": "code",
   "execution_count": 51,
   "metadata": {},
   "outputs": [
    {
     "name": "stdout",
     "output_type": "stream",
     "text": [
      "Soma de 2 + 2 é: 4\n",
      "Soma de 2 + 2 é: 4\n",
      "Soma de 2 + 2 é: 4\n"
     ]
    }
   ],
   "source": [
    "print('Soma de 2 + 2 é:', 2 + 2 )\n",
    "print( f'Soma de 2 + 2 é: { round(2 + 2) }' )\n",
    "print('Soma de 2 + 2 é: {}'.format(2+2) )"
   ]
  }
 ],
 "metadata": {
  "kernelspec": {
   "display_name": "Python 3",
   "language": "python",
   "name": "python3"
  },
  "language_info": {
   "codemirror_mode": {
    "name": "ipython",
    "version": 3
   },
   "file_extension": ".py",
   "mimetype": "text/x-python",
   "name": "python",
   "nbconvert_exporter": "python",
   "pygments_lexer": "ipython3",
   "version": "3.12.0"
  }
 },
 "nbformat": 4,
 "nbformat_minor": 2
}
