{
 "cells": [
  {
   "cell_type": "markdown",
   "metadata": {},
   "source": [
    "# Um exemplo prático de Séries Temporais\n",
    "\n",
    "O método de médias móveis é bem simples e eficiente, na prática. Por isso mesmo, nós o utilizamos em diversas situações, para fazermos estudos sobre os dados e estimativas. Basicamente, calculamos uma média de um número fixo de itens na série temporal que se move através da série e repetimos o processo para a próxima sequência de dados.\n",
    "\n",
    "Formalmente, vamos considerar a sequência de pontos de uma série temporal dada por:\n",
    "\n",
    "( t1, y1 ), ( t2, y2 ), …, ( tn, yn )\n",
    "\n",
    "Agora, vamos utilizar um número L, que chamamos de janela da média móvel. Portanto, devemos calcular o primeiro número da média móvel como:​\n",
    "\n",
    "y1 ​+ y2 + … + yL / L\n",
    "​\n",
    "Na sequência, calcula-se o segundo número da média móvel como:\n",
    "\n",
    "y1 + y2 + … + yL + 1 / L\n",
    "​\n",
    "​Até concluirmos o cálculo das médias de todos os grupos de tamanho L da série temporal.\n",
    "\n",
    "Vamos dar um exemplo. Considere uma janela L=3. Agora, vamos usar os seguintes dados de um série temporal:\n",
    "\n",
    "(t1,3),(t2,5),(t3,1),(t4,6)\n",
    "\n",
    "Os resultados da aplicação do método de médias móveis são dados por:\n",
    "\n",
    "r1 = y1+y2+y3 / 3 = 3+5+1 / 3 = 9 / 3 = 3\n",
    "​\n",
    "r1 = y2+y3+y4 / 3 = 5+1+6 / 3 = 12 / 3 = 4\n",
    "\n",
    "Agora, vamos ver como usar o Python para implementar o método de médias móveis. Para isso, precisamos importar o pacote “numpy”, conforme o código abaixo:\n"
   ]
  },
  {
   "cell_type": "code",
   "execution_count": 1,
   "metadata": {},
   "outputs": [],
   "source": [
    "# Importando Pacotes\n",
    "import numpy as np"
   ]
  },
  {
   "cell_type": "markdown",
   "metadata": {},
   "source": [
    "Na sequência, vamos entrar com os dados da série temporal para teste:\n",
    "\n"
   ]
  },
  {
   "cell_type": "code",
   "execution_count": 8,
   "metadata": {},
   "outputs": [],
   "source": [
    "# Dados Originais\n",
    "dados_originais = [3,5,1,6,7,8,6,9,9,10]"
   ]
  },
  {
   "cell_type": "markdown",
   "metadata": {},
   "source": [
    "No próximo passo, vamos calcular as médias móveis:"
   ]
  },
  {
   "cell_type": "code",
   "execution_count": 9,
   "metadata": {},
   "outputs": [],
   "source": [
    "# Cálculo das médias móveis\n",
    "tamanho_da_janela = 3\n",
    "pesos= np.repeat(1.0, tamanho_da_janela) / tamanho_da_janela\n",
    "medidas_moveis = np.convolve(dados_originais, pesos, 'valid')"
   ]
  },
  {
   "cell_type": "markdown",
   "metadata": {},
   "source": [
    "Por fim, vamos imprimir os resultados dos nossos cálculos:\n",
    "\n"
   ]
  },
  {
   "cell_type": "code",
   "execution_count": 11,
   "metadata": {},
   "outputs": [
    {
     "name": "stdout",
     "output_type": "stream",
     "text": [
      "Médias móveis: [3.   4.   4.67 7.   7.   7.67 8.   9.33]\n"
     ]
    }
   ],
   "source": [
    "# Imprimir Resultados\n",
    "print(\"Médias móveis: {}\".format(np.round(medidas_moveis, 2)))\n",
    "#Cujo resultado é:"
   ]
  },
  {
   "cell_type": "markdown",
   "metadata": {},
   "source": [
    "Pronto! Você aprendeu mais uma técnica de ciência de dados. Agora, você precisa praticar o exemplo e realizar outros testes. Não há dúvidas de que o estudo de séries temporais é essencial para resolver diversos problemas reais. Bons Estudos!"
   ]
  }
 ],
 "metadata": {
  "kernelspec": {
   "display_name": "Python 3",
   "language": "python",
   "name": "python3"
  },
  "language_info": {
   "codemirror_mode": {
    "name": "ipython",
    "version": 3
   },
   "file_extension": ".py",
   "mimetype": "text/x-python",
   "name": "python",
   "nbconvert_exporter": "python",
   "pygments_lexer": "ipython3",
   "version": "3.12.0"
  }
 },
 "nbformat": 4,
 "nbformat_minor": 2
}
