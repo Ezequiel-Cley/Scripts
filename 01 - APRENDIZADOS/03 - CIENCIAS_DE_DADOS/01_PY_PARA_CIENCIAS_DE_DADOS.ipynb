{
 "cells": [
  {
   "cell_type": "markdown",
   "metadata": {},
   "source": [
    "​**Linguagem de Programação Python** <p>\n",
    "\n",
    "A linguagem de programação Python é muito popular para o desenvolvimento de aplicações de Ciência de Dados. Essa popularidade foi alcançada devido a diversos fatores, tais como:\n",
    "    • Facilidade de sintaxe;\n",
    "    • Facilidade de encontrar ambientes de desenvolvimento;\n",
    "    • Disponibilidade de muita documentação de domínio público com diversos exemplos;\n",
    "    • Comunidade fortemente engajada.\n",
    "    \n",
    "Um exemplo de ambiente de desenvolvimento para programarmos em Python é o Google Colab. Para podermos utilizar essa ferramenta, precisamos ter uma conta no Gmail e acessar o endereço: https://colab.research.google.com/ (acesso em 24/02/2023).\n",
    "O Python possui diversas bibliotecas que facilitam o nosso trabalho de desenvolvimento. Abaixo, temos um exemplo de um programa em Python implementado no Google Colab:"
   ]
  },
  {
   "cell_type": "code",
   "execution_count": 3,
   "metadata": {},
   "outputs": [
    {
     "name": "stdout",
     "output_type": "stream",
     "text": [
      "O maior numero eh: 3\n"
     ]
    }
   ],
   "source": [
    "a = int(input(\"Digite um numero: \"))\n",
    "b = int(input(\"Digite um numero: \"))\n",
    "maior = a\n",
    "if(b>maior):\n",
    "    maior = b\n",
    "print(f'O maior numero eh: {maior}')"
   ]
  },
  {
   "cell_type": "markdown",
   "metadata": {},
   "source": [
    "O objetivo desse programa é comparar dois números e encontrar o maior deles. Vamos fazer um programa mais interessante em Python, agora. O objetivo do código abaixo é criar uma lista com cinco dados aleatórios do tipo inteiro e com uma variação de até 100 unidades entre eles:"
   ]
  },
  {
   "cell_type": "code",
   "execution_count": 2,
   "metadata": {},
   "outputs": [
    {
     "name": "stdout",
     "output_type": "stream",
     "text": [
      "dados:[41 17 43 55 76]\n",
      "media:46.4\n",
      "desvio padrão:19.26239860453521\n",
      "variância:371.03999999999996\n",
      "mínimo:17\n",
      "máximo:76\n",
      "moda:17; quantidade:1\n"
     ]
    }
   ],
   "source": [
    "import numpy as np\n",
    "from scipy import stats\n",
    "variacao=100\n",
    "quantidade=5\n",
    "dados = np.random.randint(variacao,size=quantidade)\n",
    "print(\"dados:{}\".format(dados))\n",
    "# Agora, vamos estudar as características estatísticas básicas desses dados através do código abaixo:\n",
    "media = dados.mean()\n",
    "desvio_padrao=dados.std()\n",
    "variancia=dados.var()\n",
    "minimo = dados.min()\n",
    "maximo = dados.max()\n",
    "moda = stats.mode(dados)\n",
    "print(\"media:{}\".format(media))\n",
    "print(\"desvio padrão:{}\".format(desvio_padrao))\n",
    "print(\"variância:{}\".format(variancia))\n",
    "print(\"mínimo:{}\".format(minimo))\n",
    "print(\"máximo:{}\".format(maximo))\n",
    "print(\"moda:{}; quantidade:{}\".format(moda.mode,moda.count))\n"
   ]
  },
  {
   "cell_type": "markdown",
   "metadata": {},
   "source": [
    "É fundamental que você tente executar os códigos para adquirir segurança e tenha mais facilidade nos exemplos que vamos estudar mais adiante. \n",
    "Bem, agora que você adquiriu esses conhecimentos chegou a hora de realizarmos exercícios que nos ajudarão a consolidar o nosso aprendizado. Bons estudos!"
   ]
  }
 ],
 "metadata": {
  "kernelspec": {
   "display_name": "Python 3",
   "language": "python",
   "name": "python3"
  },
  "language_info": {
   "codemirror_mode": {
    "name": "ipython",
    "version": 3
   },
   "file_extension": ".py",
   "mimetype": "text/x-python",
   "name": "python",
   "nbconvert_exporter": "python",
   "pygments_lexer": "ipython3",
   "version": "3.12.0"
  }
 },
 "nbformat": 4,
 "nbformat_minor": 2
}
