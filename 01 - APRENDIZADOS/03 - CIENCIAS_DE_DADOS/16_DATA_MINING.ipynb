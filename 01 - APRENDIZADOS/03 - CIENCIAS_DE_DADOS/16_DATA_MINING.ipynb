{
 "cells": [
  {
   "cell_type": "markdown",
   "metadata": {},
   "source": [
    "# Um exemplo prático de IA e DM\n",
    "\n",
    "Vamos implementar uma solução que utiliza uma árvore de decisão. O objetivo é determinarmos qual a classificação adequada para um item, de acordo com uma base de treinamento que utilizamos para construir nosso modelo. Vamos precisar utilizar o Scikit-Learn, novamente. Portanto, o nosso primeiro passo é importar o pacote “tree”, conforme o código abaixo:"
   ]
  },
  {
   "cell_type": "code",
   "execution_count": 1,
   "metadata": {},
   "outputs": [],
   "source": [
    "from sklearn import tree"
   ]
  },
  {
   "cell_type": "markdown",
   "metadata": {},
   "source": [
    "Em seguida, fornecemos um conjunto de dados com os devidos rótulos, para treinar o nosso modelo:"
   ]
  },
  {
   "cell_type": "code",
   "execution_count": 2,
   "metadata": {},
   "outputs": [],
   "source": [
    "dados = [[0, 0], [1, 1],\n",
    "         [2, 0], [1, 3],\n",
    "         [2, 6], [3, 2]]\n",
    "\n",
    "rotulos = [0, 1,\n",
    "           0, 1,\n",
    "           1, 1]"
   ]
  },
  {
   "cell_type": "markdown",
   "metadata": {},
   "source": [
    "Agora, criamos o nosso modelo e realizamos o treinamento dele, através do código abaixo:"
   ]
  },
  {
   "cell_type": "code",
   "execution_count": 3,
   "metadata": {},
   "outputs": [],
   "source": [
    "classificador = tree.DecisionTreeClassifier()\n",
    "classificador = classificador.fit(dados, rotulos)"
   ]
  },
  {
   "cell_type": "markdown",
   "metadata": {},
   "source": [
    "Por fim, vamos testar o nosso modelo através de um dado teste. Abaixo, apresentamos o código:"
   ]
  },
  {
   "cell_type": "code",
   "execution_count": 4,
   "metadata": {},
   "outputs": [
    {
     "name": "stdout",
     "output_type": "stream",
     "text": [
      "O dado [1.0, 2.0] foi classificado como [1]\n"
     ]
    }
   ],
   "source": [
    "teste=[1., 2.]\n",
    "resultado=classificador.predict([teste])\n",
    "print(f'O dado {teste} foi classificado como {resultado}')\n",
    "# Cujo o Resultado é:"
   ]
  },
  {
   "cell_type": "markdown",
   "metadata": {},
   "source": [
    "Perceba que cada dado possui duas características, mas isso foi uma escolha que fizemos. O modelo de árvore de classificação nos permite utilizar mais características, de acordo com a nossa necessidade. Este tipo de ferramenta é muito útil na prática, pois permite escalar soluções e, realmente, resolver problemas reais. Bons Estudos!"
   ]
  }
 ],
 "metadata": {
  "kernelspec": {
   "display_name": "Python 3",
   "language": "python",
   "name": "python3"
  },
  "language_info": {
   "codemirror_mode": {
    "name": "ipython",
    "version": 3
   },
   "file_extension": ".py",
   "mimetype": "text/x-python",
   "name": "python",
   "nbconvert_exporter": "python",
   "pygments_lexer": "ipython3",
   "version": "3.12.0"
  }
 },
 "nbformat": 4,
 "nbformat_minor": 2
}
