{
 "cells": [
  {
   "cell_type": "markdown",
   "metadata": {},
   "source": [
    "# Exemplo Prático de Análise de Correspondência\n",
    "\n",
    "O primeiro passo do nosso programa é instalar o pacote mca do Python, que possui as funções necessárias para calcular a análise de correspondência. Para isso, executamos o código abaixo:\n",
    "!pip install prince\n",
    "\n",
    "\n",
    "O próximo passo consiste em baixar os dados que vamos trabalhar. Para isso, utilizamos os dados disponíveis no repositório oficial de dados para testes de Machine Learning:\n",
    "\n",
    "https://archive.ics.uci.edu/ml/datasets/balloons (acesso em 08/03/2023)\n",
    "\n",
    "No caso, a base que vamos trabalhar trata sobre uma situação na qual há quatro conjuntos de dados que representam diferentes condições de um experimento. Todos têm os mesmos atributos:\n",
    "\n",
    "adult-stretch.data Inflated: é verdadeiro, se idade=adulto ou ato=esticar;\n",
    "\n",
    "adult+stretch.data Inflated: é verdadeiro, se idade=adulto e ato=esticar;\n",
    "\n",
    "small-yellow.data Inflated: é verdadeiro, se cor = amarelo e tamanho = pequeno;\n",
    "\n",
    "small-yellow+adult-stretch.data Inflated: é verdadeiro, se cor=amarelo e tamanho = pequeno, ou idade=adulto e ato=esticar.\n",
    "\n",
    "Para carregar os dados, precisamos executar o código abaixo:"
   ]
  },
  {
   "cell_type": "code",
   "execution_count": 3,
   "metadata": {},
   "outputs": [
    {
     "name": "stdout",
     "output_type": "stream",
     "text": [
      "    Color   Size   Action    Age Inflated\n",
      "0  YELLOW  SMALL  STRETCH  ADULT        T\n",
      "1  YELLOW  SMALL  STRETCH  CHILD        F\n",
      "2  YELLOW  SMALL      DIP  ADULT        F\n",
      "3  YELLOW  SMALL      DIP  CHILD        F\n",
      "4  YELLOW  LARGE  STRETCH  ADULT        T\n"
     ]
    }
   ],
   "source": [
    "# Importando dados\n",
    "import pandas as pd\n",
    "import prince\n",
    "import matplotlib.pyplot as plt\n",
    "\n",
    "dados = pd.read_csv('https://archive.ics.uci.edu/ml/machine-learning-databases/balloons/adult+stretch.data')\n",
    "dados.columns = ['Color','Size','Action','Age','Inflated']\n",
    "print(dados.head())"
   ]
  },
  {
   "cell_type": "markdown",
   "metadata": {},
   "source": [
    "Na sequência, preparamos a “máquina” de análise de correspondência e realizamos o treinamento, através do código abaixo:\n",
    "\n",
    "**Realizar a Análise de Correspondência** <p>"
   ]
  },
  {
   "cell_type": "code",
   "execution_count": 4,
   "metadata": {},
   "outputs": [
    {
     "data": {
      "text/html": [
       "<div>\n",
       "<style scoped>\n",
       "    .dataframe tbody tr th:only-of-type {\n",
       "        vertical-align: middle;\n",
       "    }\n",
       "\n",
       "    .dataframe tbody tr th {\n",
       "        vertical-align: top;\n",
       "    }\n",
       "\n",
       "    .dataframe thead th {\n",
       "        text-align: right;\n",
       "    }\n",
       "</style>\n",
       "<table border=\"1\" class=\"dataframe\">\n",
       "  <thead>\n",
       "    <tr style=\"text-align: right;\">\n",
       "      <th></th>\n",
       "      <th>0</th>\n",
       "      <th>1</th>\n",
       "    </tr>\n",
       "  </thead>\n",
       "  <tbody>\n",
       "    <tr>\n",
       "      <th>0</th>\n",
       "      <td>0.705387</td>\n",
       "      <td>1.005735e-14</td>\n",
       "    </tr>\n",
       "    <tr>\n",
       "      <th>1</th>\n",
       "      <td>-0.386586</td>\n",
       "      <td>8.413028e-15</td>\n",
       "    </tr>\n",
       "    <tr>\n",
       "      <th>2</th>\n",
       "      <td>-0.386586</td>\n",
       "      <td>8.537212e-15</td>\n",
       "    </tr>\n",
       "    <tr>\n",
       "      <th>3</th>\n",
       "      <td>-0.852014</td>\n",
       "      <td>7.645028e-15</td>\n",
       "    </tr>\n",
       "    <tr>\n",
       "      <th>4</th>\n",
       "      <td>0.783539</td>\n",
       "      <td>-6.333333e-01</td>\n",
       "    </tr>\n",
       "  </tbody>\n",
       "</table>\n",
       "</div>"
      ],
      "text/plain": [
       "          0             1\n",
       "0  0.705387  1.005735e-14\n",
       "1 -0.386586  8.413028e-15\n",
       "2 -0.386586  8.537212e-15\n",
       "3 -0.852014  7.645028e-15\n",
       "4  0.783539 -6.333333e-01"
      ]
     },
     "execution_count": 4,
     "metadata": {},
     "output_type": "execute_result"
    }
   ],
   "source": [
    "m_analise_correspondencia = prince.MCA()\n",
    "m_analise_correspondencia = m_analise_correspondencia.fit(dados)\n",
    "m_analise_correspondencia_1 = m_analise_correspondencia.transform(dados)\n",
    "m_analise_correspondencia_1.head()"
   ]
  },
  {
   "cell_type": "markdown",
   "metadata": {},
   "source": [
    "Por fim, exibimos o resultado através da execução do código abaixo:\n",
    "\n",
    "**Exibir Dados da Análise de Correspondência** <p>"
   ]
  },
  {
   "cell_type": "code",
   "execution_count": 11,
   "metadata": {},
   "outputs": [
    {
     "data": {
      "text/html": [
       "\n",
       "<style>\n",
       "  #altair-viz-6bf3d7a9743c44409a42dab4c3271c29.vega-embed {\n",
       "    width: 100%;\n",
       "    display: flex;\n",
       "  }\n",
       "\n",
       "  #altair-viz-6bf3d7a9743c44409a42dab4c3271c29.vega-embed details,\n",
       "  #altair-viz-6bf3d7a9743c44409a42dab4c3271c29.vega-embed details summary {\n",
       "    position: relative;\n",
       "  }\n",
       "</style>\n",
       "<div id=\"altair-viz-6bf3d7a9743c44409a42dab4c3271c29\"></div>\n",
       "<script type=\"text/javascript\">\n",
       "  var VEGA_DEBUG = (typeof VEGA_DEBUG == \"undefined\") ? {} : VEGA_DEBUG;\n",
       "  (function(spec, embedOpt){\n",
       "    let outputDiv = document.currentScript.previousElementSibling;\n",
       "    if (outputDiv.id !== \"altair-viz-6bf3d7a9743c44409a42dab4c3271c29\") {\n",
       "      outputDiv = document.getElementById(\"altair-viz-6bf3d7a9743c44409a42dab4c3271c29\");\n",
       "    }\n",
       "    const paths = {\n",
       "      \"vega\": \"https://cdn.jsdelivr.net/npm/vega@5?noext\",\n",
       "      \"vega-lib\": \"https://cdn.jsdelivr.net/npm/vega-lib?noext\",\n",
       "      \"vega-lite\": \"https://cdn.jsdelivr.net/npm/vega-lite@5.17.0?noext\",\n",
       "      \"vega-embed\": \"https://cdn.jsdelivr.net/npm/vega-embed@6?noext\",\n",
       "    };\n",
       "\n",
       "    function maybeLoadScript(lib, version) {\n",
       "      var key = `${lib.replace(\"-\", \"\")}_version`;\n",
       "      return (VEGA_DEBUG[key] == version) ?\n",
       "        Promise.resolve(paths[lib]) :\n",
       "        new Promise(function(resolve, reject) {\n",
       "          var s = document.createElement('script');\n",
       "          document.getElementsByTagName(\"head\")[0].appendChild(s);\n",
       "          s.async = true;\n",
       "          s.onload = () => {\n",
       "            VEGA_DEBUG[key] = version;\n",
       "            return resolve(paths[lib]);\n",
       "          };\n",
       "          s.onerror = () => reject(`Error loading script: ${paths[lib]}`);\n",
       "          s.src = paths[lib];\n",
       "        });\n",
       "    }\n",
       "\n",
       "    function showError(err) {\n",
       "      outputDiv.innerHTML = `<div class=\"error\" style=\"color:red;\">${err}</div>`;\n",
       "      throw err;\n",
       "    }\n",
       "\n",
       "    function displayChart(vegaEmbed) {\n",
       "      vegaEmbed(outputDiv, spec, embedOpt)\n",
       "        .catch(err => showError(`Javascript Error: ${err.message}<br>This usually means there's a typo in your chart specification. See the javascript console for the full traceback.`));\n",
       "    }\n",
       "\n",
       "    if(typeof define === \"function\" && define.amd) {\n",
       "      requirejs.config({paths});\n",
       "      require([\"vega-embed\"], displayChart, err => showError(`Error loading script: ${err.message}`));\n",
       "    } else {\n",
       "      maybeLoadScript(\"vega\", \"5\")\n",
       "        .then(() => maybeLoadScript(\"vega-lite\", \"5.17.0\"))\n",
       "        .then(() => maybeLoadScript(\"vega-embed\", \"6\"))\n",
       "        .catch(showError)\n",
       "        .then(() => displayChart(vegaEmbed));\n",
       "    }\n",
       "  })({\"config\": {\"view\": {\"continuousWidth\": 300, \"continuousHeight\": 300}}, \"layer\": [{\"data\": {\"name\": \"data-40f5961464c2f1418dceaee99c960875\"}, \"mark\": {\"type\": \"circle\", \"size\": 50}, \"encoding\": {\"color\": {\"field\": \"variable\", \"type\": \"nominal\"}, \"tooltip\": [{\"field\": \"variable\", \"type\": \"nominal\"}, {\"field\": \"value\", \"type\": \"nominal\"}, {\"field\": \"component 0\", \"type\": \"quantitative\"}, {\"field\": \"component 1\", \"type\": \"quantitative\"}], \"x\": {\"axis\": {\"title\": \"component 0 \\u2014 40.17%\"}, \"field\": \"component 0\", \"scale\": {\"zero\": false}, \"type\": \"quantitative\"}, \"y\": {\"axis\": {\"title\": \"component 1 \\u2014 21.11%\"}, \"field\": \"component 1\", \"scale\": {\"zero\": false}, \"type\": \"quantitative\"}}, \"name\": \"view_2\"}, {\"data\": {\"name\": \"data-05af38968b219e35c90e0fd35f832f4d\"}, \"mark\": {\"type\": \"circle\", \"size\": 50}, \"encoding\": {\"color\": {\"field\": \"variable\", \"type\": \"nominal\"}, \"tooltip\": [{\"field\": \"variable\", \"type\": \"nominal\"}, {\"field\": \"value\", \"type\": \"nominal\"}, {\"field\": \"component 0\", \"type\": \"quantitative\"}, {\"field\": \"component 1\", \"type\": \"quantitative\"}], \"x\": {\"axis\": {\"title\": \"component 0 \\u2014 40.17%\"}, \"field\": \"component 0\", \"scale\": {\"zero\": false}, \"type\": \"quantitative\"}, \"y\": {\"axis\": {\"title\": \"component 1 \\u2014 21.11%\"}, \"field\": \"component 1\", \"scale\": {\"zero\": false}, \"type\": \"quantitative\"}}}], \"params\": [{\"name\": \"param_2\", \"select\": {\"type\": \"interval\", \"encodings\": [\"x\", \"y\"]}, \"bind\": \"scales\", \"views\": [\"view_2\"]}], \"$schema\": \"https://vega.github.io/schema/vega-lite/v5.17.0.json\", \"datasets\": {\"data-40f5961464c2f1418dceaee99c960875\": [{\"component 0\": 0.7053867996248329, \"component 1\": 1.0057347520207741e-14, \"variable\": \"row\", \"value\": \"0\", \"label\": 0}, {\"component 0\": -0.3865862994959903, \"component 1\": 8.413028203785082e-15, \"variable\": \"row\", \"value\": \"1\", \"label\": 1}, {\"component 0\": -0.3865862994959904, \"component 1\": 8.537211540553799e-15, \"variable\": \"row\", \"value\": \"2\", \"label\": 2}, {\"component 0\": -0.8520140574664052, \"component 1\": 7.645027603786722e-15, \"variable\": \"row\", \"value\": \"3\", \"label\": 3}, {\"component 0\": 0.7835387510478183, \"component 1\": -0.6333333333333315, \"variable\": \"row\", \"value\": \"4\", \"label\": 4}, {\"component 0\": 0.7835387510478183, \"component 1\": -0.6333333333333315, \"variable\": \"row\", \"value\": \"5\", \"label\": 5}, {\"component 0\": -0.3084343480730048, \"component 1\": -0.6333333333333332, \"variable\": \"row\", \"value\": \"6\", \"label\": 6}, {\"component 0\": -0.30843434807300485, \"component 1\": -0.6333333333333331, \"variable\": \"row\", \"value\": \"7\", \"label\": 7}, {\"component 0\": -0.7738621060434198, \"component 1\": -0.633333333333334, \"variable\": \"row\", \"value\": \"8\", \"label\": 8}, {\"component 0\": 0.7835387510478187, \"component 1\": 0.6333333333333351, \"variable\": \"row\", \"value\": \"9\", \"label\": 9}, {\"component 0\": 0.7835387510478187, \"component 1\": 0.6333333333333351, \"variable\": \"row\", \"value\": \"10\", \"label\": 10}, {\"component 0\": -0.30843434807300446, \"component 1\": 0.6333333333333334, \"variable\": \"row\", \"value\": \"11\", \"label\": 11}, {\"component 0\": -0.3084343480730045, \"component 1\": 0.6333333333333335, \"variable\": \"row\", \"value\": \"12\", \"label\": 12}, {\"component 0\": -0.7738621060434194, \"component 1\": 0.6333333333333326, \"variable\": \"row\", \"value\": \"13\", \"label\": 13}, {\"component 0\": 0.8616907024708043, \"component 1\": -6.6759618011612034e-15, \"variable\": \"row\", \"value\": \"14\", \"label\": 14}, {\"component 0\": 0.8616907024708043, \"component 1\": -6.6759618011612034e-15, \"variable\": \"row\", \"value\": \"15\", \"label\": 15}, {\"component 0\": -0.2302823966500189, \"component 1\": -8.320281117583862e-15, \"variable\": \"row\", \"value\": \"16\", \"label\": 16}, {\"component 0\": -0.23028239665001898, \"component 1\": -8.196097780815145e-15, \"variable\": \"row\", \"value\": \"17\", \"label\": 17}, {\"component 0\": -0.6957101546204338, \"component 1\": -9.088281717582223e-15, \"variable\": \"row\", \"value\": \"18\", \"label\": 18}], \"data-05af38968b219e35c90e0fd35f832f4d\": [{\"component 0\": 0.11730760677191522, \"component 1\": 0.6892024376045031, \"variable\": \"column\", \"value\": \"Color_PURPLE\", \"label\": \"Color_PURPLE\"}, {\"component 0\": -0.13034178530212795, \"component 1\": -0.7657804862272253, \"variable\": \"column\", \"value\": \"Color_YELLOW\", \"label\": \"Color_YELLOW\"}, {\"component 0\": 0.117307606771915, \"component 1\": -0.6892024376045197, \"variable\": \"column\", \"value\": \"Size_LARGE\", \"label\": \"Size_LARGE\"}, {\"component 0\": -0.1303417853021277, \"component 1\": 0.7657804862272444, \"variable\": \"column\", \"value\": \"Size_SMALL\", \"label\": \"Size_SMALL\"}, {\"component 0\": -0.8538641988881541, \"component 1\": -3.272421274702864e-16, \"variable\": \"column\", \"value\": \"Action_DIP\", \"label\": \"Action_DIP\"}, {\"component 0\": 0.6209921446459302, \"component 1\": 3.296398426357897e-16, \"variable\": \"column\", \"value\": \"Action_STRETCH\", \"label\": \"Action_STRETCH\"}, {\"component 0\": 0.6209921446459302, \"component 1\": 3.818515370957182e-16, \"variable\": \"column\", \"value\": \"Age_ADULT\", \"label\": \"Age_ADULT\"}, {\"component 0\": -0.8538641988881542, \"component 1\": -3.410316944299769e-16, \"variable\": \"column\", \"value\": \"Age_CHILD\", \"label\": \"Age_CHILD\"}, {\"component 0\": -0.7314664035372918, \"component 1\": -5.500633310596319e-18, \"variable\": \"column\", \"value\": \"Inflated_F\", \"label\": \"Inflated_F\"}, {\"component 0\": 1.2539424060639288, \"component 1\": 2.6490040443345366e-16, \"variable\": \"column\", \"value\": \"Inflated_T\", \"label\": \"Inflated_T\"}]}}, {\"mode\": \"vega-lite\"});\n",
       "</script>"
      ],
      "text/plain": [
       "alt.LayerChart(...)"
      ]
     },
     "execution_count": 11,
     "metadata": {},
     "output_type": "execute_result"
    }
   ],
   "source": [
    "m_analise_correspondencia.plot(dados)"
   ]
  },
  {
   "cell_type": "markdown",
   "metadata": {},
   "source": [
    "Ou seja, a figura exibe as associações entre cores, tamanhos, ações, idade e o estado dos balões. Essa visualização é interessante em estudos de mercado, quando queremos comparar o desempenho de pontos de vendas ou produtos por região.\n",
    "\n",
    "Agora, você precisa praticar o exemplo que vimos e realizar algumas modificações para ganhar segurança. Realmente, esse assunto é avançado, mas lembre-se de que o nosso objetivo é conhecer técnicas avançadas de ciência de dados para resolver problemas reais, então, você está no caminho certo. Bons Estudos!"
   ]
  }
 ],
 "metadata": {
  "kernelspec": {
   "display_name": "Python 3",
   "language": "python",
   "name": "python3"
  },
  "language_info": {
   "codemirror_mode": {
    "name": "ipython",
    "version": 3
   },
   "file_extension": ".py",
   "mimetype": "text/x-python",
   "name": "python",
   "nbconvert_exporter": "python",
   "pygments_lexer": "ipython3",
   "version": "3.12.0"
  }
 },
 "nbformat": 4,
 "nbformat_minor": 2
}
