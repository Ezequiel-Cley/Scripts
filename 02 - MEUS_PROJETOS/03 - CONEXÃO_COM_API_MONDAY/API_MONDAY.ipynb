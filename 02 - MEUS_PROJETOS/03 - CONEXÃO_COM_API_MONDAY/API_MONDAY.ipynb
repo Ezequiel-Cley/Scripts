{
 "cells": [
  {
   "cell_type": "code",
   "execution_count": 1,
   "metadata": {},
   "outputs": [],
   "source": [
    "# PROJETO DE CONEXÃO COM PLATAFORMA MONDAY PARA EXTRAÇÃO DE ATIVIDADES E ROTINAS DIARIAS\n",
    "# Importando Biblioteca para Extração de API\n",
    "import requests\n",
    "\n",
    "# Importando Pandas para tratamento e leitura dos dados\n",
    "import pandas as pd\n",
    "import datetime\n",
    "\n",
    "# Acessar componentes do SISTEAMA OPERCIONAL\n",
    "import os\n",
    "import asyncio\n",
    "\n",
    "# Instalar o pacote (python-telegram-bot)\n",
    "from telegram import Bot"
   ]
  },
  {
   "cell_type": "code",
   "execution_count": 3,
   "metadata": {},
   "outputs": [],
   "source": [
    "# Configurado Report para Envio de Informações em caso de erro por Telegram!!!\n",
    "\n",
    "# define o token do seu bot do Telegram\n",
    "TOKEN = 'INSERIR_TOKEN_DO_SEU_BOT_TELEGRAM'\n",
    "# inicializa o objeto bot\n",
    "bot = Bot(token=TOKEN)\n",
    "# Incluir código do grupo\n",
    "GRUPO = 'INSERIR_CÓDIGO_DO_GRUPO_QUE_DESEJA_ENVIAR_O_ALERTA'"
   ]
  },
  {
   "cell_type": "code",
   "execution_count": 15,
   "metadata": {},
   "outputs": [
    {
     "name": "stdout",
     "output_type": "stream",
     "text": [
      "Realizado a solicitação de conexão com a API\n"
     ]
    }
   ],
   "source": [
    "# Key de acesso a API\n",
    "apiKey = \"Inseri_API_DO_SEU_ADM_MONDAY\"\n",
    "\n",
    "# URL de Acesso a API > Monday\n",
    "apiUrl = \"https://api.monday.com/v2\"\n",
    "\n",
    "# Variavel para Parametro do Requeset Liberar acesso\n",
    "headers = {\"Authorization\" : apiKey}\n",
    "\n",
    "# Query de linguagem GRAPHQL para acesso de API (CONSULTA PODE VARIAR AGORA COM SUA NOVA VERSÃO > E DADOS DIVERGEM DEPENDEDO DO TIPO DE AREA ESCOLHIDA OU CRIADA NO MONDAY)\n",
    "query2 = '{boards() { name id description items { id name column_values{title id type text } } } }'\n",
    "data = {'query' : query2}\n",
    "print('Realizado a solicitação de conexão com a API')\n",
    "\n",
    "# Realizado conexão com API\n",
    "r = requests.post(url=apiUrl, json=data, headers=headers) # make request"
   ]
  },
  {
   "cell_type": "code",
   "execution_count": 16,
   "metadata": {},
   "outputs": [
    {
     "name": "stdout",
     "output_type": "stream",
     "text": [
      "Conexão com a API foi um Sucesso!!!\n"
     ]
    }
   ],
   "source": [
    "\n",
    "#Condição de validação se conexão com API foi um Sucesso\n",
    "if r.status_code == 200:\n",
    "    print('Conexão com a API foi um Sucesso!!!')\n",
    "    # Usando o json_normalize para transformar os dados em um DataFrame\n",
    "    df = pd.json_normalize(r.json(), record_path=['data', 'boards', 'items','column_values'], \n",
    "    meta=[['data', 'boards', 'items','name'],['data', 'boards', 'name'],['data', 'boards', 'name', 'id'] ])\n",
    "else:\n",
    "    print(\"Falha na Atualização de Relatório, Erro: Status de conexão com a API {r.status_code}\")\n",
    "    # Mensagem que você deseja enviar\n",
    "    mensagem = f\"Falha na Atualização de Relatório DP, Erro: Status de conexão com a API {r.status_code}\"\n",
    "    # Enviar a mensagem desejada\n",
    "    # Cria uma função assicronica para Enviar_mensagem():\n",
    "    async def enviar_foto():\n",
    "        await bot.send_message(chat_id=GRUPO, text=mensagem)\n",
    "    # chama a função assíncrona usando asyncio\n",
    "    loop = asyncio.get_event_loop()\n",
    "    loop.run_until_complete(enviar_foto()) \n",
    "    exit()"
   ]
  },
  {
   "cell_type": "code",
   "execution_count": 17,
   "metadata": {},
   "outputs": [],
   "source": [
    "# Organiza as colunas para realizar a alteração de linhas para colunas!!!\n",
    "df = df[['data.boards.name.id','data.boards.name','data.boards.items.name', 'title', 'text']]\n",
    "\n",
    "# Realiza a troca dos nomes das colunas para melhor entedimento da Base\n",
    "df.rename(columns={'data.boards.name.id': 'ID',\n",
    "                   'data.boards.name': 'Quadro',\n",
    "                   'data.boards.items.name': 'Elemento'},\n",
    "          inplace = True)"
   ]
  },
  {
   "cell_type": "code",
   "execution_count": 18,
   "metadata": {},
   "outputs": [],
   "source": [
    "# Use a função pivot para transformar os dados de linhas para colunas mantendo as colunas (ID,Quadro e Elemento)\n",
    "df = df.pivot(index=['ID', 'Quadro', 'Elemento'], columns='title', values='text').reset_index()"
   ]
  },
  {
   "cell_type": "code",
   "execution_count": 19,
   "metadata": {},
   "outputs": [],
   "source": [
    "# Armazena informação da data atual para acrescenter ao nome do arquivo Historico \n",
    "data_atual = str(datetime.date.today())"
   ]
  },
  {
   "cell_type": "code",
   "execution_count": 20,
   "metadata": {},
   "outputs": [],
   "source": [
    "# Remover as duplicadas entre o arquivo historico e Datframe novo extraido pela API\n",
    "df.drop_duplicates(subset=['ID'], ignore_index=True, inplace= True)\n",
    " \n",
    "# Realizado a alteração do Tipo da Coluna Data\n",
    "df['Tempo Estimado'] = pd.to_numeric(df['Tempo Estimado'])\n",
    "# Criando uma função para criar uma nova coluna com tempo em segundo\n",
    "def tempo_segundo(Col):\n",
    " Col = (Col * 60)\n",
    " Col = (Col * 60)\n",
    " return Col"
   ]
  },
  {
   "cell_type": "code",
   "execution_count": 21,
   "metadata": {},
   "outputs": [],
   "source": [
    "# Aplicando a função para a nova coluna para obter os dados em Segundos\n",
    "df['Tempo_Estimado_Seg'] = df['Tempo Estimado'].apply(tempo_segundo)\n",
    "\n",
    "# Criando Coluna com a data Atual\n",
    "def data_hora_atual(Col):\n",
    " Col = str(datetime.datetime.today())\n",
    " return Col\n",
    "df['Data_Atual'] = ''\n",
    "df['Data_Atual'] = df['Data_Atual'].apply(data_hora_atual)"
   ]
  },
  {
   "cell_type": "code",
   "execution_count": 22,
   "metadata": {},
   "outputs": [
    {
     "data": {
      "text/html": [
       "<div>\n",
       "<style scoped>\n",
       "    .dataframe tbody tr th:only-of-type {\n",
       "        vertical-align: middle;\n",
       "    }\n",
       "\n",
       "    .dataframe tbody tr th {\n",
       "        vertical-align: top;\n",
       "    }\n",
       "\n",
       "    .dataframe thead th {\n",
       "        text-align: right;\n",
       "    }\n",
       "</style>\n",
       "<table border=\"1\" class=\"dataframe\">\n",
       "  <thead>\n",
       "    <tr style=\"text-align: right;\">\n",
       "      <th>title</th>\n",
       "      <th>ID</th>\n",
       "      <th>Quadro</th>\n",
       "      <th>Elemento</th>\n",
       "      <th>Data</th>\n",
       "      <th>Empresa</th>\n",
       "      <th>Prioridade</th>\n",
       "      <th>Responsável</th>\n",
       "      <th>Rotina</th>\n",
       "      <th>Status</th>\n",
       "      <th>Tempo Estimado</th>\n",
       "      <th>Área</th>\n",
       "      <th>Tempo_Estimado_Seg</th>\n",
       "      <th>Data_Atual</th>\n",
       "    </tr>\n",
       "  </thead>\n",
       "  <tbody>\n",
       "    <tr>\n",
       "      <th>0</th>\n",
       "      <td>5520656387</td>\n",
       "      <td>Atividades_Diarias</td>\n",
       "      <td>Renovação de Estoque</td>\n",
       "      <td>2023-11-12</td>\n",
       "      <td>LL</td>\n",
       "      <td>ALTA</td>\n",
       "      <td>Ezequiel Cleydenilson</td>\n",
       "      <td></td>\n",
       "      <td>Não Iniciada</td>\n",
       "      <td>1</td>\n",
       "      <td>MARKETING</td>\n",
       "      <td>3600</td>\n",
       "      <td>2023-11-15 22:46:38.778735</td>\n",
       "    </tr>\n",
       "    <tr>\n",
       "      <th>1</th>\n",
       "      <td>5520656392</td>\n",
       "      <td>Atividades_Diarias</td>\n",
       "      <td>Melhoria de Memoria</td>\n",
       "      <td>2023-11-18</td>\n",
       "      <td>ADV</td>\n",
       "      <td>BAIXA</td>\n",
       "      <td>Ezequiel Cleydenilson</td>\n",
       "      <td></td>\n",
       "      <td>Não Iniciada</td>\n",
       "      <td>10</td>\n",
       "      <td>ADMINISTRATIVO</td>\n",
       "      <td>36000</td>\n",
       "      <td>2023-11-15 22:46:38.778735</td>\n",
       "    </tr>\n",
       "    <tr>\n",
       "      <th>2</th>\n",
       "      <td>5520656399</td>\n",
       "      <td>Atividades_Diarias</td>\n",
       "      <td>Alteração de Dados</td>\n",
       "      <td>2023-11-12</td>\n",
       "      <td>LL</td>\n",
       "      <td>BAIXA</td>\n",
       "      <td>Ezequiel Cleydenilson</td>\n",
       "      <td></td>\n",
       "      <td>Concluido</td>\n",
       "      <td>4</td>\n",
       "      <td>CS</td>\n",
       "      <td>14400</td>\n",
       "      <td>2023-11-15 22:46:38.778735</td>\n",
       "    </tr>\n",
       "    <tr>\n",
       "      <th>3</th>\n",
       "      <td>5520656410</td>\n",
       "      <td>Atividades_Diarias</td>\n",
       "      <td>Testes de Equipamentos</td>\n",
       "      <td>2023-11-17</td>\n",
       "      <td>ADV</td>\n",
       "      <td>MÉDIA</td>\n",
       "      <td>Ezequiel Cleydenilson</td>\n",
       "      <td></td>\n",
       "      <td>Em andamento</td>\n",
       "      <td>5</td>\n",
       "      <td>MIS</td>\n",
       "      <td>18000</td>\n",
       "      <td>2023-11-15 22:46:38.778735</td>\n",
       "    </tr>\n",
       "    <tr>\n",
       "      <th>4</th>\n",
       "      <td>5520656414</td>\n",
       "      <td>Atividades_Diarias</td>\n",
       "      <td>Atualização de Maquinas</td>\n",
       "      <td>2023-11-17</td>\n",
       "      <td>SYS</td>\n",
       "      <td>ALTA</td>\n",
       "      <td>Ezequiel Cleydenilson</td>\n",
       "      <td></td>\n",
       "      <td>Em Aprovação</td>\n",
       "      <td>6</td>\n",
       "      <td>DADOS</td>\n",
       "      <td>21600</td>\n",
       "      <td>2023-11-15 22:46:38.778735</td>\n",
       "    </tr>\n",
       "  </tbody>\n",
       "</table>\n",
       "</div>"
      ],
      "text/plain": [
       "title          ID              Quadro                 Elemento        Data  \\\n",
       "0      5520656387  Atividades_Diarias     Renovação de Estoque  2023-11-12   \n",
       "1      5520656392  Atividades_Diarias      Melhoria de Memoria  2023-11-18   \n",
       "2      5520656399  Atividades_Diarias       Alteração de Dados  2023-11-12   \n",
       "3      5520656410  Atividades_Diarias   Testes de Equipamentos  2023-11-17   \n",
       "4      5520656414  Atividades_Diarias  Atualização de Maquinas  2023-11-17   \n",
       "\n",
       "title Empresa Prioridade            Responsável Rotina        Status  \\\n",
       "0          LL       ALTA  Ezequiel Cleydenilson         Não Iniciada   \n",
       "1         ADV      BAIXA  Ezequiel Cleydenilson         Não Iniciada   \n",
       "2          LL      BAIXA  Ezequiel Cleydenilson            Concluido   \n",
       "3         ADV      MÉDIA  Ezequiel Cleydenilson         Em andamento   \n",
       "4         SYS       ALTA  Ezequiel Cleydenilson         Em Aprovação   \n",
       "\n",
       "title  Tempo Estimado            Área  Tempo_Estimado_Seg  \\\n",
       "0                   1       MARKETING                3600   \n",
       "1                  10  ADMINISTRATIVO               36000   \n",
       "2                   4              CS               14400   \n",
       "3                   5             MIS               18000   \n",
       "4                   6           DADOS               21600   \n",
       "\n",
       "title                  Data_Atual  \n",
       "0      2023-11-15 22:46:38.778735  \n",
       "1      2023-11-15 22:46:38.778735  \n",
       "2      2023-11-15 22:46:38.778735  \n",
       "3      2023-11-15 22:46:38.778735  \n",
       "4      2023-11-15 22:46:38.778735  "
      ]
     },
     "execution_count": 22,
     "metadata": {},
     "output_type": "execute_result"
    }
   ],
   "source": [
    "df.head()"
   ]
  }
 ],
 "metadata": {
  "kernelspec": {
   "display_name": "Python 3",
   "language": "python",
   "name": "python3"
  },
  "language_info": {
   "codemirror_mode": {
    "name": "ipython",
    "version": 3
   },
   "file_extension": ".py",
   "mimetype": "text/x-python",
   "name": "python",
   "nbconvert_exporter": "python",
   "pygments_lexer": "ipython3",
   "version": "3.12.0"
  }
 },
 "nbformat": 4,
 "nbformat_minor": 2
}
