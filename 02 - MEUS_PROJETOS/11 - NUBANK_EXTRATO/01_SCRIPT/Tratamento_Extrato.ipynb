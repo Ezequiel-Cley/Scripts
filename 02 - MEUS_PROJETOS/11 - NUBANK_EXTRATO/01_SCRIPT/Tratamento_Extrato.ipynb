{
 "cells": [
  {
   "cell_type": "markdown",
   "metadata": {},
   "source": [
    "# EXTRAÇÃO DE DADOS DE EXTRATOS DO NUBANK PARA CRIAÇÃO DE UM RELATÓRIO"
   ]
  },
  {
   "cell_type": "code",
   "execution_count": 13,
   "metadata": {},
   "outputs": [],
   "source": [
    "# Importando Bibliotecas\n",
    "import pandas as pd\n",
    "import os"
   ]
  },
  {
   "cell_type": "code",
   "execution_count": 14,
   "metadata": {},
   "outputs": [],
   "source": [
    "# Criando Variaveis para Leitura de um Diretorio\n",
    "diretorio = r\"C:\\Users\\ezequ\\Scripts\\02 - MEUS_PROJETOS\\11 - NUBANK_EXTRATO\\02_INPUTS\""
   ]
  },
  {
   "cell_type": "code",
   "execution_count": 63,
   "metadata": {},
   "outputs": [],
   "source": [
    "# Criação de uma lista com todos os arquivos do diretorio\n",
    "arquivos = os.listdir(diretorio)\n",
    "\n",
    "# Cria um dataframe vazio para realizar o salvamento de varios arquivos em unico Dataframe no Loop \n",
    "df_Historica = pd.DataFrame()\n",
    "\n",
    "# Criando Loop para acessar todos os arquivos do diretorio e unifica-los\n",
    "for i in arquivos:\n",
    "    path = f'{diretorio}/{i}'\n",
    "    df_path = pd.read_csv(f'{path}')\n",
    "    df_path['Nome do Arquivo'] = i\n",
    "    df_Historica = pd.concat([df_Historica, df_path])"
   ]
  },
  {
   "cell_type": "code",
   "execution_count": 64,
   "metadata": {},
   "outputs": [],
   "source": [
    "# Alteração da coluna Data para tipo de DATETIME do Pandas\n",
    "df_Historica['Data'] = pd.to_datetime(df_Historica['Data'], format=\"%d/%m/%Y\")"
   ]
  },
  {
   "cell_type": "code",
   "execution_count": 65,
   "metadata": {},
   "outputs": [],
   "source": [
    "# Altera;áo da coluna Valor para o tipo FLOAT64 do Pandas\n",
    "df_Historica['Valor'] = pd.to_numeric(df_Historica['Valor'])"
   ]
  },
  {
   "cell_type": "code",
   "execution_count": 99,
   "metadata": {},
   "outputs": [],
   "source": [
    "# Atribua o novo valor à coluna 'Descrição' para as linhas que atendem à condição\n",
    "df_Historica.loc[df_Historica['Descrição'].str.contains('Transferência enviada pelo Pix'), 'Descrição'] = 'Transferência enviada pelo Pix'\n",
    "df_Historica.loc[df_Historica['Descrição'].str.contains('Transferência recebida pelo Pix'), 'Descrição'] = 'Transferência recebida pelo Pix'\n",
    "df_Historica.loc[df_Historica['Descrição'].str.contains('Transferência Recebida'), 'Descrição'] = 'Transferência Recebida'\n",
    "df_Historica.loc[df_Historica['Descrição'].str.contains('Reembolso recebido pelo Pix'), 'Descrição'] = 'Reembolso recebido pelo Pix'\n",
    "df_Historica.loc[df_Historica['Descrição'].str.contains('Compra no débito'), 'Descrição'] = 'Compra no débito'\n",
    "df_Historica.loc[df_Historica['Descrição'].str.contains('Pagamento de boleto efetuado'), 'Descrição'] = 'Pagamento de boleto efetuado'\n"
   ]
  },
  {
   "cell_type": "code",
   "execution_count": 158,
   "metadata": {},
   "outputs": [],
   "source": [
    "# Tornando todos os elementos da Coluna em Letras Maisculas\n",
    "df_Historica['Descrição'] = df_Historica['Descrição'].str.upper()"
   ]
  },
  {
   "cell_type": "code",
   "execution_count": 190,
   "metadata": {},
   "outputs": [
    {
     "data": {
      "text/html": [
       "<div>\n",
       "<style scoped>\n",
       "    .dataframe tbody tr th:only-of-type {\n",
       "        vertical-align: middle;\n",
       "    }\n",
       "\n",
       "    .dataframe tbody tr th {\n",
       "        vertical-align: top;\n",
       "    }\n",
       "\n",
       "    .dataframe thead th {\n",
       "        text-align: right;\n",
       "    }\n",
       "</style>\n",
       "<table border=\"1\" class=\"dataframe\">\n",
       "  <thead>\n",
       "    <tr style=\"text-align: right;\">\n",
       "      <th></th>\n",
       "      <th>Descrição</th>\n",
       "      <th>TOTAL</th>\n",
       "      <th>RECEITA</th>\n",
       "      <th>RETIRADA_INVESTIMENTO</th>\n",
       "      <th>CREDITO</th>\n",
       "      <th>DÉBITO</th>\n",
       "      <th>GASTOS</th>\n",
       "      <th>INVESTIMENTO</th>\n",
       "    </tr>\n",
       "  </thead>\n",
       "  <tbody>\n",
       "    <tr>\n",
       "      <th>0</th>\n",
       "      <td>APLICAÇÃO FUNDO - NU RESERVA IMEDIATA</td>\n",
       "      <td>-8402.41</td>\n",
       "      <td>0.00</td>\n",
       "      <td>0.00</td>\n",
       "      <td>0.00</td>\n",
       "      <td>0.00</td>\n",
       "      <td>0.00</td>\n",
       "      <td>-8402.41</td>\n",
       "    </tr>\n",
       "    <tr>\n",
       "      <th>1</th>\n",
       "      <td>APLICAÇÃO RDB</td>\n",
       "      <td>-50330.13</td>\n",
       "      <td>0.00</td>\n",
       "      <td>0.00</td>\n",
       "      <td>0.00</td>\n",
       "      <td>0.00</td>\n",
       "      <td>0.00</td>\n",
       "      <td>-50330.13</td>\n",
       "    </tr>\n",
       "    <tr>\n",
       "      <th>2</th>\n",
       "      <td>COMPRA NO DÉBITO</td>\n",
       "      <td>-5567.26</td>\n",
       "      <td>0.00</td>\n",
       "      <td>0.00</td>\n",
       "      <td>0.00</td>\n",
       "      <td>-5567.26</td>\n",
       "      <td>0.00</td>\n",
       "      <td>0.00</td>\n",
       "    </tr>\n",
       "    <tr>\n",
       "      <th>3</th>\n",
       "      <td>PAGAMENTO DE BOLETO EFETUADO</td>\n",
       "      <td>-3068.40</td>\n",
       "      <td>0.00</td>\n",
       "      <td>0.00</td>\n",
       "      <td>-3068.40</td>\n",
       "      <td>0.00</td>\n",
       "      <td>-3068.40</td>\n",
       "      <td>0.00</td>\n",
       "    </tr>\n",
       "    <tr>\n",
       "      <th>4</th>\n",
       "      <td>PAGAMENTO DE FATURA</td>\n",
       "      <td>-14545.06</td>\n",
       "      <td>0.00</td>\n",
       "      <td>0.00</td>\n",
       "      <td>-14545.06</td>\n",
       "      <td>0.00</td>\n",
       "      <td>-14545.06</td>\n",
       "      <td>0.00</td>\n",
       "    </tr>\n",
       "    <tr>\n",
       "      <th>5</th>\n",
       "      <td>RECARGA DE CELULAR</td>\n",
       "      <td>-235.00</td>\n",
       "      <td>0.00</td>\n",
       "      <td>0.00</td>\n",
       "      <td>0.00</td>\n",
       "      <td>0.00</td>\n",
       "      <td>-235.00</td>\n",
       "      <td>0.00</td>\n",
       "    </tr>\n",
       "    <tr>\n",
       "      <th>6</th>\n",
       "      <td>REEMBOLSO RECEBIDO PELO PIX</td>\n",
       "      <td>595.11</td>\n",
       "      <td>595.11</td>\n",
       "      <td>0.00</td>\n",
       "      <td>0.00</td>\n",
       "      <td>0.00</td>\n",
       "      <td>0.00</td>\n",
       "      <td>0.00</td>\n",
       "    </tr>\n",
       "    <tr>\n",
       "      <th>7</th>\n",
       "      <td>RESGATE FUNDO - NU RESERVA IMEDIATA</td>\n",
       "      <td>3305.14</td>\n",
       "      <td>0.00</td>\n",
       "      <td>3305.14</td>\n",
       "      <td>0.00</td>\n",
       "      <td>0.00</td>\n",
       "      <td>0.00</td>\n",
       "      <td>0.00</td>\n",
       "    </tr>\n",
       "    <tr>\n",
       "      <th>8</th>\n",
       "      <td>RESGATE RDB</td>\n",
       "      <td>33690.32</td>\n",
       "      <td>0.00</td>\n",
       "      <td>33690.32</td>\n",
       "      <td>0.00</td>\n",
       "      <td>0.00</td>\n",
       "      <td>0.00</td>\n",
       "      <td>0.00</td>\n",
       "    </tr>\n",
       "    <tr>\n",
       "      <th>9</th>\n",
       "      <td>TRANSFERÊNCIA ENVIADA PELO PIX</td>\n",
       "      <td>-28603.59</td>\n",
       "      <td>0.00</td>\n",
       "      <td>0.00</td>\n",
       "      <td>0.00</td>\n",
       "      <td>0.00</td>\n",
       "      <td>-28603.59</td>\n",
       "      <td>0.00</td>\n",
       "    </tr>\n",
       "    <tr>\n",
       "      <th>10</th>\n",
       "      <td>TRANSFERÊNCIA RECEBIDA</td>\n",
       "      <td>57412.84</td>\n",
       "      <td>57412.84</td>\n",
       "      <td>0.00</td>\n",
       "      <td>0.00</td>\n",
       "      <td>0.00</td>\n",
       "      <td>0.00</td>\n",
       "      <td>0.00</td>\n",
       "    </tr>\n",
       "    <tr>\n",
       "      <th>11</th>\n",
       "      <td>TRANSFERÊNCIA RECEBIDA PELO PIX</td>\n",
       "      <td>13943.16</td>\n",
       "      <td>13943.16</td>\n",
       "      <td>0.00</td>\n",
       "      <td>0.00</td>\n",
       "      <td>0.00</td>\n",
       "      <td>0.00</td>\n",
       "      <td>0.00</td>\n",
       "    </tr>\n",
       "  </tbody>\n",
       "</table>\n",
       "</div>"
      ],
      "text/plain": [
       "                                Descrição     TOTAL   RECEITA  \\\n",
       "0   APLICAÇÃO FUNDO - NU RESERVA IMEDIATA  -8402.41      0.00   \n",
       "1                           APLICAÇÃO RDB -50330.13      0.00   \n",
       "2                        COMPRA NO DÉBITO  -5567.26      0.00   \n",
       "3            PAGAMENTO DE BOLETO EFETUADO  -3068.40      0.00   \n",
       "4                     PAGAMENTO DE FATURA -14545.06      0.00   \n",
       "5                      RECARGA DE CELULAR   -235.00      0.00   \n",
       "6             REEMBOLSO RECEBIDO PELO PIX    595.11    595.11   \n",
       "7     RESGATE FUNDO - NU RESERVA IMEDIATA   3305.14      0.00   \n",
       "8                             RESGATE RDB  33690.32      0.00   \n",
       "9          TRANSFERÊNCIA ENVIADA PELO PIX -28603.59      0.00   \n",
       "10                 TRANSFERÊNCIA RECEBIDA  57412.84  57412.84   \n",
       "11        TRANSFERÊNCIA RECEBIDA PELO PIX  13943.16  13943.16   \n",
       "\n",
       "    RETIRADA_INVESTIMENTO   CREDITO   DÉBITO    GASTOS  INVESTIMENTO  \n",
       "0                    0.00      0.00     0.00      0.00      -8402.41  \n",
       "1                    0.00      0.00     0.00      0.00     -50330.13  \n",
       "2                    0.00      0.00 -5567.26      0.00          0.00  \n",
       "3                    0.00  -3068.40     0.00  -3068.40          0.00  \n",
       "4                    0.00 -14545.06     0.00 -14545.06          0.00  \n",
       "5                    0.00      0.00     0.00   -235.00          0.00  \n",
       "6                    0.00      0.00     0.00      0.00          0.00  \n",
       "7                 3305.14      0.00     0.00      0.00          0.00  \n",
       "8                33690.32      0.00     0.00      0.00          0.00  \n",
       "9                    0.00      0.00     0.00 -28603.59          0.00  \n",
       "10                   0.00      0.00     0.00      0.00          0.00  \n",
       "11                   0.00      0.00     0.00      0.00          0.00  "
      ]
     },
     "execution_count": 190,
     "metadata": {},
     "output_type": "execute_result"
    }
   ],
   "source": [
    "df_Historica.groupby(['Descrição']).agg(\n",
    "    TOTAL = ('Valor', 'sum'), \n",
    "    RECEITA = ('RECEITA', 'sum'),\n",
    "    RETIRADA_INVESTIMENTO = ('RETIRADA_INVESTIMENTO', 'sum'),\n",
    "    CREDITO = ('CREDITO', 'sum'),\n",
    "    DÉBITO = ('DÉBITO', 'sum'),\n",
    "    GASTOS = ('GASTOS', 'sum'),\n",
    "    INVESTIMENTO = ('INVESTIMENTO', 'sum'),\n",
    "    ).reset_index()"
   ]
  },
  {
   "cell_type": "code",
   "execution_count": 184,
   "metadata": {},
   "outputs": [],
   "source": [
    "# Criando uma nova coluna 'RECEITA' com todos os valores que entraram na conta\n",
    "# Criando uma tabela condicional para identificação dos elementos com os valores entrantes na conta\n",
    "condition = df_Historica['Descrição'].str.contains('TRANSFERÊNCIA RECEBIDA', case=False) | df_Historica['Descrição'].str.contains('REEMBOLSO RECEBIDO PELO PIX', case=False)\n",
    "# Aplicando a condição em uma nova Coluna\n",
    "df_Historica['RECEITA'] = df_Historica.loc[condition, 'Valor']\n",
    "df_Historica['RECEITA'] = df_Historica['RECEITA'].fillna(0)"
   ]
  },
  {
   "cell_type": "code",
   "execution_count": 185,
   "metadata": {},
   "outputs": [],
   "source": [
    "# Criando uma nova coluna 'Resgate' com todos os valores que sairam dos Investimentos realizados na conta\n",
    "# Criando uma tabela condicional para identificação dos valores que sairam dos Investimentos realizados na conta\n",
    "condition = df_Historica['Descrição'].str.contains('RESGATE', case=False)\n",
    "# Aplicando a condição em uma nova Coluna\n",
    "df_Historica['RETIRADA_INVESTIMENTO'] = df_Historica.loc[condition, 'Valor']\n",
    "df_Historica['RETIRADA_INVESTIMENTO'] = df_Historica['RETIRADA_INVESTIMENTO'].fillna(0)"
   ]
  },
  {
   "cell_type": "code",
   "execution_count": 186,
   "metadata": {},
   "outputs": [],
   "source": [
    "# Criando uma nova coluna 'CREDITO' com todos os de Pagamentos realizado naquele mês\n",
    "# Criando uma tabela condicional para identificação dos Pagamentos realizado naquele mês\n",
    "condition = df_Historica['Descrição'].str.contains('PAGAMENTO', case=False)\n",
    "# Aplicando a condição em uma nova Coluna\n",
    "df_Historica['CREDITO'] = df_Historica.loc[condition, 'Valor']  \n",
    "df_Historica['CREDITO'] = df_Historica['CREDITO'].fillna(0)"
   ]
  },
  {
   "cell_type": "code",
   "execution_count": 187,
   "metadata": {},
   "outputs": [],
   "source": [
    "# Criando uma nova coluna 'DÉBITO' com todos as compras realizadas \n",
    "# Criando uma tabela condicional para identificação das compras realizadas\n",
    "condition = df_Historica['Descrição'].str.contains('DÉBITO', case=False)\n",
    "# Aplicando a condição em uma nova Coluna\n",
    "df_Historica['DÉBITO'] = df_Historica.loc[condition, 'Valor']\n",
    "df_Historica['DÉBITO'] = df_Historica['DÉBITO'].fillna(0)"
   ]
  },
  {
   "cell_type": "code",
   "execution_count": 188,
   "metadata": {},
   "outputs": [],
   "source": [
    "# Criando uma nova coluna 'GASTOS' com todos os valores de gastos realizados sem exceção\n",
    "# Criando uma tabela condicional para identificação de valores de gastos realizados sem exceção\n",
    "condition = df_Historica['Descrição'].str.contains('PAGAMENTO', case=False) | df_Historica['Descrição'].str.contains('ENVIADA', case=False) | df_Historica['Descrição'].str.contains('RECARGA', case=False)\n",
    "# Aplicando a condição em uma nova Coluna\n",
    "df_Historica['GASTOS'] = df_Historica.loc[condition, 'Valor']\n",
    "df_Historica['GASTOS'] = df_Historica['GASTOS'].fillna(0) "
   ]
  },
  {
   "cell_type": "code",
   "execution_count": 189,
   "metadata": {},
   "outputs": [],
   "source": [
    "# Criando uma nova coluna 'INVESTIMENTO' com todos os valores de INVESTIMENTOS\n",
    "# Criando uma tabela condicional para identificação de valores de INVESTIMENTOS\n",
    "condition = df_Historica['Descrição'].str.contains('APLICAÇÃO', case=False)\n",
    "# Aplicando a condição em uma nova Coluna\n",
    "df_Historica['INVESTIMENTO'] = df_Historica.loc[condition, 'Valor']  \n",
    "df_Historica['INVESTIMENTO'] = df_Historica['INVESTIMENTO'].fillna(0)"
   ]
  },
  {
   "cell_type": "code",
   "execution_count": 192,
   "metadata": {},
   "outputs": [],
   "source": [
    "df_Historica['TOTAL'] = df_Historica['Valor']"
   ]
  },
  {
   "cell_type": "code",
   "execution_count": 194,
   "metadata": {},
   "outputs": [],
   "source": [
    "df_Historica = df_Historica[['Data','Descrição','RECEITA','RETIRADA_INVESTIMENTO','CREDITO','DÉBITO','GASTOS','INVESTIMENTO','TOTAL']]"
   ]
  },
  {
   "cell_type": "code",
   "execution_count": 196,
   "metadata": {},
   "outputs": [],
   "source": [
    "df_Historica.to_excel(r'C:\\Users\\ezequ\\Scripts\\02 - MEUS_PROJETOS\\11 - NUBANK_EXTRATO\\03_OUTPUT\\FINANCAS.xlsx', index=False)"
   ]
  }
 ],
 "metadata": {
  "kernelspec": {
   "display_name": "Python 3",
   "language": "python",
   "name": "python3"
  },
  "language_info": {
   "codemirror_mode": {
    "name": "ipython",
    "version": 3
   },
   "file_extension": ".py",
   "mimetype": "text/x-python",
   "name": "python",
   "nbconvert_exporter": "python",
   "pygments_lexer": "ipython3",
   "version": "3.12.0"
  }
 },
 "nbformat": 4,
 "nbformat_minor": 2
}
