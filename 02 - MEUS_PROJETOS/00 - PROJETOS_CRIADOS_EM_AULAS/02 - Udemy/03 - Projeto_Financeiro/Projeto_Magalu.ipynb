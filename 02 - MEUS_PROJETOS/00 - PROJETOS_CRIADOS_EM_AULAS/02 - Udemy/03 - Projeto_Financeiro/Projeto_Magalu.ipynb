{
 "cells": [
  {
   "cell_type": "code",
   "execution_count": 1,
   "metadata": {},
   "outputs": [
    {
     "name": "stdout",
     "output_type": "stream",
     "text": [
      "Dados salvo no Google Driver\n",
      "https://docs.google.com/spreadsheets/d/1r0_Vs5QX1ef5X1MZCbDg8kcqm-my3rSn/edit?usp=sharing&ouid=108903987275959757465&rtpof=true&sd=true\n"
     ]
    }
   ],
   "source": [
    "# Dados para download\n",
    "Base_Dados_Nesse_Link = 'https://docs.google.com/spreadsheets/d/1r0_Vs5QX1ef5X1MZCbDg8kcqm-my3rSn/edit?usp=sharing&ouid=108903987275959757465&rtpof=true&sd=true'\n",
    "print('Dados salvo no Google Driver')\n",
    "print( Base_Dados_Nesse_Link )"
   ]
  },
  {
   "cell_type": "code",
   "execution_count": 2,
   "metadata": {},
   "outputs": [],
   "source": [
    "# Libs Necessárias\n",
    "\n",
    "# Libs para Modelagem e Matrizez\n",
    "import numpy as np\n",
    "import pandas as pd\n",
    "\n",
    "# Libs para anaálises gráficas\n",
    "import matplotlib.pyplot as plt\n",
    "import seaborn as sns\n",
    "import plotly.graph_objects as go\n",
    "\n",
    "# Lib para ignorar avisos\n",
    "import warnings\n",
    "\n",
    "# Desabilitando avisos\n",
    "warnings.filterwarnings('ignore')"
   ]
  },
  {
   "cell_type": "code",
   "execution_count": 17,
   "metadata": {},
   "outputs": [],
   "source": [
    "# Lendo os dados\n",
    "Base_Dados = pd.read_html(Base_Dados_Nesse_Link, skiprows=1)[0]"
   ]
  },
  {
   "cell_type": "code",
   "execution_count": 24,
   "metadata": {},
   "outputs": [],
   "source": [
    "# Ajustando Colunas\n",
    "Base_Dados = Base_Dados[['Data','Maior','Menor','Abertura','Fechamento','Volume','Adj Close']]"
   ]
  },
  {
   "cell_type": "code",
   "execution_count": 16,
   "metadata": {},
   "outputs": [
    {
     "data": {
      "text/html": [
       "<div>\n",
       "<style scoped>\n",
       "    .dataframe tbody tr th:only-of-type {\n",
       "        vertical-align: middle;\n",
       "    }\n",
       "\n",
       "    .dataframe tbody tr th {\n",
       "        vertical-align: top;\n",
       "    }\n",
       "\n",
       "    .dataframe thead th {\n",
       "        text-align: right;\n",
       "    }\n",
       "</style>\n",
       "<table border=\"1\" class=\"dataframe\">\n",
       "  <thead>\n",
       "    <tr style=\"text-align: right;\">\n",
       "      <th></th>\n",
       "      <th>Data</th>\n",
       "      <th>Maior</th>\n",
       "      <th>Menor</th>\n",
       "      <th>Abertura</th>\n",
       "      <th>Fechamento</th>\n",
       "      <th>Volume</th>\n",
       "      <th>Adj Close</th>\n",
       "    </tr>\n",
       "  </thead>\n",
       "  <tbody>\n",
       "    <tr>\n",
       "      <th>0</th>\n",
       "      <td>1/4/2021</td>\n",
       "      <td>2558</td>\n",
       "      <td>2487</td>\n",
       "      <td>2526</td>\n",
       "      <td>2520</td>\n",
       "      <td>25.706.100</td>\n",
       "      <td>2518</td>\n",
       "    </tr>\n",
       "    <tr>\n",
       "      <th>1</th>\n",
       "      <td>1/5/2021</td>\n",
       "      <td>2518</td>\n",
       "      <td>2434</td>\n",
       "      <td>2510</td>\n",
       "      <td>2476</td>\n",
       "      <td>25.431.900</td>\n",
       "      <td>2474</td>\n",
       "    </tr>\n",
       "    <tr>\n",
       "      <th>2</th>\n",
       "      <td>1/6/2021</td>\n",
       "      <td>2466</td>\n",
       "      <td>2342</td>\n",
       "      <td>2465</td>\n",
       "      <td>2346</td>\n",
       "      <td>51.799.000</td>\n",
       "      <td>2344</td>\n",
       "    </tr>\n",
       "    <tr>\n",
       "      <th>3</th>\n",
       "      <td>1/7/2021</td>\n",
       "      <td>2385</td>\n",
       "      <td>2295</td>\n",
       "      <td>2364</td>\n",
       "      <td>2316</td>\n",
       "      <td>42.146.600</td>\n",
       "      <td>2314</td>\n",
       "    </tr>\n",
       "    <tr>\n",
       "      <th>4</th>\n",
       "      <td>1/8/2021</td>\n",
       "      <td>2430</td>\n",
       "      <td>2302</td>\n",
       "      <td>2319</td>\n",
       "      <td>2384</td>\n",
       "      <td>43.988.100</td>\n",
       "      <td>2382</td>\n",
       "    </tr>\n",
       "  </tbody>\n",
       "</table>\n",
       "</div>"
      ],
      "text/plain": [
       "       Data  Maior  Menor  Abertura  Fechamento      Volume  Adj Close\n",
       "0  1/4/2021   2558   2487      2526        2520  25.706.100       2518\n",
       "1  1/5/2021   2518   2434      2510        2476  25.431.900       2474\n",
       "2  1/6/2021   2466   2342      2465        2346  51.799.000       2344\n",
       "3  1/7/2021   2385   2295      2364        2316  42.146.600       2314\n",
       "4  1/8/2021   2430   2302      2319        2384  43.988.100       2382"
      ]
     },
     "execution_count": 16,
     "metadata": {},
     "output_type": "execute_result"
    }
   ],
   "source": [
    "# Verificando\n",
    "Base_Dados.head()"
   ]
  },
  {
   "cell_type": "code",
   "execution_count": 25,
   "metadata": {},
   "outputs": [
    {
     "data": {
      "text/plain": [
       "(99, 7)"
      ]
     },
     "execution_count": 25,
     "metadata": {},
     "output_type": "execute_result"
    }
   ],
   "source": [
    "#Validando Tamanho do Arquivo\n",
    "Base_Dados.shape"
   ]
  },
  {
   "cell_type": "code",
   "execution_count": 26,
   "metadata": {},
   "outputs": [
    {
     "name": "stdout",
     "output_type": "stream",
     "text": [
      "<class 'pandas.core.frame.DataFrame'>\n",
      "RangeIndex: 99 entries, 0 to 98\n",
      "Data columns (total 7 columns):\n",
      " #   Column      Non-Null Count  Dtype \n",
      "---  ------      --------------  ----- \n",
      " 0   Data        99 non-null     object\n",
      " 1   Maior       99 non-null     int64 \n",
      " 2   Menor       99 non-null     int64 \n",
      " 3   Abertura    99 non-null     int64 \n",
      " 4   Fechamento  99 non-null     int64 \n",
      " 5   Volume      99 non-null     object\n",
      " 6   Adj Close   99 non-null     int64 \n",
      "dtypes: int64(5), object(2)\n",
      "memory usage: 5.5+ KB\n"
     ]
    }
   ],
   "source": [
    "#Verificando detalhes da Base\n",
    "Base_Dados.info()"
   ]
  },
  {
   "cell_type": "code",
   "execution_count": 27,
   "metadata": {},
   "outputs": [
    {
     "data": {
      "text/html": [
       "<div>\n",
       "<style scoped>\n",
       "    .dataframe tbody tr th:only-of-type {\n",
       "        vertical-align: middle;\n",
       "    }\n",
       "\n",
       "    .dataframe tbody tr th {\n",
       "        vertical-align: top;\n",
       "    }\n",
       "\n",
       "    .dataframe thead th {\n",
       "        text-align: right;\n",
       "    }\n",
       "</style>\n",
       "<table border=\"1\" class=\"dataframe\">\n",
       "  <thead>\n",
       "    <tr style=\"text-align: right;\">\n",
       "      <th></th>\n",
       "      <th>Maior</th>\n",
       "      <th>Menor</th>\n",
       "      <th>Abertura</th>\n",
       "      <th>Fechamento</th>\n",
       "      <th>Adj Close</th>\n",
       "    </tr>\n",
       "  </thead>\n",
       "  <tbody>\n",
       "    <tr>\n",
       "      <th>count</th>\n",
       "      <td>99.000000</td>\n",
       "      <td>99.000000</td>\n",
       "      <td>99.000000</td>\n",
       "      <td>99.000000</td>\n",
       "      <td>99.000000</td>\n",
       "    </tr>\n",
       "    <tr>\n",
       "      <th>mean</th>\n",
       "      <td>2306.595960</td>\n",
       "      <td>2223.848485</td>\n",
       "      <td>2268.666667</td>\n",
       "      <td>2262.919192</td>\n",
       "      <td>2261.242424</td>\n",
       "    </tr>\n",
       "    <tr>\n",
       "      <th>std</th>\n",
       "      <td>243.868144</td>\n",
       "      <td>232.412343</td>\n",
       "      <td>238.091819</td>\n",
       "      <td>240.299374</td>\n",
       "      <td>239.903216</td>\n",
       "    </tr>\n",
       "    <tr>\n",
       "      <th>min</th>\n",
       "      <td>1878.000000</td>\n",
       "      <td>1825.000000</td>\n",
       "      <td>1855.000000</td>\n",
       "      <td>1853.000000</td>\n",
       "      <td>1852.000000</td>\n",
       "    </tr>\n",
       "    <tr>\n",
       "      <th>25%</th>\n",
       "      <td>2068.500000</td>\n",
       "      <td>1995.000000</td>\n",
       "      <td>2031.000000</td>\n",
       "      <td>2025.000000</td>\n",
       "      <td>2024.000000</td>\n",
       "    </tr>\n",
       "    <tr>\n",
       "      <th>50%</th>\n",
       "      <td>2385.000000</td>\n",
       "      <td>2295.000000</td>\n",
       "      <td>2350.000000</td>\n",
       "      <td>2310.000000</td>\n",
       "      <td>2308.000000</td>\n",
       "    </tr>\n",
       "    <tr>\n",
       "      <th>75%</th>\n",
       "      <td>2514.000000</td>\n",
       "      <td>2419.500000</td>\n",
       "      <td>2480.500000</td>\n",
       "      <td>2488.000000</td>\n",
       "      <td>2486.000000</td>\n",
       "    </tr>\n",
       "    <tr>\n",
       "      <th>max</th>\n",
       "      <td>2707.000000</td>\n",
       "      <td>2590.000000</td>\n",
       "      <td>2625.000000</td>\n",
       "      <td>2624.000000</td>\n",
       "      <td>2622.000000</td>\n",
       "    </tr>\n",
       "  </tbody>\n",
       "</table>\n",
       "</div>"
      ],
      "text/plain": [
       "             Maior        Menor     Abertura   Fechamento    Adj Close\n",
       "count    99.000000    99.000000    99.000000    99.000000    99.000000\n",
       "mean   2306.595960  2223.848485  2268.666667  2262.919192  2261.242424\n",
       "std     243.868144   232.412343   238.091819   240.299374   239.903216\n",
       "min    1878.000000  1825.000000  1855.000000  1853.000000  1852.000000\n",
       "25%    2068.500000  1995.000000  2031.000000  2025.000000  2024.000000\n",
       "50%    2385.000000  2295.000000  2350.000000  2310.000000  2308.000000\n",
       "75%    2514.000000  2419.500000  2480.500000  2488.000000  2486.000000\n",
       "max    2707.000000  2590.000000  2625.000000  2624.000000  2622.000000"
      ]
     },
     "execution_count": 27,
     "metadata": {},
     "output_type": "execute_result"
    }
   ],
   "source": [
    "# Realizado analise Estatistica da Base\n",
    "Base_Dados.describe()"
   ]
  },
  {
   "cell_type": "code",
   "execution_count": 28,
   "metadata": {},
   "outputs": [
    {
     "data": {
      "text/html": [
       "<div>\n",
       "<style scoped>\n",
       "    .dataframe tbody tr th:only-of-type {\n",
       "        vertical-align: middle;\n",
       "    }\n",
       "\n",
       "    .dataframe tbody tr th {\n",
       "        vertical-align: top;\n",
       "    }\n",
       "\n",
       "    .dataframe thead th {\n",
       "        text-align: right;\n",
       "    }\n",
       "</style>\n",
       "<table border=\"1\" class=\"dataframe\">\n",
       "  <thead>\n",
       "    <tr style=\"text-align: right;\">\n",
       "      <th></th>\n",
       "      <th>Maior</th>\n",
       "      <th>Menor</th>\n",
       "      <th>Abertura</th>\n",
       "      <th>Fechamento</th>\n",
       "      <th>Volume</th>\n",
       "      <th>Adj Close</th>\n",
       "    </tr>\n",
       "    <tr>\n",
       "      <th>Data</th>\n",
       "      <th></th>\n",
       "      <th></th>\n",
       "      <th></th>\n",
       "      <th></th>\n",
       "      <th></th>\n",
       "      <th></th>\n",
       "    </tr>\n",
       "  </thead>\n",
       "  <tbody>\n",
       "    <tr>\n",
       "      <th>1/4/2021</th>\n",
       "      <td>2558</td>\n",
       "      <td>2487</td>\n",
       "      <td>2526</td>\n",
       "      <td>2520</td>\n",
       "      <td>25.706.100</td>\n",
       "      <td>2518</td>\n",
       "    </tr>\n",
       "    <tr>\n",
       "      <th>1/5/2021</th>\n",
       "      <td>2518</td>\n",
       "      <td>2434</td>\n",
       "      <td>2510</td>\n",
       "      <td>2476</td>\n",
       "      <td>25.431.900</td>\n",
       "      <td>2474</td>\n",
       "    </tr>\n",
       "    <tr>\n",
       "      <th>1/6/2021</th>\n",
       "      <td>2466</td>\n",
       "      <td>2342</td>\n",
       "      <td>2465</td>\n",
       "      <td>2346</td>\n",
       "      <td>51.799.000</td>\n",
       "      <td>2344</td>\n",
       "    </tr>\n",
       "    <tr>\n",
       "      <th>1/7/2021</th>\n",
       "      <td>2385</td>\n",
       "      <td>2295</td>\n",
       "      <td>2364</td>\n",
       "      <td>2316</td>\n",
       "      <td>42.146.600</td>\n",
       "      <td>2314</td>\n",
       "    </tr>\n",
       "    <tr>\n",
       "      <th>1/8/2021</th>\n",
       "      <td>2430</td>\n",
       "      <td>2302</td>\n",
       "      <td>2319</td>\n",
       "      <td>2384</td>\n",
       "      <td>43.988.100</td>\n",
       "      <td>2382</td>\n",
       "    </tr>\n",
       "  </tbody>\n",
       "</table>\n",
       "</div>"
      ],
      "text/plain": [
       "          Maior  Menor  Abertura  Fechamento      Volume  Adj Close\n",
       "Data                                                               \n",
       "1/4/2021   2558   2487      2526        2520  25.706.100       2518\n",
       "1/5/2021   2518   2434      2510        2476  25.431.900       2474\n",
       "1/6/2021   2466   2342      2465        2346  51.799.000       2344\n",
       "1/7/2021   2385   2295      2364        2316  42.146.600       2314\n",
       "1/8/2021   2430   2302      2319        2384  43.988.100       2382"
      ]
     },
     "execution_count": 28,
     "metadata": {},
     "output_type": "execute_result"
    }
   ],
   "source": [
    "# Series Temporais\n",
    "Dados = Base_Dados.set_index('Data')\n",
    "\n",
    "Dados.head()"
   ]
  },
  {
   "cell_type": "code",
   "execution_count": null,
   "metadata": {},
   "outputs": [],
   "source": []
  }
 ],
 "metadata": {
  "kernelspec": {
   "display_name": "Python 3",
   "language": "python",
   "name": "python3"
  },
  "language_info": {
   "codemirror_mode": {
    "name": "ipython",
    "version": 3
   },
   "file_extension": ".py",
   "mimetype": "text/x-python",
   "name": "python",
   "nbconvert_exporter": "python",
   "pygments_lexer": "ipython3",
   "version": "3.12.0"
  }
 },
 "nbformat": 4,
 "nbformat_minor": 2
}
