{
 "cells": [
  {
   "cell_type": "code",
   "execution_count": 4,
   "metadata": {},
   "outputs": [],
   "source": [
    "import random\n",
    "from os import system, name"
   ]
  },
  {
   "cell_type": "code",
   "execution_count": 5,
   "metadata": {},
   "outputs": [],
   "source": [
    "# Variaveis com as listas com palavras aleartorias\n",
    "\n",
    "frutas = [\"banana\",\"maça\",\"abacaxi\",\"morango\"]\n",
    "objetos = [\"escada\",\"bicicleta\",\"notebook\",\"quadro\"]\n",
    "locais = [\"fortaleza\",\"goias\",\"pernanbunco\",\"bahia\"]\n",
    "definir = {\"Fruta\":0,\"Objeto\":1,\"Local\":2}\n",
    "\n",
    "valores = list(definir.values())  # Obtém uma lista dos valores do dicionário\n",
    "valor_aleatorio = random.choice(valores)  # Seleciona aleatoriamente um valor da lista\n",
    "if valor_aleatorio == 0:\n",
    "    palavras = frutas\n",
    "elif valor_aleatorio == 1:\n",
    "    palavras = objetos\n",
    "elif valor_aleatorio == 2:\n",
    "    palavras = locais\n",
    "else:\n",
    "    print(\"Palavras não definidas\")"
   ]
  },
  {
   "cell_type": "code",
   "execution_count": 6,
   "metadata": {},
   "outputs": [],
   "source": [
    "# Função para limpar a tela a cada execuçao\n",
    "def limpa_tela():\n",
    "    \n",
    "    # Windows\n",
    "    if name == 'nt':\n",
    "        _ = system('cls')\n",
    "        \n",
    "    # Mac ou Linux\n",
    "    else:\n",
    "        _ = system('clear')"
   ]
  },
  {
   "cell_type": "code",
   "execution_count": 7,
   "metadata": {},
   "outputs": [],
   "source": [
    "# Função \n",
    "def game(palavra, opções, dica):\n",
    "\n",
    "    limpa_tela()\n",
    "    \n",
    "    print(\"\\nBem-Vindo(a) ao jogo da forca!\")\n",
    "    print(\"Adivinhe a Palavra Abaixo: \\n\")\n",
    "    \n",
    "    #opção = list(opções.values())  # Obtém uma lista dos valores do dicionário\n",
    "    #dicas = list(definir.keys()) # Obtém as Chaves do dicionário\n",
    "    \n",
    "    for i,j in opções.items():\n",
    "        if dica == j:\n",
    "            print(f\"Dica: A palavra é um(a) {i}  \\n\")\n",
    "    \n",
    "    #Escolhendo Aleortariamente uma palavra\n",
    "    palavra = random.choice(palavra)\n",
    "    \n",
    "    # List compreshesion\n",
    "    letras_descobertas = [\"_\" for letra in palavra]\n",
    "    \n",
    "    # Número de Chances\n",
    "    chances = 6\n",
    "    \n",
    "    # Lista para as letras erradas\n",
    "    letras_erradas = [] \n",
    "    \n",
    "    while chances > 0:\n",
    "        \n",
    "        # Print\n",
    "        print(\" \".join(letras_descobertas))\n",
    "        print(\"\\n Chances restantes: \", chances)\n",
    "        print(\"\\n Letras erradas: \",\" \".join(letras_erradas))\n",
    "        \n",
    "        # Tentativa\n",
    "        tentativa = input(\"\\n Digite uma letra \").lower()\n",
    "        \n",
    "        # Condicional para descoberta de palavras\n",
    "        if tentativa in palavra:\n",
    "            index = 0\n",
    "            for letra in palavra:\n",
    "                if tentativa == letra:\n",
    "                    letras_descobertas[index] = letra\n",
    "                index += 1\n",
    "        else:\n",
    "            chances -= 1\n",
    "            letras_erradas.append(tentativa)\n",
    "            \n",
    "        # Condicional em caso de Vitoria\n",
    "        if \"_\" not in letras_descobertas:\n",
    "            print(\"\\n Voçê venceu, a palavra descoberta é\", palavra)\n",
    "            break\n",
    "        \n",
    "    # Condicional em caso de Derrota\n",
    "    if \"_\" in letras_descobertas:\n",
    "        print(\"\\n Você perdeu, a palavra era\", palavra)\n",
    "\n",
    "# bloco main\n",
    "if __name__ == \"__main__\":\n",
    "    game()"
   ]
  }
 ],
 "metadata": {
  "kernelspec": {
   "display_name": "Python 3",
   "language": "python",
   "name": "python3"
  },
  "language_info": {
   "codemirror_mode": {
    "name": "ipython",
    "version": 3
   },
   "file_extension": ".py",
   "mimetype": "text/x-python",
   "name": "python",
   "nbconvert_exporter": "python",
   "pygments_lexer": "ipython3",
   "version": "3.12.0"
  }
 },
 "nbformat": 4,
 "nbformat_minor": 2
}
