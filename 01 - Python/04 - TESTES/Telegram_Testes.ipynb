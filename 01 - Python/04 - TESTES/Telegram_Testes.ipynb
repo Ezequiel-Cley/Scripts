{
 "cells": [
  {
   "cell_type": "code",
   "execution_count": 15,
   "metadata": {},
   "outputs": [],
   "source": [
    "import requests\n",
    "import pandas as pd"
   ]
  },
  {
   "cell_type": "code",
   "execution_count": 25,
   "metadata": {},
   "outputs": [],
   "source": [
    "def send_message(token, chat_id, message):\n",
    "    \"\"\"\n",
    "    Envia uma mensagem de texto para um chat no Telegram.\n",
    "\n",
    "    Parameters:\n",
    "        token (str): O token do bot do Telegram.\n",
    "        chat_id (str): O ID do chat para o qual a mensagem será enviada.\n",
    "        message (str): O texto da mensagem a ser enviada.\n",
    "\n",
    "Returns:\n",
    "        None\n",
    "\n",
    "    Exemplo de uso:\n",
    "        send_message('seu_token', 'ID_do_chat', 'Esta é uma mensagem de exemplo.')\n",
    "    \"\"\"\n",
    "    try:\n",
    "        # Define um dicionário 'data' com os parâmetros necessários para enviar a mensagem\n",
    "        data = {\"chat_id\": chat_id, \"text\": message}\n",
    "\n",
    "        # Monta a URL da API do Telegram com o token do bot\n",
    "        url = \"https://api.telegram.org/bot{}/sendMessage\".format(token)\n",
    "\n",
    "        # Envia a requisição POST para a URL com os dados da mensagem\n",
    "        requests.post(url, data)\n",
    "        print('Mensagem Enviada com Sucesso')\n",
    "    except Exception as e:\n",
    "        # Captura e imprime qualquer erro que ocorra durante o envio\n",
    "        print(\"Erro no sendMessage:\", e)"
   ]
  },
  {
   "cell_type": "code",
   "execution_count": 27,
   "metadata": {},
   "outputs": [],
   "source": [
    "df = pd.read_excel(r'D:\\DADOS_DISPARO_TELEFONE.xlsx')"
   ]
  },
  {
   "cell_type": "code",
   "execution_count": 28,
   "metadata": {},
   "outputs": [
    {
     "name": "stdout",
     "output_type": "stream",
     "text": [
      "                     CLIENTE           TELEFONE TELEGRAM  CD_TELEGRAM\n",
      "0     EZEQUIAS CUNHA MOREIRA  +55 85 98973 0014      SIM   6344719329\n",
      "1  JULIANA LOBATO NASCIMENTO  +55 85 98204 1067      SIM   1895542899\n"
     ]
    }
   ],
   "source": [
    "print(df)"
   ]
  },
  {
   "cell_type": "code",
   "execution_count": 29,
   "metadata": {},
   "outputs": [
    {
     "name": "stdout",
     "output_type": "stream",
     "text": [
      "Mensagem Enviada com Sucesso\n",
      "Mensagem Enviada com Sucesso\n"
     ]
    }
   ],
   "source": [
    "tk = '7136647815:AAHu2tGzNcfOhs83QytWxpxipjk3jJIvpE4'\n",
    "\n",
    "msg = \"\"\"Cuida vem aprender a fazer disparo automático de mensagem !!!\"\"\"\n",
    "\n",
    "\n",
    "for cd_telegram in df['CD_TELEGRAM']:\n",
    "    send_message(tk, cd_telegram, msg)"
   ]
  }
 ],
 "metadata": {
  "kernelspec": {
   "display_name": "Python 3",
   "language": "python",
   "name": "python3"
  },
  "language_info": {
   "codemirror_mode": {
    "name": "ipython",
    "version": 3
   },
   "file_extension": ".py",
   "mimetype": "text/x-python",
   "name": "python",
   "nbconvert_exporter": "python",
   "pygments_lexer": "ipython3",
   "version": "3.12.0"
  }
 },
 "nbformat": 4,
 "nbformat_minor": 2
}
