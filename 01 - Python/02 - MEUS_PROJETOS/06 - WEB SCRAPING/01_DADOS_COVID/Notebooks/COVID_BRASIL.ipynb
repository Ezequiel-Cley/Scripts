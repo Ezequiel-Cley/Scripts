{
 "cells": [
  {
   "cell_type": "code",
   "execution_count": 12,
   "metadata": {},
   "outputs": [],
   "source": [
    "# IMPORTANDO TODAS AS BIBLIOTECAS NECESSARIAS PARA MANIPULAÇÃO DOS DADOS WEB\n",
    "from selenium import webdriver\n",
    "from selenium.webdriver.common.by import By\n",
    "from selenium.webdriver.edge.service import Service\n",
    "from selenium.webdriver.edge import options\n",
    "from selenium.webdriver.support.ui import WebDriverWait\n",
    "from webdriver_manager.microsoft import EdgeChromiumDriverManager\n",
    "from selenium.common.exceptions import NoSuchElementException\n",
    "# IMPORTANDO TODAS AS BIBLIOTECAS PARA CONTROLA O TEMPO DE EXECUÇÃO DO CÓDIGO\n",
    "from time import sleep"
   ]
  },
  {
   "cell_type": "code",
   "execution_count": 13,
   "metadata": {},
   "outputs": [],
   "source": [
    "# Realizado a instalação do Gerenciamento do EDGE DRIVER para não ter preocupação com a versão do EDGE instalada atual\n",
    "service = Service(EdgeChromiumDriverManager().install())"
   ]
  },
  {
   "cell_type": "code",
   "execution_count": 14,
   "metadata": {},
   "outputs": [],
   "source": [
    "# Configurar as opções do Edge\n",
    "options = webdriver.EdgeOptions()\n",
    "options.add_experimental_option(\"prefs\", {\n",
    "    # Manipulando o local que vai ser armazenado o local de dowloads\n",
    "    \"download.default_directory\": r'C:\\Users\\ezequ\\Scripts\\01 - Python\\02 - MEUS_PROJETOS\\06 - WEB SCRAPING\\01_DADOS_COVID\\Datasets',\n",
    "    # Desativar a opção de confirmação de Dowload para realizar o download sem solicitar confirmação\n",
    "    \"download.prompt_for_download\": False,\n",
    "    # Desativado atualizações para evitar erros de versões divergentes\n",
    "    \"download.directory_upgrade\": True,\n",
    "    # Ativando proteção de navegação para evitar pup's indesejados\n",
    "    \"safebrowsing.enabled\": True})\n",
    "    # Realizado leitura de forma visual para executar de forma invisivel trocar para \"--headless\" \n",
    "options.add_argument(\"--incognito\")"
   ]
  },
  {
   "cell_type": "code",
   "execution_count": 15,
   "metadata": {},
   "outputs": [
    {
     "name": "stdout",
     "output_type": "stream",
     "text": [
      "Abrindo Navegador\n"
     ]
    }
   ],
   "source": [
    "# Iniciar o navegador Chrome\n",
    "print(\"Abrindo Navegador\")\n",
    "navegador = webdriver.Edge(service=service, options=options)"
   ]
  },
  {
   "cell_type": "code",
   "execution_count": 16,
   "metadata": {},
   "outputs": [],
   "source": [
    "# Entrando no site da GOV com os dados do Covid para extrair dados \n",
    "navegador.get(\"https://infoms.saude.gov.br/extensions/covid-19_html/covid-19_html.html\")\n",
    "# Maximizado o Navegador para melhor gerenciamento\n",
    "navegador.maximize_window()\n",
    "sleep(10)"
   ]
  },
  {
   "cell_type": "code",
   "execution_count": 19,
   "metadata": {},
   "outputs": [],
   "source": [
    "sleep(1)\n",
    "# Clicando no botão de painel para limpar todas as seleções\"\n",
    "navegador.find_element(By.ID, \"clear-selections\").click()\n",
    "# Atrasar o códgio em 1 segundos para da tempo dos recursos abrir\n",
    "sleep(2)"
   ]
  },
  {
   "cell_type": "code",
   "execution_count": 20,
   "metadata": {},
   "outputs": [],
   "source": [
    "sleep(1)\n",
    "# Rola até o final da página\n",
    "navegador.execute_script(\"window.scrollTo(0, document.body.scrollHeight);\")"
   ]
  },
  {
   "cell_type": "code",
   "execution_count": 21,
   "metadata": {},
   "outputs": [],
   "source": [
    "sleep(1)\n",
    "# Realizado o Dowload do arquivo\"\n",
    "navegador.find_element(By.ID, \"exportar-dados-Tab-01\").click()"
   ]
  },
  {
   "cell_type": "code",
   "execution_count": 22,
   "metadata": {},
   "outputs": [],
   "source": [
    "# Finalizando a conexão com site\n",
    "navegador.quit()"
   ]
  }
 ],
 "metadata": {
  "kernelspec": {
   "display_name": "Python 3",
   "language": "python",
   "name": "python3"
  },
  "language_info": {
   "codemirror_mode": {
    "name": "ipython",
    "version": 3
   },
   "file_extension": ".py",
   "mimetype": "text/x-python",
   "name": "python",
   "nbconvert_exporter": "python",
   "pygments_lexer": "ipython3",
   "version": "3.12.0"
  }
 },
 "nbformat": 4,
 "nbformat_minor": 2
}
