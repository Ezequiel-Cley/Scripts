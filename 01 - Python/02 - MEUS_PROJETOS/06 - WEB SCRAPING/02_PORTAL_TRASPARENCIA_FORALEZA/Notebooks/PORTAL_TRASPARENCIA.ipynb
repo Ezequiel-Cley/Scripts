{
 "cells": [
  {
   "cell_type": "code",
   "execution_count": 1,
   "metadata": {},
   "outputs": [],
   "source": [
    "from selenium import webdriver\n",
    "from selenium.webdriver.common.by import By\n",
    "from selenium.webdriver.edge.service import Service\n",
    "from selenium.webdriver.edge import options\n",
    "from selenium.webdriver.support.ui import WebDriverWait\n",
    "from webdriver_manager.microsoft import EdgeChromiumDriverManager\n",
    "from selenium.common.exceptions import NoSuchElementException\n",
    "from time import sleep"
   ]
  },
  {
   "cell_type": "code",
   "execution_count": 2,
   "metadata": {},
   "outputs": [],
   "source": [
    "# Realizado a instalação do Gerenciamento do EDGE DRIVER para não ter preocupação com a versão do EDGE instalada atual\n",
    "service = Service(EdgeChromiumDriverManager().install())"
   ]
  },
  {
   "cell_type": "code",
   "execution_count": null,
   "metadata": {},
   "outputs": [],
   "source": [
    "# Configurar as opções do Edge\n",
    "options = webdriver.EdgeOptions()\n",
    "options.add_experimental_option(\"prefs\", {\n",
    "    \"download.default_directory\": r'C:\\Users\\ezequ\\Scripts\\01 - Python\\02 - MEUS_PROJETOS\\06 - WEB SCRAPING\\02_PORTAL_TRASPARENCIA_FORALEZA\\Datasets',\n",
    "    \"download.prompt_for_download\": False,\n",
    "    \"download.directory_upgrade\": True,\n",
    "    \"safebrowsing.enabled\": True})\n",
    "options.add_argument(\"--incognito\")"
   ]
  },
  {
   "cell_type": "code",
   "execution_count": 4,
   "metadata": {},
   "outputs": [
    {
     "name": "stdout",
     "output_type": "stream",
     "text": [
      "Abrindo Navegador\n"
     ]
    }
   ],
   "source": [
    "# Iniciar o navegador Chrome\n",
    "print(\"Abrindo Navegador\")\n",
    "navegador = webdriver.Edge(service=service, options=options)"
   ]
  },
  {
   "cell_type": "code",
   "execution_count": 5,
   "metadata": {},
   "outputs": [],
   "source": [
    "# Entrando no Portal da transparencia de Fortaleza\n",
    "navegador.get(\"https://transparencia.fortaleza.ce.gov.br\")\n",
    "# Maximizado o Navegador para melhor gerenciamento\n",
    "navegador.maximize_window()\n",
    "sleep(2)"
   ]
  },
  {
   "cell_type": "code",
   "execution_count": 6,
   "metadata": {},
   "outputs": [],
   "source": [
    "# Clicando na opação de realizar de \"Despesas Detalhadas do Portal da Trasparencia\"\n",
    "navegador.find_element(By.XPATH, \"/html/body/div[2]/main/div[2]/div[1]/a[3]\").click()\n",
    "# Atrasar o códgio em 5 segundos para da tempo da pagina carregar\n",
    "sleep(5)"
   ]
  },
  {
   "cell_type": "code",
   "execution_count": 7,
   "metadata": {},
   "outputs": [],
   "source": [
    "# Agora, role para baixo usando JavaScript\n",
    "navegador.execute_script(\"window.scrollTo(0, document.body.scrollHeight);\")\n",
    "# Clicando no botão de \"Consultar\" para carregar as informações desejadas\n",
    "navegador.find_element(By.XPATH, \"/html/body/div[2]/main/div[2]/form[2]/div[3]/input\").click()\n",
    "# Atrasar o códgio em 5 segundos para da tempo da pagina carregar\n",
    "sleep(5)"
   ]
  },
  {
   "cell_type": "code",
   "execution_count": 8,
   "metadata": {},
   "outputs": [],
   "source": [
    "# Clicando no botão de \"Dowload\" para realizar Dowload do arquivo para alimentar o dashboard\n",
    "navegador.find_element(By.ID, \"download\").click()\n",
    "sleep(15)"
   ]
  },
  {
   "cell_type": "code",
   "execution_count": 9,
   "metadata": {},
   "outputs": [],
   "source": [
    "# Finalizando a conexão com site\n",
    "navegador.quit()"
   ]
  }
 ],
 "metadata": {
  "kernelspec": {
   "display_name": "Python 3",
   "language": "python",
   "name": "python3"
  },
  "language_info": {
   "codemirror_mode": {
    "name": "ipython",
    "version": 3
   },
   "file_extension": ".py",
   "mimetype": "text/x-python",
   "name": "python",
   "nbconvert_exporter": "python",
   "pygments_lexer": "ipython3",
   "version": "3.12.0"
  }
 },
 "nbformat": 4,
 "nbformat_minor": 2
}
