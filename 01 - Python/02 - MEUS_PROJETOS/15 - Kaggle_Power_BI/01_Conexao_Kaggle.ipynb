{
 "cells": [
  {
   "cell_type": "code",
   "execution_count": null,
   "metadata": {},
   "outputs": [],
   "source": [
    "import subprocess\n",
    "import sys"
   ]
  },
  {
   "cell_type": "code",
   "execution_count": null,
   "metadata": {},
   "outputs": [],
   "source": [
    "# Lista das bibliotecas necessárias\n",
    "required_packages = ['pandas', 'kagglehub']\n",
    "\n",
    "# Função para instalar pacotes\n",
    "def install(package):\n",
    "    subprocess.check_call([sys.executable, '-m', 'pip', 'install', package])\n",
    "\n",
    "# Verifica se os pacotes estão instalados e os instala se não estiverem\n",
    "for package in required_packages:\n",
    "    try:\n",
    "        __import__(package)\n",
    "    except ImportError:\n",
    "        print(f'Instalando {package}...')\n",
    "        install(package)"
   ]
  },
  {
   "cell_type": "code",
   "execution_count": null,
   "metadata": {},
   "outputs": [],
   "source": [
    "import os\n",
    "import pandas as pd\n",
    "import kagglehub\n",
    "\n",
    "# Especificar o nome do dataset e o caminho onde você quer salvá-lo\n",
    "dataset_name = \"waqi786/remote-work-and-mental-health\"  # Altere para o dataset desejado\n",
    "\n",
    "# Fazer o download do dataset\n",
    "dataset_path = kagglehub.dataset_download(dataset_name)\n",
    "\n",
    "# Obter os nomes dos arquivos trazidos pelo kaggle\n",
    "path = os.listdir(dataset_path)\n",
    "\n",
    "df = pd.DataFrame()\n",
    "# Lendo os arquivos o arquivo CSV\n",
    "for i in range(len(path)):\n",
    "    file_path = os.path.join(dataset_path, path[i])  # Altere para o nome do arquivo baixado\n",
    "    data = pd.read_csv(file_path)\n",
    "    df = pd.concat([data, df])\n",
    "\n",
    "# Retornar os dados para o Power BI\n",
    "df"
   ]
  }
 ],
 "metadata": {
  "language_info": {
   "name": "python"
  }
 },
 "nbformat": 4,
 "nbformat_minor": 2
}
