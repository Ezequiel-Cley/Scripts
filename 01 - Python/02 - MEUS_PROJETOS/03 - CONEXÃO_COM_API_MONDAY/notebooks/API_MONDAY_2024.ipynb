{
 "cells": [
  {
   "cell_type": "code",
   "execution_count": null,
   "metadata": {},
   "outputs": [],
   "source": [
    "# Importando Biblioteca para Extração de API\n",
    "import requests\n",
    "# Importando Pandas para tratamento e leitura dos dados\n",
    "import pandas as pd\n",
    "import datetime\n",
    "\n",
    "# Acessar componentes do SISTEAMA OPERCIONAL\n",
    "import os\n",
    "\n",
    "import asyncio\n",
    "# Instalar o pacote (python-telegram-bot)\n",
    "from telegram import Bot"
   ]
  },
  {
   "cell_type": "code",
   "execution_count": null,
   "metadata": {},
   "outputs": [],
   "source": [
    "# Configurado Report para Envio de Informações em caso de erro por Telegram!!!\n",
    "# define o token do seu bot do Telegram\n",
    "TOKEN = 'INSERIR_TOKEN_DO_SEU_BOT_TELEGRAM'\n",
    "# inicializa o objeto bot\n",
    "bot = Bot(token=TOKEN)\n",
    "# Incluir código do grupo\n",
    "GRUPO = 'INSERIR_CÓDIGO_DO_GRUPO_QUE_DESEJA_ENVIAR_O_ALERTA'"
   ]
  },
  {
   "cell_type": "code",
   "execution_count": null,
   "metadata": {},
   "outputs": [
    {
     "name": "stdout",
     "output_type": "stream",
     "text": [
      "Realizado a solicitação de conexão com a API\n"
     ]
    }
   ],
   "source": [
    "# Key de acesso a API\n",
    "apiKey = \"Inseri_API_DO_SEU_ADM_MONDAY\"\n",
    "\n",
    "# URL de Acesso a API > Monday\n",
    "apiUrl = \"https://api.monday.com/v2\"\n",
    "\n",
    "# Variavel para Parametro do Requeset Liberar acesso\n",
    "headers = {\"Authorization\" : apiKey}\n",
    "\n",
    "# Query de linguagem GRAPHQL para acesso de API\n",
    "query2 = '{  boards(page:1) {    id    name    items_page{      items{        id        name        column_values{          column{           title           }          id          text        }      }    }  }}'\n",
    "data = {'query' : query2}\n",
    "\n",
    "print('Realizado a solicitação de conexão com a API')\n",
    "# Realizado conexão com API\n",
    "r = requests.post(url=apiUrl, json=data, headers=headers) # make request\n",
    "\n",
    "# Criando Variavel para armazenar o status de conexão com a API\n",
    "status = r.status_code"
   ]
  },
  {
   "cell_type": "code",
   "execution_count": 4,
   "metadata": {},
   "outputs": [],
   "source": [
    "# Cria um Loop para realizar diversas tentativas de conexão até conseguir uma conexão com sucesso na API\n",
    "while status != 200:\n",
    "    # Realizado conexão com API\n",
    "    r = requests.post(url=apiUrl, json=data, headers=headers) # make request\n",
    "    # Armazena novo Status de conexão com A API \n",
    "    status = r.status_code\n",
    "    # Cria logica para armazenar quantidade de tentativas de conexão para acompanhamento em caso de necessidade!!!\n",
    "    T = 0\n",
    "    T = T + 1\n",
    "    print(f'A foram realizadas {T} de conexão com a API')"
   ]
  },
  {
   "cell_type": "code",
   "execution_count": null,
   "metadata": {},
   "outputs": [
    {
     "name": "stdout",
     "output_type": "stream",
     "text": [
      "Conexão com API Monday realizada com Sucesso \n"
     ]
    }
   ],
   "source": [
    "#Condição de validação se conexão com API foi um Sucesso\n",
    "if r.status_code == 200:\n",
    "    # Usando o json_normalize para transformar os dados em um DataFrame\n",
    "    df = pd.json_normalize(r.json(), record_path=['data', 'boards', 'items_page', 'items','column_values'], meta=[['data', 'boards', 'items_page', 'items','name'],['data', 'boards', 'name'],['data', 'boards', 'items_page', 'items', 'id'] ])\n",
    "else:\n",
    "    print(f\"Falha na Atualização de Relatório, Erro: Status de conexão com a API {r.status_code}\")\n",
    "    # Mensagem que você deseja enviar\n",
    "    mensagem = f\"Falha na Atualização de Relatório, Erro: Status de conexão com a API {r.status_code}\"\n",
    "    # Enviar a mensagem desejada\n",
    "    # Cria uma função assicronica para Enviar_mensagem():\n",
    "    async def enviar_foto():\n",
    "        await bot.send_message(chat_id=GRUPO, text=mensagem)\n",
    "    # chama a função assíncrona usando asyncio\n",
    "    loop = asyncio.get_event_loop()\n",
    "    loop.run_until_complete(enviar_foto()) \n",
    "    exit()\n",
    "\n",
    "print(\"Conexão com API Monday realizada com Sucesso \")    "
   ]
  },
  {
   "cell_type": "code",
   "execution_count": null,
   "metadata": {},
   "outputs": [],
   "source": [
    "# Organiza as colunas para realizar a alteração de linhas para colunas!!!\n",
    "df = df[['data.boards.items_page.items.id','data.boards.name','data.boards.items_page.items.name', 'column.title', 'text']]\n",
    "\n",
    "# Realiza a troca dos nomes das colunas para melhor entedimento da Base\n",
    "df.rename(columns={'data.boards.items_page.items.id': 'ID',\n",
    "                   'data.boards.name': 'Quadro',\n",
    "                   'data.boards.items_page.items.name': 'Elemento',\n",
    "                   'column.title':'title'},\n",
    "          inplace = True)\n",
    "\n",
    "# Use a função pivot para transformar os dados de linhas para colunas mantendo as colunas (ID,Quadro e Elemento)\n",
    "df_pivot = df.pivot(index=['ID', 'Quadro', 'Elemento'], columns='title', values='text').reset_index()\n",
    "\n",
    "# Use o método fillna para preencher os valores nulos em 'Rotina' com os valores de 'ROTINA'\n",
    "#df_pivot['Rotina'].fillna(df_pivot['ROTINA'], inplace=True)\n",
    "\n",
    "df_pivot = df_pivot[['ID','Quadro','Elemento', 'Responsável', 'Empresa','Rotina','Área','Prioridade','Status','Data','Tempo Estimado','Texto','Subitems']]"
   ]
  },
  {
   "cell_type": "code",
   "execution_count": null,
   "metadata": {},
   "outputs": [],
   "source": [
    "\n",
    "# Armazena informação da data atual para acrescenter ao nome do arquivo Historico \n",
    "data_atual = str(datetime.date.today())\n",
    "# Caminho para salvar o arquivo Historico do dia\n",
    "Caminho = (f'//Caminho/do/HISTORICO//HISTORICO_{data_atual}.parquet')\n",
    "\n",
    "# Salva o arquivo historico para Incluisão de novos dados e dados antigos:\n",
    "df_pivot.to_parquet(Caminho, index=False)\n",
    "\n",
    "# Buscar todos os arquivos de uma diretorio\n",
    "pasta = ('//Caminho/do/HISTORICO/')\n",
    "# lê arquivos na pasta\n",
    "arquivos = os.listdir(pasta)\n",
    "# Cria um dataframe vazio para realizar o salvamento de varios arquivos em unico Dataframe no Loop \n",
    "df_Historica = pd.DataFrame()\n",
    "\n",
    "# Criando Loop para acessar todos os arquivos do diretorio e unifica-los\n",
    "for i in arquivos:\n",
    "    path = f'{pasta}/{i}'\n",
    "    df_path = pd.read_parquet(f'{path}')\n",
    "    df_Historica = pd.concat([df_Historica, df_path])\n",
    "    \n",
    "    \n",
    "# Unificando as bases de dados Historicas com a extraida atual pela API\n",
    "df = pd.concat([df_Historica,df_pivot])"
   ]
  },
  {
   "cell_type": "code",
   "execution_count": null,
   "metadata": {},
   "outputs": [],
   "source": [
    "# Remover as duplicadas entre o arquivo historico e Datframe novo extraido pela API\n",
    "if pd.notna(df['ID']).unique() == True:\n",
    "    df.drop_duplicates(subset=['ID'], ignore_index=True, inplace= True)\n",
    "else:\n",
    "    # Mensagem que você deseja enviar\n",
    "    mensagem = f\"Falha na Atualização de Relatório, Erro: Coluna ID, contém dados nulos!!!\"\n",
    "    # Enviado a mensagem no Grupo\n",
    "    # Cria uma função assicronica para Enviar_mensagem():\n",
    "    async def enviar_foto():\n",
    "        await bot.send_message(chat_id=GRUPO, text=mensagem)\n",
    "    # chama a função assíncrona usando asyncio\n",
    "    loop = asyncio.get_event_loop()\n",
    "    loop.run_until_complete(enviar_foto()) \n",
    "    exit()"
   ]
  },
  {
   "cell_type": "code",
   "execution_count": null,
   "metadata": {},
   "outputs": [],
   "source": [
    "# Realizado a alteração do Tipo da Coluna Data\n",
    "df['Tempo Estimado'] = pd.to_numeric(df['Tempo Estimado'])\n",
    "\n",
    "# Criando uma função para criar uma nova coluna com tempo em segundo\n",
    "def tempo_segundo(Col):\n",
    "    Col = (Col * 60)\n",
    "    Col = (Col * 60)\n",
    "    return Col\n",
    "# Aplicando a função para a nova coluna para obter os dados em Segundos\n",
    "df['Tempo_Estimado_Seg'] = df['Tempo Estimado'].apply(tempo_segundo)\n",
    "\n",
    "# Criando Coluna com a data Atual\n",
    "def data_hora_atual(Col):\n",
    "    Col = str(datetime.datetime.today())\n",
    "    return Col\n",
    "\n",
    "df['Data_Atual'] = ''\n",
    "df['Data_Atual'] = df['Data_Atual'].apply(data_hora_atual)\n",
    "\n",
    "print(\"Tratamento realizado com Sucesso\")    "
   ]
  },
  {
   "cell_type": "code",
   "execution_count": null,
   "metadata": {},
   "outputs": [],
   "source": [
    "#Salvando o arquivo Completo em Unico Arquivo CSV\n",
    "df.to_csv('//Caminho/completo/que/deseja/salvar/Dados_Monday_Consolidado.csv', sep = '|', index=False)\n",
    "\n",
    "print(\"Relatório de Acompanhamento de Rotinas DP Atualizado com Sucesso\")\n",
    "\n",
    "# Mensagem que você deseja enviar\n",
    "mensagem = f\"Relatório de Acompanhamento de Rotinas, Atualizado com Sucesso\"\n",
    "#Enviar_mensagem():\n",
    "# Cria uma função assicronica para Enviar_mensagem():\n",
    "async def enviar_foto():\n",
    "    await bot.send_message(chat_id=GRUPO, text=mensagem)\n",
    "# chama a função assíncrona usando asyncio\n",
    "loop = asyncio.get_event_loop()\n",
    "loop.run_until_complete(enviar_foto()) "
   ]
  }
 ],
 "metadata": {
  "kernelspec": {
   "display_name": "Python 3",
   "language": "python",
   "name": "python3"
  },
  "language_info": {
   "codemirror_mode": {
    "name": "ipython",
    "version": 3
   },
   "file_extension": ".py",
   "mimetype": "text/x-python",
   "name": "python",
   "nbconvert_exporter": "python",
   "pygments_lexer": "ipython3",
   "version": "3.12.0"
  }
 },
 "nbformat": 4,
 "nbformat_minor": 2
}
