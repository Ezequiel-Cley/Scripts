{
 "cells": [
  {
   "cell_type": "markdown",
   "metadata": {},
   "source": [
    "# Trabalhado com Herança de CLasses em Python\n",
    "\n",
    "Em programação Orientada a Objetos (POO), a herança é um conceito que permite criar novas classes a partir de outras classes existentes, aproveitando os atríbutos e métodos da classe original e adicionado novos atributos e métodos da classe original e adicionado novos atributos e métodos específicos.\n",
    "\n",
    "A classe original é chamada de classe mãe ou superclasse e a novo classe criada é chamada de classe filha ou subclasse.\n",
    "\n",
    "A herança é uma técnica importante em POO porque permite reutilizar o código de maneira efieciente. Em vez de criar uma nova classe do zero, a subclasse pode herdar todos os artributos e métodos da superclasse e adicionar apenas o que é necesário. Dessa forma, a subclasse pode se concentrar em fornecer funcionalidades adicionais sem precisar se precupar com as carctéristicas básicas da classe.\n",
    "\n",
    "Na herança, uma subclasse pode herdar os atributos e métodos da superclasse e substituí-los ou estendê-los conforme necessário. Por exemplo, uma subclasse pode ter um método com o mesmo nome de um método da superclasse, mas com um comportamento diferente."
   ]
  },
  {
   "cell_type": "code",
   "execution_count": 1,
   "metadata": {},
   "outputs": [],
   "source": [
    "# Criando a classe Animal - Super Classe ou Classe Mãe\n",
    "class Animal:\n",
    "\t\n",
    "\tdef __init__(self):\n",
    "\t\tprint(\"Animal Criado.\")\n",
    "\t\t\n",
    "\tdef imprimir(self):\n",
    "\t\tprint(\"Este é um animal.\")\n",
    "\t\n",
    "\tdef comer(self):\n",
    "\t\tprint(\"Hora de comer.\")\n",
    "\t\t\n",
    "\tdef emitir_som(self):\n",
    "\t\tpass"
   ]
  },
  {
   "cell_type": "code",
   "execution_count": 2,
   "metadata": {},
   "outputs": [],
   "source": [
    "# Criando a classe Cachorro - Sub-Classe ou Classe Filha\n",
    "class Cachorro(Animal):\n",
    "\n",
    "\tdef __init__(self):\n",
    "\t\tAnimal.__init__(self)\n",
    "\t\tprint(\"Objeto Cachorro criado.\")\n",
    "\t\t\n",
    "\tdef emitir_som(self):\n",
    "\t\tprint(\"Au au!\")"
   ]
  },
  {
   "cell_type": "code",
   "execution_count": 3,
   "metadata": {},
   "outputs": [],
   "source": [
    "# Criando a classe gato - Sub-Classe ou Classe Filh~\n",
    "class Gato(Animal):\n",
    "\t\n",
    "\tdef __init__(self):\n",
    "\t\tAnimal.__init__(self)\n",
    "\t\tprint(\"Objeto Gato Criado.\")\n",
    "\t\t\n",
    "\tdef emitir_som(self):\n",
    "\t\tprint(\"Miau!\")"
   ]
  },
  {
   "cell_type": "code",
   "execution_count": 4,
   "metadata": {},
   "outputs": [
    {
     "name": "stdout",
     "output_type": "stream",
     "text": [
      "Animal Criado.\n",
      "Objeto Cachorro criado.\n"
     ]
    }
   ],
   "source": [
    "# Criando um objeto (Instanciado a classe)\n",
    "rex = Cachorro()"
   ]
  },
  {
   "cell_type": "code",
   "execution_count": 5,
   "metadata": {},
   "outputs": [
    {
     "name": "stdout",
     "output_type": "stream",
     "text": [
      "Animal Criado.\n",
      "Objeto Gato Criado.\n"
     ]
    }
   ],
   "source": [
    "# Criando um objeto (Instanciado a clase)\n",
    "zeze = Gato()"
   ]
  },
  {
   "cell_type": "code",
   "execution_count": 6,
   "metadata": {},
   "outputs": [
    {
     "name": "stdout",
     "output_type": "stream",
     "text": [
      "Au au!\n"
     ]
    }
   ],
   "source": [
    "# Executando o método da classe Animal (Sub-Classe)\n",
    "rex.emitir_som()"
   ]
  },
  {
   "cell_type": "code",
   "execution_count": 7,
   "metadata": {},
   "outputs": [
    {
     "name": "stdout",
     "output_type": "stream",
     "text": [
      "Miau!\n"
     ]
    }
   ],
   "source": [
    "# Executando o método da classe Animal (Sub-Classe)\n",
    "zeze.emitir_som()"
   ]
  },
  {
   "cell_type": "code",
   "execution_count": 8,
   "metadata": {},
   "outputs": [
    {
     "name": "stdout",
     "output_type": "stream",
     "text": [
      "Hora de comer.\n"
     ]
    }
   ],
   "source": [
    "# Executando o método da classe Animal (Super-Classe)\n",
    "rex.comer()"
   ]
  },
  {
   "cell_type": "code",
   "execution_count": 9,
   "metadata": {},
   "outputs": [
    {
     "name": "stdout",
     "output_type": "stream",
     "text": [
      "Hora de comer.\n"
     ]
    }
   ],
   "source": [
    "# Executando o método da classe Animal (Super-Classe)\n",
    "zeze.comer()"
   ]
  }
 ],
 "metadata": {
  "kernelspec": {
   "display_name": "Python 3",
   "language": "python",
   "name": "python3"
  },
  "language_info": {
   "codemirror_mode": {
    "name": "ipython",
    "version": 3
   },
   "file_extension": ".py",
   "mimetype": "text/x-python",
   "name": "python",
   "nbconvert_exporter": "python",
   "pygments_lexer": "ipython3",
   "version": "3.12.0"
  }
 },
 "nbformat": 4,
 "nbformat_minor": 2
}
