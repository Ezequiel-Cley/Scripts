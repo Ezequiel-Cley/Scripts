{
 "cells": [
  {
   "cell_type": "markdown",
   "metadata": {},
   "source": [
    "# Um exemplo prático de Regressão Fatorial\n",
    " \n",
    "Neste exemplo, vamos trabalhar com dados de amostra para três variáveis preditoras 1​χ2​χ3​ , e uma variável de resposta y​ \n",
    "\n",
    "Como sempre, o primeiro passo consiste em carregar os pacotes que vamos trabalhar, conforme o código abaixo:\n"
   ]
  },
  {
   "cell_type": "code",
   "execution_count": 1,
   "metadata": {},
   "outputs": [],
   "source": [
    "import numpy as np\n",
    "import statsmodels.api as sm"
   ]
  },
  {
   "cell_type": "markdown",
   "metadata": {},
   "source": [
    "Em seguida, geramos os dados para as variáveis independentes:\n"
   ]
  },
  {
   "cell_type": "code",
   "execution_count": 3,
   "metadata": {},
   "outputs": [],
   "source": [
    "x1 = np.random.normal(size=100)\n",
    "\n",
    "x2 = np.random.normal(size=100)\n",
    "\n",
    "x3 = np.random.normal(size=100)\n",
    "\n",
    "y = 2 + 3 * x1 +4 * x2 + 5 * x3 + np.random.normal(size=100)"
   ]
  },
  {
   "cell_type": "markdown",
   "metadata": {},
   "source": [
    "Nosso próximo passo consiste em ajustarmos um modelo, usando todas as variáveis dependentes - nesse contexto, chamamos de variáveis preditoras -, bem como os três termos de interação χ2​ ∗χ1 ∗χ3 ∗χ2 ∗χ3 e χ1 ∗ χ2 ∗ χ3, conforme o código abaixo:"
   ]
  },
  {
   "cell_type": "code",
   "execution_count": 4,
   "metadata": {},
   "outputs": [],
   "source": [
    "X = sm.add_constant(np.column_stack((x1, \n",
    "\n",
    "                                     x2, \n",
    "\n",
    "                                     x3, \n",
    "\n",
    "                                     x1*x2, \n",
    "\n",
    "                                     x1*x3, \n",
    "\n",
    "                                     x2*x3,\n",
    "\n",
    "                                     x1*x2*x3)))\n",
    "\n",
    "modelo = sm.OLS(y, X).fit()"
   ]
  },
  {
   "cell_type": "markdown",
   "metadata": {},
   "source": [
    "Por fim, imprimimos o resumo do modelo ajustado:"
   ]
  },
  {
   "cell_type": "code",
   "execution_count": 5,
   "metadata": {},
   "outputs": [
    {
     "name": "stdout",
     "output_type": "stream",
     "text": [
      "                            OLS Regression Results                            \n",
      "==============================================================================\n",
      "Dep. Variable:                      y   R-squared:                       0.982\n",
      "Model:                            OLS   Adj. R-squared:                  0.980\n",
      "Method:                 Least Squares   F-statistic:                     703.6\n",
      "Date:                Thu, 02 May 2024   Prob (F-statistic):           5.89e-77\n",
      "Time:                        10:43:24   Log-Likelihood:                -137.12\n",
      "No. Observations:                 100   AIC:                             290.2\n",
      "Df Residuals:                      92   BIC:                             311.1\n",
      "Df Model:                           7                                         \n",
      "Covariance Type:            nonrobust                                         \n",
      "==============================================================================\n",
      "                 coef    std err          t      P>|t|      [0.025      0.975]\n",
      "------------------------------------------------------------------------------\n",
      "const          2.1079      0.103     20.541      0.000       1.904       2.312\n",
      "x1             3.0253      0.103     29.281      0.000       2.820       3.230\n",
      "x2             3.8971      0.103     37.968      0.000       3.693       4.101\n",
      "x3             5.1162      0.106     48.246      0.000       4.906       5.327\n",
      "x4            -0.2521      0.123     -2.042      0.044      -0.497      -0.007\n",
      "x5            -0.0305      0.110     -0.278      0.781      -0.248       0.187\n",
      "x6             0.0430      0.113      0.379      0.706      -0.182       0.268\n",
      "x7            -0.1659      0.132     -1.255      0.213      -0.428       0.097\n",
      "==============================================================================\n",
      "Omnibus:                        0.342   Durbin-Watson:                   1.460\n",
      "Prob(Omnibus):                  0.843   Jarque-Bera (JB):                0.511\n",
      "Skew:                          -0.079   Prob(JB):                        0.774\n",
      "Kurtosis:                       2.688   Cond. No.                         1.90\n",
      "==============================================================================\n",
      "\n",
      "Notes:\n",
      "[1] Standard Errors assume that the covariance matrix of the errors is correctly specified.\n"
     ]
    }
   ],
   "source": [
    "print(modelo.summary())\n",
    "#Cuja saída é dada por:"
   ]
  },
  {
   "cell_type": "markdown",
   "metadata": {},
   "source": [
    "Na figura, temos diversas informações sobre o comportamento do nosso modelo. Agora, chegou o momento de resolvermos os exercícios que nos ajudarão a consolidar o nosso aprendizado. Bons estudos!"
   ]
  }
 ],
 "metadata": {
  "kernelspec": {
   "display_name": "Python 3",
   "language": "python",
   "name": "python3"
  },
  "language_info": {
   "codemirror_mode": {
    "name": "ipython",
    "version": 3
   },
   "file_extension": ".py",
   "mimetype": "text/x-python",
   "name": "python",
   "nbconvert_exporter": "python",
   "pygments_lexer": "ipython3",
   "version": "3.12.0"
  }
 },
 "nbformat": 4,
 "nbformat_minor": 2
}
