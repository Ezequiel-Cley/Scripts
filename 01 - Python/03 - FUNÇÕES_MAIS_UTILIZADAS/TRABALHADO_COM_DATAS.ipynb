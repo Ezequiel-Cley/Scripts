{
 "cells": [
  {
   "cell_type": "code",
   "execution_count": 38,
   "metadata": {},
   "outputs": [],
   "source": [
    "import pandas as pd\n",
    "import datetime as dt\n",
    "from datetime import timedelta\n",
    "import calendar"
   ]
  },
  {
   "cell_type": "code",
   "execution_count": 29,
   "metadata": {},
   "outputs": [
    {
     "name": "stdout",
     "output_type": "stream",
     "text": [
      "Nome_do_Inscrito     object\n",
      "Data_Participação    object\n",
      "Data_Inscrição       object\n",
      "Ativo                  bool\n",
      "Nascimento           object\n",
      "Data_Atual           object\n",
      "dtype: object\n"
     ]
    }
   ],
   "source": [
    "# Criar DataFrame simples Para realizar alterações de seus Tipos\n",
    "data = {'Nome_do_Inscrito': ['Alice', 'Bob', 'Charlie'],\n",
    "        'Data_Participação': ['19/10/2023 15:48:02', '30/04/2021 08:49:36', '22/01/2023 11:00:59'],\n",
    "        'Data_Inscrição': ['2023-10-10 09:00:01', '2021-03-17 15:47:14', '2022-12-01 14:06:52'],\n",
    "        'Ativo': [True, False, True],\n",
    "        'Nascimento': ['19981017','19960715','20000101'],\n",
    "        'Data_Atual':['20240119195730','20240119204010','20240120081101']\n",
    "        }\n",
    "\n",
    "# Trasformar data em um dataframe\n",
    "df = pd.DataFrame(data)\n",
    "\n",
    "# Verificando o tipo atual\n",
    "print(df.dtypes)"
   ]
  },
  {
   "cell_type": "code",
   "execution_count": 30,
   "metadata": {},
   "outputs": [
    {
     "name": "stderr",
     "output_type": "stream",
     "text": [
      "C:\\Users\\ezequ\\AppData\\Local\\Temp\\ipykernel_16604\\1874208451.py:2: UserWarning: Parsing dates in %d/%m/%Y %H:%M:%S format when dayfirst=False (the default) was specified. Pass `dayfirst=True` or specify a format to silence this warning.\n",
      "  pd.to_datetime(df['Data_Participação'], errors='ignore')\n"
     ]
    },
    {
     "data": {
      "text/plain": [
       "0   2023-10-19 15:48:02\n",
       "1   2021-04-30 08:49:36\n",
       "2   2023-01-22 11:00:59\n",
       "Name: Data_Participação, dtype: datetime64[ns]"
      ]
     },
     "execution_count": 30,
     "metadata": {},
     "output_type": "execute_result"
    }
   ],
   "source": [
    "# Realizado a trasformação ignorando erros\n",
    "pd.to_datetime(df['Data_Participação'], errors='ignore')"
   ]
  },
  {
   "cell_type": "code",
   "execution_count": 31,
   "metadata": {},
   "outputs": [
    {
     "data": {
      "text/plain": [
       "0   1998-10-17\n",
       "1   1996-07-15\n",
       "2   2000-01-01\n",
       "Name: Nascimento, dtype: datetime64[ns]"
      ]
     },
     "execution_count": 31,
     "metadata": {},
     "output_type": "execute_result"
    }
   ],
   "source": [
    "# Alterar a Coluna Nascimento para o tipo data > Informando o Formato atual dos Dados:\n",
    "pd.to_datetime(df['Nascimento'], format='%Y%m%d')"
   ]
  },
  {
   "cell_type": "code",
   "execution_count": 32,
   "metadata": {},
   "outputs": [
    {
     "name": "stderr",
     "output_type": "stream",
     "text": [
      "C:\\Users\\ezequ\\AppData\\Local\\Temp\\ipykernel_16604\\2190779741.py:2: UserWarning: The argument 'infer_datetime_format' is deprecated and will be removed in a future version. A strict version of it is now the default, see https://pandas.pydata.org/pdeps/0004-consistent-to-datetime-parsing.html. You can safely remove this argument.\n",
      "  pd.to_datetime(df['Data_Atual'], infer_datetime_format='%Y%m%d%H%M%S')\n"
     ]
    },
    {
     "data": {
      "text/plain": [
       "0   2024-01-19 19:57:30\n",
       "1   2024-01-19 20:40:10\n",
       "2   2024-01-20 08:11:01\n",
       "Name: Data_Atual, dtype: datetime64[ns]"
      ]
     },
     "execution_count": 32,
     "metadata": {},
     "output_type": "execute_result"
    }
   ],
   "source": [
    "# Alterando a Data Atual para DateTime, Informando o Formato atual do Dados\n",
    "pd.to_datetime(df['Data_Atual'], infer_datetime_format='%Y%m%d%H%M%S')"
   ]
  },
  {
   "cell_type": "code",
   "execution_count": 39,
   "metadata": {},
   "outputs": [
    {
     "data": {
      "text/plain": [
       "Timestamp('2024-03-29 20:19:42.138289')"
      ]
     },
     "execution_count": 39,
     "metadata": {},
     "output_type": "execute_result"
    }
   ],
   "source": [
    "# Obtendo a Data e Hora Atual e informado que deseja em seu formato os dados de Milisegundos\n",
    "pd.to_datetime(dt.datetime.now(), format='%Y%m%d%H%M%S%f')"
   ]
  },
  {
   "cell_type": "code",
   "execution_count": 40,
   "metadata": {},
   "outputs": [
    {
     "name": "stdout",
     "output_type": "stream",
     "text": [
      "2024-03-28\n"
     ]
    }
   ],
   "source": [
    "# Obtendo a data atual de ontem Dinamicamente\n",
    "print((dt.datetime.today() - timedelta(1)).date())"
   ]
  },
  {
   "cell_type": "code",
   "execution_count": 49,
   "metadata": {},
   "outputs": [
    {
     "name": "stdout",
     "output_type": "stream",
     "text": [
      "2024-03-01\n"
     ]
    }
   ],
   "source": [
    "# Primeiro dia do mês dinamicamente (mês atual)\n",
    "\n",
    "# Criando Variavel para armazenar a data e Hora Atual\n",
    "Agora = dt.datetime.now()\n",
    "# Apartir da Variavel da Agora trazemos o primeiro dia do Mês\n",
    "print(dt.datetime(Agora.year, Agora.month, 1).date())"
   ]
  },
  {
   "cell_type": "code",
   "execution_count": 52,
   "metadata": {},
   "outputs": [
    {
     "name": "stdout",
     "output_type": "stream",
     "text": [
      "2024-03-31\n"
     ]
    }
   ],
   "source": [
    "# Último dia do mês dinamicamente (mês atual)\n",
    "\n",
    "# Criando Variavel para armazenar a data e Hora Atual\n",
    "Agora = dt.datetime.now()\n",
    "# A partir da Variavel Agora e da biblioteca Calendar trazemos o ultimo dia do Mês\n",
    "print(dt.datetime(Agora.year, Agora.month, calendar.monthrange(Agora.year, Agora.month)[1]).date())"
   ]
  },
  {
   "cell_type": "code",
   "execution_count": 58,
   "metadata": {},
   "outputs": [
    {
     "name": "stdout",
     "output_type": "stream",
     "text": [
      "20:28:19.750313\n"
     ]
    }
   ],
   "source": [
    "# Hora atual dinamicamente\n",
    "print(dt.datetime.now().time())\n"
   ]
  },
  {
   "cell_type": "code",
   "execution_count": 59,
   "metadata": {},
   "outputs": [
    {
     "name": "stdout",
     "output_type": "stream",
     "text": [
      "20\n",
      "30\n",
      "20\n"
     ]
    }
   ],
   "source": [
    "# Dividir a hora atual em horas, minutos e segundos\n",
    "\n",
    "# Obtendo apenas a Hora\n",
    "print(dt.datetime.now().time().hour)\n",
    "# Obtendo apenas os Minutos\n",
    "print(dt.datetime.now().time().minute)\n",
    "# Obtendo apenas os Segundos\n",
    "print(dt.datetime.now().time().second)"
   ]
  }
 ],
 "metadata": {
  "kernelspec": {
   "display_name": "Python 3",
   "language": "python",
   "name": "python3"
  },
  "language_info": {
   "codemirror_mode": {
    "name": "ipython",
    "version": 3
   },
   "file_extension": ".py",
   "mimetype": "text/x-python",
   "name": "python",
   "nbconvert_exporter": "python",
   "pygments_lexer": "ipython3",
   "version": "3.12.0"
  }
 },
 "nbformat": 4,
 "nbformat_minor": 2
}
