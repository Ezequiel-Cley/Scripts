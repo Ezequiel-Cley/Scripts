{
 "cells": [
  {
   "cell_type": "code",
   "execution_count": 3,
   "metadata": {},
   "outputs": [],
   "source": [
    "from datetime import date\n",
    "from time import sleep\n",
    "import os"
   ]
  },
  {
   "cell_type": "code",
   "execution_count": 6,
   "metadata": {},
   "outputs": [],
   "source": [
    "# Cria variáveis para o caminho dos arquivos\n",
    "# Definindo Varivael com o Caminho completo do local onde deve enviar o arquivo 01 :\n",
    "file_path_s = fr'C:\\Users\\ezequ\\Scripts\\02 - MEUS_PROJETOS\\02 - ENVIO_SFTP+VALIDACAO\\01 - ENVIO_BASICO.py'\n",
    "# Definindo o Local onde se encontra o arquivo que deve ser encaminhado arquivo 01:\n",
    "file_path_r = fr'C:\\Users\\ezequ\\Scripts\\02 - MEUS_PROJETOS\\02 - ENVIO_SFTP+VALIDACAO\\01 - ENVIO_BASICO.py'\n",
    "# Definindo Varivael com o Caminho completo do local onde deve enviar o arquivo 01 :\n",
    "file_path_s_2 = fr'C:\\Users\\ezequ\\Scripts\\02 - MEUS_PROJETOS\\02 - ENVIO_SFTP+VALIDACAO\\01 - ENVIO_BASICO.py'\n",
    "# Definindo o Local onde se encontra o arquivo que deve ser encaminhado arquivo 01:\n",
    "file_path_r_2 = fr'C:\\Users\\ezequ\\Scripts\\02 - MEUS_PROJETOS\\02 - ENVIO_SFTP+VALIDACAO\\01 - ENVIO_BASICO.py'\n",
    "\n",
    "fulls_path = {file_path_s,file_path_r,file_path_r_2, file_path_s_2}\n",
    "\n",
    "for i in fulls_path:\n",
    "    # Verifica se o arquivo 01 existe\n",
    "    if not os.path.exists(i):\n",
    "        raise FileNotFoundError(\"O arquivo não foi encontrado\")"
   ]
  },
  {
   "cell_type": "code",
   "execution_count": null,
   "metadata": {},
   "outputs": [],
   "source": [
    "try:\n",
    "    # Realiza o envio do arquivo via SFTP do primeiro arquivo\n",
    "    sftp.put(file_path_r, file_path_s)\n",
    "    print(\"Upload realizado com sucesso do Arquivo 01\")\n",
    "\n",
    "except Exception as e:\n",
    "    print(\"Erro ao realizar o upload:\", e)\n",
    "\n",
    "sleep(3)"
   ]
  }
 ],
 "metadata": {
  "kernelspec": {
   "display_name": "Python 3",
   "language": "python",
   "name": "python3"
  },
  "language_info": {
   "codemirror_mode": {
    "name": "ipython",
    "version": 3
   },
   "file_extension": ".py",
   "mimetype": "text/x-python",
   "name": "python",
   "nbconvert_exporter": "python",
   "pygments_lexer": "ipython3",
   "version": "3.12.0"
  }
 },
 "nbformat": 4,
 "nbformat_minor": 2
}
