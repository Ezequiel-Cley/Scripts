{
 "cells": [
  {
   "cell_type": "code",
   "execution_count": 20,
   "metadata": {},
   "outputs": [],
   "source": [
    "import pandas as pd\n",
    "import datetime as dt"
   ]
  },
  {
   "cell_type": "code",
   "execution_count": 16,
   "metadata": {},
   "outputs": [
    {
     "data": {
      "text/plain": [
       "Nome_do_Inscrito     object\n",
       "Data_Participação    object\n",
       "Data_Inscrição       object\n",
       "Ativo                  bool\n",
       "Nascimento           object\n",
       "Data_Atual           object\n",
       "dtype: object"
      ]
     },
     "execution_count": 16,
     "metadata": {},
     "output_type": "execute_result"
    }
   ],
   "source": [
    "# Criar DataFrame simples Para realizar alterações de seus Tipos\n",
    "data = {'Nome_do_Inscrito': ['Alice', 'Bob', 'Charlie'],\n",
    "        'Data_Participação': ['19/10/2023 15:48:02', '30/04/2021 08:49:36', '22/01/2023 11:00:59'],\n",
    "        'Data_Inscrição': ['2023-10-10 09:00:01', '2021-03-17 15:47:14', '2022-12-01 14:06:52'],\n",
    "        'Ativo': [True, False, True],\n",
    "        'Nascimento': ['19981017','19960715','20000101'],\n",
    "        'Data_Atual':['20240119195730','20240119204010','20240120081101']\n",
    "        }\n",
    "\n",
    "# Trasformar data em um dataframe\n",
    "df = pd.DataFrame(data)\n",
    "\n",
    "# Verificando o tipo atual\n",
    "df.dtypes"
   ]
  },
  {
   "cell_type": "code",
   "execution_count": 17,
   "metadata": {},
   "outputs": [
    {
     "name": "stderr",
     "output_type": "stream",
     "text": [
      "C:\\Users\\ezequ\\AppData\\Local\\Temp\\ipykernel_7032\\1874208451.py:2: UserWarning: Parsing dates in %d/%m/%Y %H:%M:%S format when dayfirst=False (the default) was specified. Pass `dayfirst=True` or specify a format to silence this warning.\n",
      "  pd.to_datetime(df['Data_Participação'], errors='ignore')\n"
     ]
    },
    {
     "data": {
      "text/plain": [
       "0   2023-10-19 15:48:02\n",
       "1   2021-04-30 08:49:36\n",
       "2   2023-01-22 11:00:59\n",
       "Name: Data_Participação, dtype: datetime64[ns]"
      ]
     },
     "execution_count": 17,
     "metadata": {},
     "output_type": "execute_result"
    }
   ],
   "source": [
    "# Realizado a trasformação ignorando erros\n",
    "pd.to_datetime(df['Data_Participação'], errors='ignore')"
   ]
  },
  {
   "cell_type": "code",
   "execution_count": 18,
   "metadata": {},
   "outputs": [
    {
     "data": {
      "text/plain": [
       "0   1998-10-17\n",
       "1   1996-07-15\n",
       "2   2000-01-01\n",
       "Name: Nascimento, dtype: datetime64[ns]"
      ]
     },
     "execution_count": 18,
     "metadata": {},
     "output_type": "execute_result"
    }
   ],
   "source": [
    "# Alterar a Coluna Nascimento para o tipo data > Informando o Formato que está atual\n",
    "pd.to_datetime(df['Nascimento'], format='%Y%m%d')"
   ]
  },
  {
   "cell_type": "code",
   "execution_count": 19,
   "metadata": {},
   "outputs": [
    {
     "name": "stderr",
     "output_type": "stream",
     "text": [
      "C:\\Users\\ezequ\\AppData\\Local\\Temp\\ipykernel_7032\\2497963215.py:1: UserWarning: The argument 'infer_datetime_format' is deprecated and will be removed in a future version. A strict version of it is now the default, see https://pandas.pydata.org/pdeps/0004-consistent-to-datetime-parsing.html. You can safely remove this argument.\n",
      "  pd.to_datetime(df['Data_Atual'], infer_datetime_format='%Y%m%d%H%M%S')\n"
     ]
    },
    {
     "data": {
      "text/plain": [
       "0   2024-01-19 19:57:30\n",
       "1   2024-01-19 20:40:10\n",
       "2   2024-01-20 08:11:01\n",
       "Name: Data_Atual, dtype: datetime64[ns]"
      ]
     },
     "execution_count": 19,
     "metadata": {},
     "output_type": "execute_result"
    }
   ],
   "source": [
    "pd.to_datetime(df['Data_Atual'], infer_datetime_format='%Y%m%d%H%M%S')"
   ]
  },
  {
   "cell_type": "code",
   "execution_count": 26,
   "metadata": {},
   "outputs": [
    {
     "data": {
      "text/plain": [
       "Timestamp('2024-01-19 21:39:01.704406')"
      ]
     },
     "execution_count": 26,
     "metadata": {},
     "output_type": "execute_result"
    }
   ],
   "source": [
    "# Data e hora com os milesegundos\n",
    "pd.to_datetime(dt.datetime.now(), format='%Y%m%d%H%M%S%f')"
   ]
  }
 ],
 "metadata": {
  "kernelspec": {
   "display_name": "Python 3",
   "language": "python",
   "name": "python3"
  },
  "language_info": {
   "codemirror_mode": {
    "name": "ipython",
    "version": 3
   },
   "file_extension": ".py",
   "mimetype": "text/x-python",
   "name": "python",
   "nbconvert_exporter": "python",
   "pygments_lexer": "ipython3",
   "version": "3.12.0"
  }
 },
 "nbformat": 4,
 "nbformat_minor": 2
}
