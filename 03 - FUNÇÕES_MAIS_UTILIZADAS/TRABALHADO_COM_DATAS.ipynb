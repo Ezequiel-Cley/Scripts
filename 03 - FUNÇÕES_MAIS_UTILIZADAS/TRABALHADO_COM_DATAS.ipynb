{
 "cells": [
  {
   "cell_type": "code",
   "execution_count": 1,
   "metadata": {},
   "outputs": [],
   "source": [
    "import pandas as pd"
   ]
  },
  {
   "cell_type": "code",
   "execution_count": 4,
   "metadata": {},
   "outputs": [
    {
     "data": {
      "text/plain": [
       "Nome_do_Inscrito     object\n",
       "Data_Participação    object\n",
       "Data_Inscrição       object\n",
       "Ativo                  bool\n",
       "Nascimento           object\n",
       "dtype: object"
      ]
     },
     "execution_count": 4,
     "metadata": {},
     "output_type": "execute_result"
    }
   ],
   "source": [
    "# Criar DataFrame simples Para realizar alterações de seus Tipos\n",
    "data = {'Nome_do_Inscrito': ['Alice', 'Bob', 'Charlie'],\n",
    "        'Data_Participação': ['19/10/2023 15:48:02', '30/04/2021 08:49:36', '22/01/2023 11:00:59'],\n",
    "        'Data_Inscrição': ['2023-10-10 09:00:01', '2021-03-17 15:47:14', '2022-12-01 14:06:52'],\n",
    "        'Ativo': [True, False, True],\n",
    "        'Nascimento': ['1998-10-17','1996-07-15','2000-01-01']\n",
    "        }\n",
    "\n",
    "# Trasformar data em um dataframe\n",
    "df = pd.DataFrame(data)\n",
    "\n",
    "# Verificando o tipo atual\n",
    "df.dtypes"
   ]
  },
  {
   "cell_type": "code",
   "execution_count": null,
   "metadata": {},
   "outputs": [],
   "source": [
    "df['Data_Participação'] = df['Data_Participação']\n",
    "# Alterar a Coluna Nascimento para o tipo data e hora\n",
    "df['Nascimento'] = pd.to_datetime(df['Nascimento'], format='%Y-%m-%d')\n"
   ]
  }
 ],
 "metadata": {
  "kernelspec": {
   "display_name": "Python 3",
   "language": "python",
   "name": "python3"
  },
  "language_info": {
   "codemirror_mode": {
    "name": "ipython",
    "version": 3
   },
   "file_extension": ".py",
   "mimetype": "text/x-python",
   "name": "python",
   "nbconvert_exporter": "python",
   "pygments_lexer": "ipython3",
   "version": "3.12.0"
  }
 },
 "nbformat": 4,
 "nbformat_minor": 2
}
