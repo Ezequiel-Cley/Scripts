{
 "cells": [
  {
   "cell_type": "code",
   "execution_count": 1,
   "metadata": {},
   "outputs": [],
   "source": [
    "import pandas as pd"
   ]
  },
  {
   "cell_type": "code",
   "execution_count": 13,
   "metadata": {},
   "outputs": [
    {
     "name": "stdout",
     "output_type": "stream",
     "text": [
      "DataFrame Original:\n",
      "      Nome Idade Altura  Casado  Nascimento\n",
      "0    Alice    25   1.65    True  1998-10-17\n",
      "1      Bob    30   1.78   False  1996-07-15\n",
      "2  Charlie    22   1.70    True  2000-01-01\n",
      "\n",
      "Tipos de Dados:\n",
      "Nome          object\n",
      "Idade         object\n",
      "Altura        object\n",
      "Casado          bool\n",
      "Nascimento    object\n",
      "dtype: object\n",
      "\n",
      "\n"
     ]
    }
   ],
   "source": [
    "# Criar DataFrame simples Para realizar alterações de seus Tipos\n",
    "data = {'Nome': ['Alice', 'Bob', 'Charlie'],\n",
    "        'Idade': ['25', '30', '22'],\n",
    "        'Altura': ['1.65', '1.78', '1.70'],\n",
    "        'Casado': [True, False, True],\n",
    "        'Nascimento': ['1998-10-17','1996-07-15','2000-01-01']\n",
    "        }\n",
    "\n",
    "# Trasformar data em um dataframe\n",
    "df = pd.DataFrame(data)\n",
    "\n",
    "# Exibir DataFrame original\n",
    "print(\"DataFrame Original:\")\n",
    "print(df)\n",
    "# Exibir a Tipagem original do DataFrame\n",
    "print(\"\\nTipos de Dados:\")\n",
    "print(df.dtypes)\n",
    "print(\"\\n\")"
   ]
  },
  {
   "cell_type": "code",
   "execution_count": 14,
   "metadata": {},
   "outputs": [
    {
     "name": "stdout",
     "output_type": "stream",
     "text": [
      "DataFrame Após a Alteração:\n",
      "      Nome  Idade  Altura Casado Nascimento\n",
      "0    Alice     25    1.65   True 1998-10-17\n",
      "1      Bob     30    1.78  False 1996-07-15\n",
      "2  Charlie     22    1.70   True 2000-01-01\n",
      "\n",
      "Tipos de Dados Após a Alteração:\n",
      "Nome                  object\n",
      "Idade                  int32\n",
      "Altura               float64\n",
      "Casado                object\n",
      "Nascimento    datetime64[ns]\n",
      "dtype: object\n"
     ]
    }
   ],
   "source": [
    "# Alterar tipos de dados\n",
    "# Alterar a Coluna Idade para tipo inteiro(Int)\n",
    "df['Idade'] = pd.to_numeric(df['Idade'].astype(int))\n",
    "\n",
    "# Alterar a Coluna Altura para tipo Flutuante(Double)\n",
    "df['Altura'] = pd.to_numeric(df['Altura'])\n",
    "\n",
    "# Alterar a Coluna Casado tipo para Objeto(String)\n",
    "df['Casado'] = df['Casado'].astype(str)\n",
    "\n",
    "# Alterar a Coluna Nascimento para o tipo data e hora(DateTime)\n",
    "df['Nascimento'] = pd.to_datetime(df['Nascimento'], format='%Y-%m-%d')\n",
    "\n",
    "# Exibir DataFrame após a alteração\n",
    "print(\"DataFrame Após a Alteração:\")\n",
    "print(df)\n",
    "print(\"\\nTipos de Dados Após a Alteração:\")\n",
    "print(df.dtypes)"
   ]
  }
 ],
 "metadata": {
  "kernelspec": {
   "display_name": "Python 3",
   "language": "python",
   "name": "python3"
  },
  "language_info": {
   "codemirror_mode": {
    "name": "ipython",
    "version": 3
   },
   "file_extension": ".py",
   "mimetype": "text/x-python",
   "name": "python",
   "nbconvert_exporter": "python",
   "pygments_lexer": "ipython3",
   "version": "3.12.0"
  }
 },
 "nbformat": 4,
 "nbformat_minor": 2
}
